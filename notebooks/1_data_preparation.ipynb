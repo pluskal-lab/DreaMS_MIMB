{
 "cells": [
  {
   "cell_type": "code",
   "execution_count": null,
   "id": "initial_id",
   "metadata": {
    "collapsed": true
   },
   "outputs": [],
   "source": [
    "# paths.py\n",
    "from pathlib import Path\n",
    "\n",
    "#: Always points to the root of the project\n",
    "PROJECT_ROOT = Path(__file__).resolve().parent"
   ]
  },
  {
   "metadata": {},
   "cell_type": "markdown",
   "source": [
    "# 1. Data preparation\n",
    "\n",
    "Load a single `.mzML` from `data/rawfiles/`, inspect its contents, filter to positive‐ion spectra only, apply quality control, and cache as a clean HDF5.\n",
    "\n",
    "We do positive because DreaMS were rained only on single charge positive ionizations"
   ],
   "id": "dcd94e967f594fcb"
  },
  {
   "metadata": {
    "ExecuteTime": {
     "end_time": "2025-07-03T11:57:25.957378Z",
     "start_time": "2025-07-03T11:57:08.451246Z"
    }
   },
   "cell_type": "code",
   "source": [
    "# 1) prep imports & repo‐root‐aware paths\n",
    "import sys\n",
    "from pathlib import Path\n",
    "import numpy as np\n",
    "import pandas as pd\n",
    "\n",
    "# make PROJECT_ROOT available\n",
    "sys.path.append(str(Path().resolve().parent))\n",
    "from paths import PROJECT_ROOT\n",
    "\n",
    "# DreaMS imports\n",
    "from dreams.utils.data import MSData\n",
    "from dreams.utils.dformats import DataFormatA\n",
    "from dreams.utils.spectra import unpad_peak_list\n",
    "from dreams.utils.io import append_to_stem"
   ],
   "id": "bbdc56a8e8432df5",
   "outputs": [
    {
     "name": "stderr",
     "output_type": "stream",
     "text": [
      "/Users/macbook/UTILS/anaconda3/envs/dreams_mimb/lib/python3.11/site-packages/lightning_fabric/__init__.py:41: pkg_resources is deprecated as an API. See https://setuptools.pypa.io/en/latest/pkg_resources.html. The pkg_resources package is slated for removal as early as 2025-11-30. Refrain from using this package or pin to Setuptools<81.\n",
      "Determination of memory status is not supported on this \n",
      " platform, measuring for memoryleaks will never fail\n"
     ]
    }
   ],
   "execution_count": 1
  },
  {
   "metadata": {},
   "cell_type": "markdown",
   "source": "## 1.1 Place you path to file here",
   "id": "daf312795b26cb9d"
  },
  {
   "metadata": {
    "ExecuteTime": {
     "end_time": "2025-07-03T11:57:25.962391Z",
     "start_time": "2025-07-03T11:57:25.960435Z"
    }
   },
   "cell_type": "code",
   "source": [
    "# 2) define the input file and HDF5 cache path\n",
    "mzml_path = PROJECT_ROOT / \"data\" / \"rawfiles\" / \"202312_20_P09-Leaf-r1_1uL.mzML\"\n",
    "h5_path   = mzml_path.with_suffix(\".hdf5\")"
   ],
   "id": "8e3f4034185c6486",
   "outputs": [],
   "execution_count": 2
  },
  {
   "metadata": {
    "ExecuteTime": {
     "end_time": "2025-07-03T11:58:34.323891Z",
     "start_time": "2025-07-03T11:58:32.357942Z"
    }
   },
   "cell_type": "code",
   "source": [
    "# 3) load or cache to HDF5\n",
    "if h5_path.exists():\n",
    "    msdata = MSData.from_hdf5(h5_path, in_mem=True)\n",
    "else:\n",
    "    msdata = MSData.from_mzml(mzml_path, in_mem=True)"
   ],
   "id": "8fe26b96d9907b07",
   "outputs": [
    {
     "name": "stdout",
     "output_type": "stream",
     "text": [
      "Loading dataset 202312_20_P09-Leaf-r1_1uL into memory (5681 spectra)...\n"
     ]
    }
   ],
   "execution_count": 3
  },
  {
   "metadata": {
    "ExecuteTime": {
     "end_time": "2025-07-03T11:58:46.657235Z",
     "start_time": "2025-07-03T11:58:46.653915Z"
    }
   },
   "cell_type": "code",
   "source": [
    "# 4) inspect which columns/attributes we have\n",
    "print(\"columns in MSData:\", msdata.columns())"
   ],
   "id": "fddd136b45f69855",
   "outputs": [
    {
     "name": "stdout",
     "output_type": "stream",
     "text": [
      "columns in MSData: ['RT', 'charge', 'file_name', 'precursor_mz', 'scan_number', 'spectrum']\n"
     ]
    }
   ],
   "execution_count": 4
  },
  {
   "metadata": {},
   "cell_type": "markdown",
   "source": "## Visualize spectra at location 0. ",
   "id": "52c722712c9e80bb"
  },
  {
   "metadata": {
    "ExecuteTime": {
     "end_time": "2025-07-03T12:18:19.533248Z",
     "start_time": "2025-07-03T12:18:19.394078Z"
    }
   },
   "cell_type": "code",
   "source": "msdata.at(0)",
   "id": "50fd58b3c11d1ae7",
   "outputs": [
    {
     "data": {
      "text/plain": [
       "<Figure size 600x200 with 1 Axes>"
      ],
      "image/png": "[encoded data removed]"
     },
     "metadata": {},
     "output_type": "display_data"
    },
    {
     "data": {
      "text/plain": [
       "{'RT': 31.506183936,\n",
       " 'charge': 0,\n",
       " 'file_name': '202312_20_P09-Leaf-r1_1uL.mzML',\n",
       " 'precursor_mz': 241.884170532227,\n",
       " 'scan_number': 86}"
      ]
     },
     "execution_count": 9,
     "metadata": {},
     "output_type": "execute_result"
    }
   ],
   "execution_count": 9
  },
  {
   "metadata": {},
   "cell_type": "markdown",
   "source": "### here is important and one instance holds infrmation from input file, plus its file name and scan_number which works for spectra identification and will be maintain over all tutorial to trace back processed spectra to origin",
   "id": "c90e5c072dd23ae6"
  },
  {
   "metadata": {
    "ExecuteTime": {
     "end_time": "2025-07-03T12:43:30.329589Z",
     "start_time": "2025-07-03T12:43:30.321353Z"
    }
   },
   "cell_type": "code",
   "source": [
    "# 3) Retrieve all m/z–intensity arrays (padded):\n",
    "spectra = msdata.get_spectra()  # numpy ndarray, shape (N,2,P)\n",
    "print(spectra.shape)"
   ],
   "id": "7fa5d8b515bb0c69",
   "outputs": [
    {
     "name": "stdout",
     "output_type": "stream",
     "text": [
      "(5681, 2, 128)\n"
     ]
    }
   ],
   "execution_count": 13
  },
  {
   "metadata": {},
   "cell_type": "markdown",
   "source": "## So our file containg 5681 spectra, then we have one array just for mzs and second for its intensities.",
   "id": "27e2a12fc3196511"
  },
  {
   "metadata": {
    "ExecuteTime": {
     "end_time": "2025-07-03T12:43:56.251660Z",
     "start_time": "2025-07-03T12:43:56.247010Z"
    }
   },
   "cell_type": "code",
   "source": [
    "# 4) Inspect one spectrum (with zeros = padding):\n",
    "import numpy as np\n",
    "np.set_printoptions(precision=4, suppress=True)\n",
    "print(spectra[0])"
   ],
   "id": "9736acb2c45739c6",
   "outputs": [
    {
     "name": "stdout",
     "output_type": "stream",
     "text": [
      "[[   53.8327    55.9341    58.6939    72.9368    90.9475   102.0474\n",
      "    113.9632   173.5249   173.5422   190.8727   192.8889   195.9438\n",
      "    201.8877   206.8678   208.8836   218.8892   219.8978   226.8952\n",
      "    236.8765     0.         0.         0.         0.         0.\n",
      "      0.         0.         0.         0.         0.         0.\n",
      "      0.         0.         0.         0.         0.         0.\n",
      "      0.         0.         0.         0.         0.         0.\n",
      "      0.         0.         0.         0.         0.         0.\n",
      "      0.         0.         0.         0.         0.         0.\n",
      "      0.         0.         0.         0.         0.         0.\n",
      "      0.         0.         0.         0.         0.         0.\n",
      "      0.         0.         0.         0.         0.         0.\n",
      "      0.         0.         0.         0.         0.         0.\n",
      "      0.         0.         0.         0.         0.         0.\n",
      "      0.         0.         0.         0.         0.         0.\n",
      "      0.         0.         0.         0.         0.         0.\n",
      "      0.         0.         0.         0.         0.         0.\n",
      "      0.         0.         0.         0.         0.         0.\n",
      "      0.         0.         0.         0.         0.         0.\n",
      "      0.         0.         0.         0.         0.         0.\n",
      "      0.         0.         0.         0.         0.         0.\n",
      "      0.         0.    ]\n",
      " [ 2280.      6953.      2213.     16069.      8479.      2597.\n",
      "  11877.      5660.      4897.     18228.      3265.      2667.\n",
      "  17993.      4307.     48795.      3700.      7047.      4330.\n",
      "   3223.         0.         0.         0.         0.         0.\n",
      "      0.         0.         0.         0.         0.         0.\n",
      "      0.         0.         0.         0.         0.         0.\n",
      "      0.         0.         0.         0.         0.         0.\n",
      "      0.         0.         0.         0.         0.         0.\n",
      "      0.         0.         0.         0.         0.         0.\n",
      "      0.         0.         0.         0.         0.         0.\n",
      "      0.         0.         0.         0.         0.         0.\n",
      "      0.         0.         0.         0.         0.         0.\n",
      "      0.         0.         0.         0.         0.         0.\n",
      "      0.         0.         0.         0.         0.         0.\n",
      "      0.         0.         0.         0.         0.         0.\n",
      "      0.         0.         0.         0.         0.         0.\n",
      "      0.         0.         0.         0.         0.         0.\n",
      "      0.         0.         0.         0.         0.         0.\n",
      "      0.         0.         0.         0.         0.         0.\n",
      "      0.         0.         0.         0.         0.         0.\n",
      "      0.         0.         0.         0.         0.         0.\n",
      "      0.         0.    ]]\n"
     ]
    }
   ],
   "execution_count": 14
  },
  {
   "metadata": {},
   "cell_type": "markdown",
   "source": "",
   "id": "c3f2ab7dd88eb0ad"
  },
  {
   "metadata": {
    "ExecuteTime": {
     "end_time": "2025-07-03T12:44:05.796890Z",
     "start_time": "2025-07-03T12:44:05.793130Z"
    }
   },
   "cell_type": "code",
   "source": [
    "# 5) Remove padding zeros:\n",
    "s0 = unpad_peak_list(spectra[0])\n",
    "print(s0)  # shape (n_peaks, 2)"
   ],
   "id": "5540c8e2e7d11ce",
   "outputs": [
    {
     "name": "stdout",
     "output_type": "stream",
     "text": [
      "[[   53.8327    55.9341    58.6939    72.9368    90.9475   102.0474\n",
      "    113.9632   173.5249   173.5422   190.8727   192.8889   195.9438\n",
      "    201.8877   206.8678   208.8836   218.8892   219.8978   226.8952\n",
      "    236.8765]\n",
      " [ 2280.      6953.      2213.     16069.      8479.      2597.\n",
      "  11877.      5660.      4897.     18228.      3265.      2667.\n",
      "  17993.      4307.     48795.      3700.      7047.      4330.\n",
      "   3223.    ]]\n"
     ]
    }
   ],
   "execution_count": 15
  },
  {
   "metadata": {},
   "cell_type": "markdown",
   "source": "### To get specific element one can do:",
   "id": "c6700e70d8bcc327"
  },
  {
   "metadata": {},
   "cell_type": "markdown",
   "source": "### For one attribute, eg. charge",
   "id": "5c1049728f18fc77"
  },
  {
   "metadata": {
    "ExecuteTime": {
     "end_time": "2025-07-03T12:51:02.674514Z",
     "start_time": "2025-07-03T12:51:02.670693Z"
    }
   },
   "cell_type": "code",
   "source": "msdata.get_values('charge') \n",
   "id": "6e3e25e2b15c54b2",
   "outputs": [
    {
     "data": {
      "text/plain": [
       "array([0, 1, 1, ..., 0, 1, 1])"
      ]
     },
     "execution_count": 16,
     "metadata": {},
     "output_type": "execute_result"
    }
   ],
   "execution_count": 16
  },
  {
   "metadata": {},
   "cell_type": "markdown",
   "source": "#### For specific location ",
   "id": "a058e498088cf6a"
  },
  {
   "metadata": {
    "ExecuteTime": {
     "end_time": "2025-07-03T12:51:40.503269Z",
     "start_time": "2025-07-03T12:51:40.498728Z"
    }
   },
   "cell_type": "code",
   "source": "msdata.get_values('charge', [0])  ",
   "id": "e8b42a3daef525aa",
   "outputs": [
    {
     "data": {
      "text/plain": [
       "array([0])"
      ]
     },
     "execution_count": 17,
     "metadata": {},
     "output_type": "execute_result"
    }
   ],
   "execution_count": 17
  },
  {
   "metadata": {},
   "cell_type": "markdown",
   "source": "#### For  multiple records of same elements",
   "id": "4279e3d7e897a005"
  },
  {
   "metadata": {
    "ExecuteTime": {
     "end_time": "2025-07-03T12:52:05.047812Z",
     "start_time": "2025-07-03T12:52:05.044770Z"
    }
   },
   "cell_type": "code",
   "source": "msdata.get_values('charge', [0, 1, 2, 3])  ",
   "id": "5a848ebcd60e7b3b",
   "outputs": [
    {
     "data": {
      "text/plain": [
       "array([0, 1, 1, 1])"
      ]
     },
     "execution_count": 18,
     "metadata": {},
     "output_type": "execute_result"
    }
   ],
   "execution_count": 18
  },
  {
   "metadata": {},
   "cell_type": "code",
   "outputs": [],
   "execution_count": null,
   "source": "",
   "id": "dbd15f0d3c0b4dd8"
  },
  {
   "metadata": {},
   "cell_type": "markdown",
   "source": "## Here we remove unneeded mass spectra that contain others then positive charge",
   "id": "42b5429268dc0a69"
  },
  {
   "metadata": {
    "ExecuteTime": {
     "end_time": "2025-07-03T12:03:59.590511Z",
     "start_time": "2025-07-03T12:03:59.576899Z"
    }
   },
   "cell_type": "code",
   "source": [
    "# 5) filter to positive‐ion spectra only\n",
    "charges = msdata.get_values(\"charge\")   # shape: (N,)\n",
    "pos_idx = np.where(charges > 0)[0]\n",
    "print(f\"keeping {len(pos_idx)} / {len(charges)} spectra with charge > 0\")\n",
    "\n",
    "# optionally, write a subsetted HDF5 for later reuse:\n",
    "hq_h5 = PROJECT_ROOT / \"data\" / \"rawfiles\" / \"202312_20_P09-Leaf-r1_1uL_pos.hdf5\"\n",
    "msdata_pos = msdata.form_subset(pos_idx, out_pth=hq_h5)"
   ],
   "id": "3bf9f9c3c7d051dc",
   "outputs": [
    {
     "name": "stdout",
     "output_type": "stream",
     "text": [
      "keeping 4562 / 5681 spectra with charge > 0\n"
     ]
    }
   ],
   "execution_count": 5
  },
  {
   "metadata": {},
   "cell_type": "markdown",
   "source": [
    "## This is requeired for QC \n",
    "We need to pull mass spectra and precursor mz for quality control and it have to be in shape of (M, 2, P) and (M,), you do not need to care, it is solved internaly.\n",
    "# TODO add image here"
   ],
   "id": "e255fe9793511845"
  },
  {
   "metadata": {
    "ExecuteTime": {
     "end_time": "2025-07-03T12:04:32.288753Z",
     "start_time": "2025-07-03T12:04:32.267435Z"
    }
   },
   "cell_type": "code",
   "source": [
    "# 6) pull out spectra & precursor m/z arrays (unpadded!)\n",
    "spectra = msdata_pos.get_spectra()    # (M, 2, P) padded\n",
    "prec_mzs = msdata_pos.get_prec_mzs()  # (M,)\n",
    "\n",
    "# unpad each spectrum before any intensity‐based checks\n",
    "spectra = [ unpad_peak_list(s) for s in spectra ]"
   ],
   "id": "31eda602dbbe6fda",
   "outputs": [],
   "execution_count": 6
  },
  {
   "metadata": {
    "ExecuteTime": {
     "end_time": "2025-07-03T12:04:35.684556Z",
     "start_time": "2025-07-03T12:04:35.633375Z"
    }
   },
   "cell_type": "code",
   "source": [
    "# 7) compute single‐spectrum QC flags\n",
    "dformat      = DataFormatA()\n",
    "quality_lvls = [\n",
    "    dformat.val_spec(spec, prec, return_problems=True)\n",
    "    for spec, prec in zip(spectra, prec_mzs)\n",
    "]\n",
    "\n",
    "# tally results\n",
    "pd.Series(quality_lvls).value_counts()"
   ],
   "id": "ced8d1aa5facfcd9",
   "outputs": [
    {
     "data": {
      "text/plain": [
       "All checks passed                      2000\n",
       "Intensity amplitude >= 20.0            1783\n",
       "Number of high intensity peaks >= 3     764\n",
       "m/z range <= 1000.0                      15\n",
       "Name: count, dtype: int64"
      ]
     },
     "execution_count": 7,
     "metadata": {},
     "output_type": "execute_result"
    }
   ],
   "execution_count": 7
  },
  {
   "metadata": {},
   "cell_type": "markdown",
   "source": "## so now we are preserving 2000 mass spectra, rest will be removed ",
   "id": "fa925d9b57de3d78"
  },
  {
   "metadata": {
    "ExecuteTime": {
     "end_time": "2025-07-03T12:11:43.403903Z",
     "start_time": "2025-07-03T12:11:43.387861Z"
    }
   },
   "cell_type": "code",
   "source": [
    "# 8) keep only those that passed *all* metrics\n",
    "pass_idx = np.where(np.array(quality_lvls) == \"All checks passed\")[0]\n",
    "print(f\"{len(pass_idx)} spectra passed all QC out of {len(quality_lvls)}\")\n",
    "\n",
    "clean_h5 = append_to_stem(h5_path, \"high_quality\")\n",
    "msdata_hq = msdata_pos.form_subset(pass_idx, out_pth=clean_h5)\n",
    "print(msdata_hq)"
   ],
   "id": "bc1e8dca5db7c69c",
   "outputs": [
    {
     "name": "stdout",
     "output_type": "stream",
     "text": [
      "2000 spectra passed all QC out of 4562\n",
      "MSData(pth=/Users/macbook/CODE/DreaMS_MIMB/data/rawfiles/202312_20_P09-Leaf-r1_1uL_high_quality.hdf5, in_mem=False) with 2,000 spectra.\n"
     ]
    }
   ],
   "execution_count": 8
  },
  {
   "metadata": {},
   "cell_type": "markdown",
   "source": [
    "## Next\n",
    "**Next:** you now have a clean, positive‐ion, high‐quality HDF5 for downstream embedding and clustering.  \n",
    "Proceed to **2_lsh_and_clustering.ipynb** for LSH deduplication & DreamS encoding."
   ],
   "id": "ecde2107af540086"
  }
 ],
 "metadata": {
  "kernelspec": {
   "display_name": "Python 3",
   "language": "python",
   "name": "python3"
  },
  "language_info": {
   "codemirror_mode": {
    "name": "ipython",
    "version": 2
   },
   "file_extension": ".py",
   "mimetype": "text/x-python",
   "name": "python",
   "nbconvert_exporter": "python",
   "pygments_lexer": "ipython2",
   "version": "2.7.6"
  }
 },
 "nbformat": 4,
 "nbformat_minor": 5
}
