{
 "cells": [
  {
   "cell_type": "code",
   "execution_count": null,
   "id": "initial_id",
   "metadata": {
    "collapsed": true
   },
   "outputs": [],
   "source": [
    "# paths.py\n",
    "from pathlib import Path\n",
    "\n",
    "#: Always points to the root of the project\n",
    "PROJECT_ROOT = Path(__file__).resolve().parent"
   ]
  },
  {
   "metadata": {},
   "cell_type": "markdown",
   "source": [
    "# 1. Data preparation\n",
    "\n",
    "Load a single `.mzML` from `data/rawfiles/`, inspect its contents, filter to positive‐ion spectra only, apply quality control, and cache as a clean HDF5.\n",
    "\n",
    "We do positive because DreaMS were rained only on single charge positive ionizations"
   ],
   "id": "dcd94e967f594fcb"
  },
  {
   "metadata": {
    "ExecuteTime": {
     "end_time": "2025-07-03T11:57:25.957378Z",
     "start_time": "2025-07-03T11:57:08.451246Z"
    }
   },
   "cell_type": "code",
   "source": [
    "# 1) prep imports & repo‐root‐aware paths\n",
    "import sys\n",
    "from pathlib import Path\n",
    "import numpy as np\n",
    "import pandas as pd\n",
    "\n",
    "# make PROJECT_ROOT available\n",
    "sys.path.append(str(Path().resolve().parent))\n",
    "from paths import PROJECT_ROOT\n",
    "\n",
    "# DreaMS imports\n",
    "from dreams.utils.data import MSData\n",
    "from dreams.utils.dformats import DataFormatA\n",
    "from dreams.utils.spectra import unpad_peak_list\n",
    "from dreams.utils.io import append_to_stem"
   ],
   "id": "bbdc56a8e8432df5",
   "outputs": [
    {
     "name": "stderr",
     "output_type": "stream",
     "text": [
      "/Users/macbook/UTILS/anaconda3/envs/dreams_mimb/lib/python3.11/site-packages/lightning_fabric/__init__.py:41: pkg_resources is deprecated as an API. See https://setuptools.pypa.io/en/latest/pkg_resources.html. The pkg_resources package is slated for removal as early as 2025-11-30. Refrain from using this package or pin to Setuptools<81.\n",
      "Determination of memory status is not supported on this \n",
      " platform, measuring for memoryleaks will never fail\n"
     ]
    }
   ],
   "execution_count": 1
  },
  {
   "metadata": {},
   "cell_type": "markdown",
   "source": "## 1.1 Place you path to file here",
   "id": "daf312795b26cb9d"
  },
  {
   "metadata": {
    "ExecuteTime": {
     "end_time": "2025-07-03T11:57:25.962391Z",
     "start_time": "2025-07-03T11:57:25.960435Z"
    }
   },
   "cell_type": "code",
   "source": [
    "# 2) define the input file and HDF5 cache path\n",
    "mzml_path = PROJECT_ROOT / \"data\" / \"rawfiles\" / \"202312_20_P09-Leaf-r1_1uL.mzML\"\n",
    "h5_path   = mzml_path.with_suffix(\".hdf5\")"
   ],
   "id": "8e3f4034185c6486",
   "outputs": [],
   "execution_count": 2
  },
  {
   "metadata": {
    "ExecuteTime": {
     "end_time": "2025-07-03T11:58:34.323891Z",
     "start_time": "2025-07-03T11:58:32.357942Z"
    }
   },
   "cell_type": "code",
   "source": [
    "# 3) load or cache to HDF5\n",
    "if h5_path.exists():\n",
    "    msdata = MSData.from_hdf5(h5_path, in_mem=True)\n",
    "else:\n",
    "    msdata = MSData.from_mzml(mzml_path, in_mem=True)"
   ],
   "id": "8fe26b96d9907b07",
   "outputs": [
    {
     "name": "stdout",
     "output_type": "stream",
     "text": [
      "Loading dataset 202312_20_P09-Leaf-r1_1uL into memory (5681 spectra)...\n"
     ]
    }
   ],
   "execution_count": 3
  },
  {
   "metadata": {
    "ExecuteTime": {
     "end_time": "2025-07-03T11:58:46.657235Z",
     "start_time": "2025-07-03T11:58:46.653915Z"
    }
   },
   "cell_type": "code",
   "source": [
    "# 4) inspect which columns/attributes we have\n",
    "print(\"columns in MSData:\", msdata.columns())"
   ],
   "id": "fddd136b45f69855",
   "outputs": [
    {
     "name": "stdout",
     "output_type": "stream",
     "text": [
      "columns in MSData: ['RT', 'charge', 'file_name', 'precursor_mz', 'scan_number', 'spectrum']\n"
     ]
    }
   ],
   "execution_count": 4
  },
  {
   "metadata": {},
   "cell_type": "markdown",
   "source": "## Here we remove unneeded mass spectra that contain others then positive charge",
   "id": "42b5429268dc0a69"
  },
  {
   "metadata": {
    "ExecuteTime": {
     "end_time": "2025-07-03T12:03:59.590511Z",
     "start_time": "2025-07-03T12:03:59.576899Z"
    }
   },
   "cell_type": "code",
   "source": [
    "# 5) filter to positive‐ion spectra only\n",
    "charges = msdata.get_values(\"charge\")   # shape: (N,)\n",
    "pos_idx = np.where(charges > 0)[0]\n",
    "print(f\"keeping {len(pos_idx)} / {len(charges)} spectra with charge > 0\")\n",
    "\n",
    "# optionally, write a subsetted HDF5 for later reuse:\n",
    "hq_h5 = PROJECT_ROOT / \"data\" / \"rawfiles\" / \"202312_20_P09-Leaf-r1_1uL_pos.hdf5\"\n",
    "msdata_pos = msdata.form_subset(pos_idx, out_pth=hq_h5)"
   ],
   "id": "3bf9f9c3c7d051dc",
   "outputs": [
    {
     "name": "stdout",
     "output_type": "stream",
     "text": [
      "keeping 4562 / 5681 spectra with charge > 0\n"
     ]
    }
   ],
   "execution_count": 5
  },
  {
   "metadata": {},
   "cell_type": "markdown",
   "source": [
    "## This is requeired for QC \n",
    "We need to pull mass spectra and precursor mz for quality control and it have to be in shape of (M, 2, P) and (M,), you do not need to care, it is solved internaly.\n",
    "# TODO add image here"
   ],
   "id": "e255fe9793511845"
  },
  {
   "metadata": {
    "ExecuteTime": {
     "end_time": "2025-07-03T12:04:32.288753Z",
     "start_time": "2025-07-03T12:04:32.267435Z"
    }
   },
   "cell_type": "code",
   "source": [
    "# 6) pull out spectra & precursor m/z arrays (unpadded!)\n",
    "spectra = msdata_pos.get_spectra()    # (M, 2, P) padded\n",
    "prec_mzs = msdata_pos.get_prec_mzs()  # (M,)\n",
    "\n",
    "# unpad each spectrum before any intensity‐based checks\n",
    "spectra = [ unpad_peak_list(s) for s in spectra ]"
   ],
   "id": "31eda602dbbe6fda",
   "outputs": [],
   "execution_count": 6
  },
  {
   "metadata": {
    "ExecuteTime": {
     "end_time": "2025-07-03T12:04:35.684556Z",
     "start_time": "2025-07-03T12:04:35.633375Z"
    }
   },
   "cell_type": "code",
   "source": [
    "# 7) compute single‐spectrum QC flags\n",
    "dformat      = DataFormatA()\n",
    "quality_lvls = [\n",
    "    dformat.val_spec(spec, prec, return_problems=True)\n",
    "    for spec, prec in zip(spectra, prec_mzs)\n",
    "]\n",
    "\n",
    "# tally results\n",
    "pd.Series(quality_lvls).value_counts()"
   ],
   "id": "ced8d1aa5facfcd9",
   "outputs": [
    {
     "data": {
      "text/plain": [
       "All checks passed                      2000\n",
       "Intensity amplitude >= 20.0            1783\n",
       "Number of high intensity peaks >= 3     764\n",
       "m/z range <= 1000.0                      15\n",
       "Name: count, dtype: int64"
      ]
     },
     "execution_count": 7,
     "metadata": {},
     "output_type": "execute_result"
    }
   ],
   "execution_count": 7
  },
  {
   "metadata": {},
   "cell_type": "markdown",
   "source": "## so now we are preserving 2000 mass spectra, rest will be removed ",
   "id": "fa925d9b57de3d78"
  },
  {
   "metadata": {
    "ExecuteTime": {
     "end_time": "2025-07-03T12:11:43.403903Z",
     "start_time": "2025-07-03T12:11:43.387861Z"
    }
   },
   "cell_type": "code",
   "source": [
    "# 8) keep only those that passed *all* metrics\n",
    "pass_idx = np.where(np.array(quality_lvls) == \"All checks passed\")[0]\n",
    "print(f\"{len(pass_idx)} spectra passed all QC out of {len(quality_lvls)}\")\n",
    "\n",
    "clean_h5 = append_to_stem(h5_path, \"high_quality\")\n",
    "msdata_hq = msdata_pos.form_subset(pass_idx, out_pth=clean_h5)\n",
    "print(msdata_hq)"
   ],
   "id": "bc1e8dca5db7c69c",
   "outputs": [
    {
     "name": "stdout",
     "output_type": "stream",
     "text": [
      "2000 spectra passed all QC out of 4562\n",
      "MSData(pth=/Users/macbook/CODE/DreaMS_MIMB/data/rawfiles/202312_20_P09-Leaf-r1_1uL_high_quality.hdf5, in_mem=False) with 2,000 spectra.\n"
     ]
    }
   ],
   "execution_count": 8
  },
  {
   "metadata": {},
   "cell_type": "markdown",
   "source": [
    "## Next\n",
    "**Next:** you now have a clean, positive‐ion, high‐quality HDF5 for downstream embedding and clustering.  \n",
    "Proceed to **2_lsh_and_clustering.ipynb** for LSH deduplication & DreamS encoding."
   ],
   "id": "ecde2107af540086"
  },
  {
   "metadata": {},
   "cell_type": "code",
   "outputs": [],
   "execution_count": null,
   "source": "",
   "id": "d1d0b4ad19df096e"
  },
  {
   "metadata": {},
   "cell_type": "code",
   "outputs": [],
   "execution_count": null,
   "source": "",
   "id": "72c42670b49316c8"
  },
  {
   "metadata": {},
   "cell_type": "code",
   "outputs": [],
   "execution_count": null,
   "source": "",
   "id": "cf8fd9438620fa79"
  },
  {
   "metadata": {},
   "cell_type": "code",
   "outputs": [],
   "execution_count": null,
   "source": "",
   "id": "4550604697124b2"
  },
  {
   "metadata": {},
   "cell_type": "code",
   "outputs": [],
   "execution_count": null,
   "source": "",
   "id": "2e10b593c21c2d5f"
  }
 ],
 "metadata": {
  "kernelspec": {
   "display_name": "Python 3",
   "language": "python",
   "name": "python3"
  },
  "language_info": {
   "codemirror_mode": {
    "name": "ipython",
    "version": 2
   },
   "file_extension": ".py",
   "mimetype": "text/x-python",
   "name": "python",
   "nbconvert_exporter": "python",
   "pygments_lexer": "ipython2",
   "version": "2.7.6"
  }
 },
 "nbformat": 4,
 "nbformat_minor": 5
}
