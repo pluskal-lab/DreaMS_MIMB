{
 "cells": [
  {
   "metadata": {},
   "cell_type": "markdown",
   "source": [
    "# 1. Data preparation\n",
    "\n",
    "This is where every practical DreaMS project begins: converting your raw mass spectrometry data into a format that is efficient, and ready for machine learning.  \n",
    "In this notebook, we also **clean the data, apply quality control filters, and keep only single positive-charge mass spectra**, since DreaMS is designed to work on those.\n"
   ],
   "id": "4e7c095bca684470"
  },
  {
   "metadata": {
    "ExecuteTime": {
     "end_time": "2025-08-10T02:39:03.912589Z",
     "start_time": "2025-08-10T02:39:03.909188Z"
    }
   },
   "cell_type": "code",
   "source": [
    "import sys\n",
    "from pathlib import Path\n",
    "import numpy as np\n",
    "import pandas as pd\n",
    "\n",
    "# make PROJECT_ROOT available\n",
    "sys.path.append(str(Path().resolve().parent))\n",
    "from paths import PROJECT_ROOT\n",
    "\n",
    "# DreaMS imports\n",
    "import os\n",
    "os.environ[\"HDF5_USE_FILE_LOCKING\"] = \"FALSE\"\n",
    "\n",
    "from dreams.utils.data import MSData\n",
    "from dreams.utils.dformats import DataFormatA\n",
    "from dreams.utils.spectra import unpad_peak_list\n",
    "from dreams.utils.io import append_to_stem"
   ],
   "id": "bbdc56a8e8432df5",
   "outputs": [],
   "execution_count": 10
  },
  {
   "metadata": {},
   "cell_type": "markdown",
   "source": [
    "## 1.1 Loading and converting mass spectrometry data\n",
    "\n",
    "In DreaMS, we use the `MSData` class to handle all spectral data. This object is your main interface for loading, exploring, filtering, and saving MS/MS spectra, and it works with the main mass spectrometry file formats: `.mzML` and `.mgf`.\n",
    "\n",
    "### Why use MSData and HDF5?\n",
    "\n",
    "- **Universal loader:** `MSData.load()` automatically detects your file type (`.mgf` or `.mzML`) and converts it into a single, easy-to-use object.\n",
    "- **Automatic HDF5 conversion:** On the very first run, your data is converted to an HDF5 file, a binary format made for fast, large-scale access.\n",
    "  - HDF5 makes it possible to access thousands of spectra rapidly\n",
    "  - It uses much less disk space than text files\n",
    "  - All metadata (precursor m/z, charge, SMILES, and more) is kept and easily accessible\n",
    "- **Transparent caching:** Once converted, a `.hdf5` file will appear next to your original `.mgf` or `.mzML` file. All future loads will use this cached file, so you do not need to re-parse the text again.\n",
    "\n",
    "For more details, see: [DreaMS documentation – Working with MS/MS data using HDF5](https://dreams-docs.readthedocs.io/en/latest/tutorials/msdata.html)\n",
    "\n",
    "---"
   ],
   "id": "dcd94e967f594fcb"
  },
  {
   "metadata": {
    "ExecuteTime": {
     "end_time": "2025-08-10T02:39:13.737447Z",
     "start_time": "2025-08-10T02:39:13.733905Z"
    }
   },
   "cell_type": "code",
   "source": [
    "# If you want to use your own data, put the path to your file here.\n",
    "# Be careful to use the full (absolute) path, or use PROJECT_ROOT as we do here.\n",
    "spectra_path = PROJECT_ROOT / \"data\" / \"Piper_sirius_all_annotated.mgf\"\n",
    "h5_path      = spectra_path.with_suffix('.hdf5')"
   ],
   "id": "8e3f4034185c6486",
   "outputs": [],
   "execution_count": 11
  },
  {
   "metadata": {
    "ExecuteTime": {
     "end_time": "2025-08-10T02:39:15.454642Z",
     "start_time": "2025-08-10T02:39:14.510291Z"
    }
   },
   "cell_type": "code",
   "source": [
    "if h5_path.exists():\n",
    "    # If the HDF5 already exists, load it directly (this is fastest)\n",
    "    msdata = MSData.from_hdf5(h5_path, in_mem=True)\n",
    "else:\n",
    "    # If not, convert from the original file and cache the result as HDF5\n",
    "    msdata = MSData.load(\n",
    "        spectra_path,\n",
    "        in_mem=True,\n",
    "        prec_mz_col=\"PRECURSOR_MZ\"\n",
    "    )"
   ],
   "id": "a1d78bb9ffea6de2",
   "outputs": [
    {
     "name": "stdout",
     "output_type": "stream",
     "text": [
      "Loading dataset Piper_sirius_all_annotated into memory (6732 spectra)...\n"
     ]
    }
   ],
   "execution_count": 12
  },
  {
   "metadata": {},
   "cell_type": "markdown",
   "source": [
    "After running this code for the first time, check your `data/` folder:  \n",
    "A new `.hdf5` file with the same name as your input file will be created.\n",
    "\n",
    "From now on, all data processing will use this **HDF5 file** as the source, it is much faster, and you do not need to worry about re-parsing files.\n",
    "\n",
    "> **Tip:**  \n",
    "> If you ever change the original `.mgf` or `.mzML`, just delete the `.hdf5` file and rerun this cell to regenerate it."
   ],
   "id": "e5ce89d4951a28d"
  },
  {
   "metadata": {},
   "cell_type": "markdown",
   "source": [
    "### 1.2 Inspecting your data with the `MSData` object\n",
    "\n",
    "### Check available columns and metadata\n",
    "\n",
    "First, you can list all the columns (attributes) present in your dataset.  \n",
    "These typically include the **precursor m/z**, **charge**, **file name**, and, if available, **SMILES**, **compound name**, and other metadata stored for each spectrum."
   ],
   "id": "5d6edcf2543ceb72"
  },
  {
   "metadata": {
    "ExecuteTime": {
     "end_time": "2025-08-10T01:52:29.589619Z",
     "start_time": "2025-08-10T01:52:29.585295Z"
    }
   },
   "cell_type": "code",
   "source": [
    "\n",
    "print(\"columns in MSData:\", msdata.columns())"
   ],
   "id": "fddd136b45f69855",
   "outputs": [
    {
     "name": "stdout",
     "output_type": "stream",
     "text": [
      "columns in MSData: ['COMPOUND_NAME', 'FEATURE_ID', 'FILE_NAME', 'FORMULA', 'INCHI', 'INCHIKEY', 'MS_LEVEL', 'NUM_PEAKS', 'RETENTION_TIME', 'SCANS', 'SPECTYPE', 'adduct', 'charge', 'precursor_mz', 'smiles', 'spectrum']\n"
     ]
    }
   ],
   "execution_count": 4
  },
  {
   "metadata": {},
   "cell_type": "markdown",
   "source": [
    "### Visualize a single spectrum and its metadata\n",
    "\n",
    "You can quickly inspect the data and metadata for any individual spectrum by its index (here, we use the first spectrum at index 0):"
   ],
   "id": "52c722712c9e80bb"
  },
  {
   "metadata": {
    "ExecuteTime": {
     "end_time": "2025-08-10T01:52:36.211377Z",
     "start_time": "2025-08-10T01:52:36.016344Z"
    }
   },
   "cell_type": "code",
   "source": "msdata.at(1)",
   "id": "50fd58b3c11d1ae7",
   "outputs": [
    {
     "data": {
      "text/plain": [
       "<Figure size 600x200 with 1 Axes>"
      ],
      "image/png": "[encoded data removed]"
     },
     "metadata": {},
     "output_type": "display_data"
    },
    {
     "name": "stderr",
     "output_type": "stream",
     "text": [
      "[10:52:36] SMILES Parse Error: syntax error while parsing: None\n",
      "[10:52:36] SMILES Parse Error: Failed parsing SMILES 'None' for input: 'None'\n"
     ]
    },
    {
     "data": {
      "text/plain": [
       "None"
      ]
     },
     "metadata": {},
     "output_type": "display_data"
    },
    {
     "data": {
      "text/plain": [
       "{'COMPOUND_NAME': 'None',\n",
       " 'FEATURE_ID': 1,\n",
       " 'FILE_NAME': 'nan',\n",
       " 'FORMULA': 'None',\n",
       " 'INCHI': 'None',\n",
       " 'INCHIKEY': 'None',\n",
       " 'MS_LEVEL': 2,\n",
       " 'NUM_PEAKS': 15,\n",
       " 'RETENTION_TIME': 51.58,\n",
       " 'SCANS': 1,\n",
       " 'SPECTYPE': 'nan',\n",
       " 'adduct': 'nan',\n",
       " 'charge': '1+',\n",
       " 'precursor_mz': 235.95224,\n",
       " 'smiles': 'None'}"
      ]
     },
     "execution_count": 5,
     "metadata": {},
     "output_type": "execute_result"
    }
   ],
   "execution_count": 5
  },
  {
   "metadata": {},
   "cell_type": "markdown",
   "source": [
    "Each spectrum in `MSData` not only contains the **peak list**, but also keeps track of its **source file**, the **scan number**, and all **annotation fields**.  \n",
    "This is useful, later, you’ll always be able to trace any processed spectrum back to its origin."
   ],
   "id": "41b240a3f359af81"
  },
  {
   "metadata": {},
   "cell_type": "markdown",
   "source": [
    "### Accessing the peak lists as arrays\n",
    "\n",
    "`MSData` stores all your spectra as a single large **3D array** for efficiency.  \n",
    "When you run:"
   ],
   "id": "27e2a12fc3196511"
  },
  {
   "metadata": {
    "ExecuteTime": {
     "end_time": "2025-08-10T01:52:40.330485Z",
     "start_time": "2025-08-10T01:52:40.327646Z"
    }
   },
   "cell_type": "code",
   "source": [
    "spectra = msdata.get_spectra()  # numpy ndarray, shape (N, 2, P)\n",
    "print(spectra.shape)"
   ],
   "id": "7fa5d8b515bb0c69",
   "outputs": [
    {
     "name": "stdout",
     "output_type": "stream",
     "text": [
      "(6732, 2, 128)\n"
     ]
    }
   ],
   "execution_count": 6
  },
  {
   "metadata": {},
   "cell_type": "markdown",
   "source": [
    "You’ll get:\n",
    "\n",
    "- **N**: number of spectra (e.g., 6732)  \n",
    "- **2**: two arrays per spectrum (`m/z` and intensity)  \n",
    "- **P**: each spectrum is padded to the same length for compatibility with ML models\n",
    "\n",
    "For example, `spectra[0][0]` gives you the **m/z values** for the first spectrum, and `spectra[0][1]` gives the **corresponding intensities**."
   ],
   "id": "b542cc95a86b6d51"
  },
  {
   "metadata": {
    "ExecuteTime": {
     "end_time": "2025-08-10T01:52:45.794331Z",
     "start_time": "2025-08-10T01:52:45.791325Z"
    }
   },
   "cell_type": "code",
   "source": "spectra[1][1]",
   "id": "54670bad1ccf9fd5",
   "outputs": [
    {
     "data": {
      "text/plain": [
       "array([  1.72 ,   1.682,   1.708,   1.853,   1.829,   1.901,   9.295,\n",
       "         5.988,   5.721,  40.281, 100.   ,   2.458,  57.758,  29.867,\n",
       "         2.113,   0.   ,   0.   ,   0.   ,   0.   ,   0.   ,   0.   ,\n",
       "         0.   ,   0.   ,   0.   ,   0.   ,   0.   ,   0.   ,   0.   ,\n",
       "         0.   ,   0.   ,   0.   ,   0.   ,   0.   ,   0.   ,   0.   ,\n",
       "         0.   ,   0.   ,   0.   ,   0.   ,   0.   ,   0.   ,   0.   ,\n",
       "         0.   ,   0.   ,   0.   ,   0.   ,   0.   ,   0.   ,   0.   ,\n",
       "         0.   ,   0.   ,   0.   ,   0.   ,   0.   ,   0.   ,   0.   ,\n",
       "         0.   ,   0.   ,   0.   ,   0.   ,   0.   ,   0.   ,   0.   ,\n",
       "         0.   ,   0.   ,   0.   ,   0.   ,   0.   ,   0.   ,   0.   ,\n",
       "         0.   ,   0.   ,   0.   ,   0.   ,   0.   ,   0.   ,   0.   ,\n",
       "         0.   ,   0.   ,   0.   ,   0.   ,   0.   ,   0.   ,   0.   ,\n",
       "         0.   ,   0.   ,   0.   ,   0.   ,   0.   ,   0.   ,   0.   ,\n",
       "         0.   ,   0.   ,   0.   ,   0.   ,   0.   ,   0.   ,   0.   ,\n",
       "         0.   ,   0.   ,   0.   ,   0.   ,   0.   ,   0.   ,   0.   ,\n",
       "         0.   ,   0.   ,   0.   ,   0.   ,   0.   ,   0.   ,   0.   ,\n",
       "         0.   ,   0.   ,   0.   ,   0.   ,   0.   ,   0.   ,   0.   ,\n",
       "         0.   ,   0.   ,   0.   ,   0.   ,   0.   ,   0.   ,   0.   ,\n",
       "         0.   ,   0.   ])"
      ]
     },
     "execution_count": 7,
     "metadata": {},
     "output_type": "execute_result"
    }
   ],
   "execution_count": 7
  },
  {
   "metadata": {},
   "cell_type": "markdown",
   "source": [
    "### Inspecting an individual spectrum (padded)\n",
    "\n",
    "Let’s look at the raw, padded values for the first spectrum:"
   ],
   "id": "401bab2cacf56156"
  },
  {
   "metadata": {
    "ExecuteTime": {
     "end_time": "2025-08-10T01:52:57.668562Z",
     "start_time": "2025-08-10T01:52:57.665252Z"
    }
   },
   "cell_type": "code",
   "source": [
    "np.set_printoptions(precision=4, suppress=True)\n",
    "print(spectra[1])"
   ],
   "id": "9736acb2c45739c6",
   "outputs": [
    {
     "name": "stdout",
     "output_type": "stream",
     "text": [
      "[[ 44.9044  53.3828  55.9312  61.1137  98.8067 151.7258 156.9462 166.9305\n",
      "  173.5269 174.9568 184.9411 192.9681 202.9518 212.9362 219.9713   0.\n",
      "    0.       0.       0.       0.       0.       0.       0.       0.\n",
      "    0.       0.       0.       0.       0.       0.       0.       0.\n",
      "    0.       0.       0.       0.       0.       0.       0.       0.\n",
      "    0.       0.       0.       0.       0.       0.       0.       0.\n",
      "    0.       0.       0.       0.       0.       0.       0.       0.\n",
      "    0.       0.       0.       0.       0.       0.       0.       0.\n",
      "    0.       0.       0.       0.       0.       0.       0.       0.\n",
      "    0.       0.       0.       0.       0.       0.       0.       0.\n",
      "    0.       0.       0.       0.       0.       0.       0.       0.\n",
      "    0.       0.       0.       0.       0.       0.       0.       0.\n",
      "    0.       0.       0.       0.       0.       0.       0.       0.\n",
      "    0.       0.       0.       0.       0.       0.       0.       0.\n",
      "    0.       0.       0.       0.       0.       0.       0.       0.\n",
      "    0.       0.       0.       0.       0.       0.       0.       0.    ]\n",
      " [  1.72     1.682    1.708    1.853    1.829    1.901    9.295    5.988\n",
      "    5.721   40.281  100.       2.458   57.758   29.867    2.113    0.\n",
      "    0.       0.       0.       0.       0.       0.       0.       0.\n",
      "    0.       0.       0.       0.       0.       0.       0.       0.\n",
      "    0.       0.       0.       0.       0.       0.       0.       0.\n",
      "    0.       0.       0.       0.       0.       0.       0.       0.\n",
      "    0.       0.       0.       0.       0.       0.       0.       0.\n",
      "    0.       0.       0.       0.       0.       0.       0.       0.\n",
      "    0.       0.       0.       0.       0.       0.       0.       0.\n",
      "    0.       0.       0.       0.       0.       0.       0.       0.\n",
      "    0.       0.       0.       0.       0.       0.       0.       0.\n",
      "    0.       0.       0.       0.       0.       0.       0.       0.\n",
      "    0.       0.       0.       0.       0.       0.       0.       0.\n",
      "    0.       0.       0.       0.       0.       0.       0.       0.\n",
      "    0.       0.       0.       0.       0.       0.       0.       0.\n",
      "    0.       0.       0.       0.       0.       0.       0.       0.    ]]\n"
     ]
    }
   ],
   "execution_count": 8
  },
  {
   "metadata": {},
   "cell_type": "markdown",
   "source": [
    "You’ll see that some values at the end are zeros, these are just padding, so all spectra are the same size.\n",
    "\n",
    "> **Note:**  \n",
    "> These zeros will not influence DreaMS, they are ignored.\n",
    "\n",
    "### Remove padding to get the real peaks\n",
    "\n",
    "To work with just the real (non-zero) peaks, use the `unpad_peak_list` function:"
   ],
   "id": "c3f2ab7dd88eb0ad"
  },
  {
   "metadata": {
    "ExecuteTime": {
     "end_time": "2025-08-10T01:53:16.439974Z",
     "start_time": "2025-08-10T01:53:16.436741Z"
    }
   },
   "cell_type": "code",
   "source": [
    "s0 = unpad_peak_list(spectra[1])\n",
    "print(s0)  # shape (n_peaks, 2)"
   ],
   "id": "5540c8e2e7d11ce",
   "outputs": [
    {
     "name": "stdout",
     "output_type": "stream",
     "text": [
      "[[ 44.9044  53.3828  55.9312  61.1137  98.8067 151.7258 156.9462 166.9305\n",
      "  173.5269 174.9568 184.9411 192.9681 202.9518 212.9362 219.9713]\n",
      " [  1.72     1.682    1.708    1.853    1.829    1.901    9.295    5.988\n",
      "    5.721   40.281  100.       2.458   57.758   29.867    2.113 ]]\n"
     ]
    }
   ],
   "execution_count": 9
  },
  {
   "metadata": {},
   "cell_type": "markdown",
   "source": [
    "### Accessing specific metadata values\n",
    "\n",
    "The `MSData` object makes it easy to pull out metadata for all or just some spectra.  \n",
    "For example, you can quickly check the **charge state** of each spectrum."
   ],
   "id": "5c1049728f18fc77"
  },
  {
   "metadata": {
    "ExecuteTime": {
     "end_time": "2025-07-16T17:47:40.116486Z",
     "start_time": "2025-07-16T17:47:40.109735Z"
    }
   },
   "cell_type": "code",
   "source": "msdata.get_values('charge') \n",
   "id": "6e3e25e2b15c54b2",
   "outputs": [
    {
     "data": {
      "text/plain": [
       "['1+',\n",
       " '1+',\n",
       " '1+',\n",
       " '1+',\n",
       " '1+',\n",
       " '1+',\n",
       " '1+',\n",
       " '1+',\n",
       " '1+',\n",
       " '1+',\n",
       " '1+',\n",
       " '1+',\n",
       " '1+',\n",
       " '1+',\n",
       " '1+',\n",
       " '1+',\n",
       " '1+',\n",
       " '1+',\n",
       " '1+',\n",
       " '1+',\n",
       " '1+',\n",
       " '1+',\n",
       " '1+',\n",
       " '1+',\n",
       " '1+',\n",
       " '1+',\n",
       " '1+',\n",
       " '1+',\n",
       " '1+',\n",
       " '1+',\n",
       " '1+',\n",
       " '1+',\n",
       " '1+',\n",
       " '1+',\n",
       " '1+',\n",
       " '1+',\n",
       " '1+',\n",
       " '1+',\n",
       " '1+',\n",
       " '1+',\n",
       " '1+',\n",
       " '1+',\n",
       " '1+',\n",
       " '1+',\n",
       " '1+',\n",
       " '1+',\n",
       " '1+',\n",
       " '1+',\n",
       " '1+',\n",
       " '1+',\n",
       " '1+',\n",
       " '1+',\n",
       " '1+',\n",
       " '1+',\n",
       " '1+',\n",
       " '1+',\n",
       " '1+',\n",
       " '1+',\n",
       " '1+',\n",
       " '1+',\n",
       " '1+',\n",
       " '1+',\n",
       " '1+',\n",
       " '1+',\n",
       " '1+',\n",
       " '1+',\n",
       " '1+',\n",
       " '1+',\n",
       " '1+',\n",
       " '1+',\n",
       " '1+',\n",
       " '1+',\n",
       " '1+',\n",
       " '1+',\n",
       " '1+',\n",
       " '1+',\n",
       " '1+',\n",
       " '1+',\n",
       " '1+',\n",
       " '1+',\n",
       " '1+',\n",
       " '1+',\n",
       " '1+',\n",
       " '1+',\n",
       " '1+',\n",
       " '1+',\n",
       " '1+',\n",
       " '1+',\n",
       " '1+',\n",
       " '1+',\n",
       " '1+',\n",
       " '1+',\n",
       " '1+',\n",
       " '1+',\n",
       " '1+',\n",
       " '1+',\n",
       " '1+',\n",
       " '1+',\n",
       " '1+',\n",
       " '1+',\n",
       " '1+',\n",
       " '1+',\n",
       " '1+',\n",
       " '1+',\n",
       " '1+',\n",
       " '1+',\n",
       " '1+',\n",
       " '1+',\n",
       " '1+',\n",
       " '1+',\n",
       " '1+',\n",
       " '1+',\n",
       " '1+',\n",
       " '1+',\n",
       " '1+',\n",
       " '1+',\n",
       " '1+',\n",
       " '1+',\n",
       " '1+',\n",
       " '1+',\n",
       " '1+',\n",
       " '1+',\n",
       " '1+',\n",
       " '1+',\n",
       " '1+',\n",
       " '1+',\n",
       " '1+',\n",
       " '1+',\n",
       " '1+',\n",
       " '1+',\n",
       " '1+',\n",
       " '1+',\n",
       " '1+',\n",
       " '1+',\n",
       " '1+',\n",
       " '1+',\n",
       " '1+',\n",
       " '1+',\n",
       " '1+',\n",
       " '1+',\n",
       " '1+',\n",
       " '1+',\n",
       " '1+',\n",
       " '1+',\n",
       " '1+',\n",
       " '1+',\n",
       " '1+',\n",
       " '1+',\n",
       " '1+',\n",
       " '1+',\n",
       " '1+',\n",
       " '1+',\n",
       " '1+',\n",
       " '1+',\n",
       " '1+',\n",
       " '1+',\n",
       " '1+',\n",
       " '1+',\n",
       " '1+',\n",
       " '1+',\n",
       " '1+',\n",
       " '1+',\n",
       " '1+',\n",
       " '1+',\n",
       " '1+',\n",
       " '1+',\n",
       " '1+',\n",
       " '1+',\n",
       " '1+',\n",
       " '1+',\n",
       " '1+',\n",
       " '1+',\n",
       " '1+',\n",
       " '1+',\n",
       " '1+',\n",
       " '1+',\n",
       " '1+',\n",
       " '1+',\n",
       " '1+',\n",
       " '1+',\n",
       " '1+',\n",
       " '1+',\n",
       " '1+',\n",
       " '1+',\n",
       " '1+',\n",
       " '1+',\n",
       " '1+',\n",
       " '1+',\n",
       " '1+',\n",
       " '1+',\n",
       " '1+',\n",
       " '1+',\n",
       " '1+',\n",
       " '1+',\n",
       " '1+',\n",
       " '1+',\n",
       " '1+',\n",
       " '1+',\n",
       " '1+',\n",
       " '1+',\n",
       " '1+',\n",
       " '1+',\n",
       " '1+',\n",
       " '1+',\n",
       " '1+',\n",
       " '1+',\n",
       " '1+',\n",
       " '1+',\n",
       " '1+',\n",
       " '1+',\n",
       " '1+',\n",
       " '1+',\n",
       " '1+',\n",
       " '1+',\n",
       " '1+',\n",
       " '1+',\n",
       " '1+',\n",
       " '1+',\n",
       " '1+',\n",
       " '1+',\n",
       " '1+',\n",
       " '1+',\n",
       " '1+',\n",
       " '1+',\n",
       " '1+',\n",
       " '1+',\n",
       " '1+',\n",
       " '1+',\n",
       " '1+',\n",
       " '1+',\n",
       " '1+',\n",
       " '1+',\n",
       " '1+',\n",
       " '1+',\n",
       " '1+',\n",
       " '1+',\n",
       " '1+',\n",
       " '1+',\n",
       " '1+',\n",
       " '1+',\n",
       " '1+',\n",
       " '1+',\n",
       " '1+',\n",
       " '1+',\n",
       " '1+',\n",
       " '1+',\n",
       " '1+',\n",
       " '1+',\n",
       " '1+',\n",
       " '1+',\n",
       " '1+',\n",
       " '1+',\n",
       " '1+',\n",
       " '1+',\n",
       " '1+',\n",
       " '1+',\n",
       " '1+',\n",
       " '1+',\n",
       " '1+',\n",
       " '1+',\n",
       " '1+',\n",
       " '1+',\n",
       " '1+',\n",
       " '1+',\n",
       " '1+',\n",
       " '1+',\n",
       " '1+',\n",
       " '1+',\n",
       " '1+',\n",
       " '1+',\n",
       " '1+',\n",
       " '1+',\n",
       " '1+',\n",
       " '1+',\n",
       " '1+',\n",
       " '1+',\n",
       " '1+',\n",
       " '1+',\n",
       " '1+',\n",
       " '1+',\n",
       " '1+',\n",
       " '1+',\n",
       " '1+',\n",
       " '1+',\n",
       " '1+',\n",
       " '1+',\n",
       " '1+',\n",
       " '1+',\n",
       " '1+',\n",
       " '1+',\n",
       " '1+',\n",
       " '1+',\n",
       " '1+',\n",
       " '1+',\n",
       " '1+',\n",
       " '1+',\n",
       " '1+',\n",
       " '1+',\n",
       " '1+',\n",
       " '1+',\n",
       " '1+',\n",
       " '1+',\n",
       " '1+',\n",
       " '1+',\n",
       " '1+',\n",
       " '1+',\n",
       " '1+',\n",
       " '1+',\n",
       " '1+',\n",
       " '1+',\n",
       " '1+',\n",
       " '1+',\n",
       " '1+',\n",
       " '1+',\n",
       " '1+',\n",
       " '1+',\n",
       " '1+',\n",
       " '1+',\n",
       " '1+',\n",
       " '1+',\n",
       " '1+',\n",
       " '1+',\n",
       " '1+',\n",
       " '1+',\n",
       " '1+',\n",
       " '1+',\n",
       " '1+',\n",
       " '1+',\n",
       " '1+',\n",
       " '1+',\n",
       " '1+',\n",
       " '1+',\n",
       " '1+',\n",
       " '1+',\n",
       " '1+',\n",
       " '1+',\n",
       " '1+',\n",
       " '1+',\n",
       " '1+',\n",
       " '1+',\n",
       " '1+',\n",
       " '1+',\n",
       " '1+',\n",
       " '1+',\n",
       " '1+',\n",
       " '1+',\n",
       " '1+',\n",
       " '1+',\n",
       " '1+',\n",
       " '1+',\n",
       " '1+',\n",
       " '1+',\n",
       " '1+',\n",
       " '1+',\n",
       " '1+',\n",
       " '1+',\n",
       " '1+',\n",
       " '1+',\n",
       " '1+',\n",
       " '1+',\n",
       " '1+',\n",
       " '1+',\n",
       " '1+',\n",
       " '1+',\n",
       " '1+',\n",
       " '1+',\n",
       " '1+',\n",
       " '1+',\n",
       " '1+',\n",
       " '1+',\n",
       " '1+',\n",
       " '1+',\n",
       " '1+',\n",
       " '1+',\n",
       " '1+',\n",
       " '1+',\n",
       " '1+',\n",
       " '1+',\n",
       " '1+',\n",
       " '1+',\n",
       " '1+',\n",
       " '1+',\n",
       " '1+',\n",
       " '1+',\n",
       " '1+',\n",
       " '1+',\n",
       " '1+',\n",
       " '1+',\n",
       " '1+',\n",
       " '1+',\n",
       " '1+',\n",
       " '1+',\n",
       " '1+',\n",
       " '1+',\n",
       " '1+',\n",
       " '1+',\n",
       " '1+',\n",
       " '1+',\n",
       " '1+',\n",
       " '1+',\n",
       " '1+',\n",
       " '1+',\n",
       " '1+',\n",
       " '1+',\n",
       " '1+',\n",
       " '1+',\n",
       " '1+',\n",
       " '1+',\n",
       " '1+',\n",
       " '1+',\n",
       " '1+',\n",
       " '1+',\n",
       " '1+',\n",
       " '1+',\n",
       " '1+',\n",
       " '1+',\n",
       " '1+',\n",
       " '1+',\n",
       " '1+',\n",
       " '1+',\n",
       " '1+',\n",
       " '1+',\n",
       " '1+',\n",
       " '1+',\n",
       " '1+',\n",
       " '1+',\n",
       " '1+',\n",
       " '1+',\n",
       " '1+',\n",
       " '1+',\n",
       " '1+',\n",
       " '1+',\n",
       " '1+',\n",
       " '1+',\n",
       " '1+',\n",
       " '1+',\n",
       " '1+',\n",
       " '1+',\n",
       " '1+',\n",
       " '1+',\n",
       " '1+',\n",
       " '1+',\n",
       " '1+',\n",
       " '1+',\n",
       " '1+',\n",
       " '1+',\n",
       " '1+',\n",
       " '1+',\n",
       " '1+',\n",
       " '1+',\n",
       " '1+',\n",
       " '1+',\n",
       " '1+',\n",
       " '1+',\n",
       " '1+',\n",
       " '1+',\n",
       " '1+',\n",
       " '1+',\n",
       " '1+',\n",
       " '1+',\n",
       " '1+',\n",
       " '1+',\n",
       " '1+',\n",
       " '1+',\n",
       " '1+',\n",
       " '1+',\n",
       " '1+',\n",
       " '1+',\n",
       " '1+',\n",
       " '1+',\n",
       " '1+',\n",
       " '1+',\n",
       " '1+',\n",
       " '1+',\n",
       " '1+',\n",
       " '1+',\n",
       " '1+',\n",
       " '1+',\n",
       " '1+',\n",
       " '1+',\n",
       " '1+',\n",
       " '1+',\n",
       " '1+',\n",
       " '1+',\n",
       " '1+',\n",
       " '1+',\n",
       " '1+',\n",
       " '1+',\n",
       " '1+',\n",
       " '1+',\n",
       " '1+',\n",
       " '1+',\n",
       " '1+',\n",
       " '1+',\n",
       " '1+',\n",
       " '1+',\n",
       " '1+',\n",
       " '1+',\n",
       " '1+',\n",
       " '1+',\n",
       " '1+',\n",
       " '1+',\n",
       " '1+',\n",
       " '1+',\n",
       " '1+',\n",
       " '1+',\n",
       " '1+',\n",
       " '1+',\n",
       " '1+',\n",
       " '1+',\n",
       " '1+',\n",
       " '1+',\n",
       " '1+',\n",
       " '1+',\n",
       " '1+',\n",
       " '1+',\n",
       " '1+',\n",
       " '1+',\n",
       " '1+',\n",
       " '1+',\n",
       " '1+',\n",
       " '1+',\n",
       " '1+',\n",
       " '1+',\n",
       " '1+',\n",
       " '1+',\n",
       " '1+',\n",
       " '1+',\n",
       " '1+',\n",
       " '1+',\n",
       " '1+',\n",
       " '1+',\n",
       " '1+',\n",
       " '1+',\n",
       " '1+',\n",
       " '1+',\n",
       " '1+',\n",
       " '1+',\n",
       " '1+',\n",
       " '1+',\n",
       " '1+',\n",
       " '1+',\n",
       " '1+',\n",
       " '1+',\n",
       " '1+',\n",
       " '1+',\n",
       " '1+',\n",
       " '1+',\n",
       " '1+',\n",
       " '1+',\n",
       " '1+',\n",
       " '1+',\n",
       " '1+',\n",
       " '1+',\n",
       " '1+',\n",
       " '1+',\n",
       " '1+',\n",
       " '1+',\n",
       " '1+',\n",
       " '1+',\n",
       " '1+',\n",
       " '1+',\n",
       " '1+',\n",
       " '1+',\n",
       " '1+',\n",
       " '1+',\n",
       " '1+',\n",
       " '1+',\n",
       " '1+',\n",
       " '1+',\n",
       " '1+',\n",
       " '1+',\n",
       " '1+',\n",
       " '1+',\n",
       " '1+',\n",
       " '1+',\n",
       " '1+',\n",
       " '1+',\n",
       " '1+',\n",
       " '1+',\n",
       " '1+',\n",
       " '1+',\n",
       " '1+',\n",
       " '1+',\n",
       " '1+',\n",
       " '1+',\n",
       " '1+',\n",
       " '1+',\n",
       " '1+',\n",
       " '1+',\n",
       " '1+',\n",
       " '1+',\n",
       " '1+',\n",
       " '1+',\n",
       " '1+',\n",
       " '1+',\n",
       " '1+',\n",
       " '1+',\n",
       " '1+',\n",
       " '1+',\n",
       " '1+',\n",
       " '1+',\n",
       " '1+',\n",
       " '1+',\n",
       " '1+',\n",
       " '1+',\n",
       " '1+',\n",
       " '1+',\n",
       " '1+',\n",
       " '1+',\n",
       " '1+',\n",
       " '1+',\n",
       " '1+',\n",
       " '1+',\n",
       " '1+',\n",
       " '1+',\n",
       " '1+',\n",
       " '1+',\n",
       " '1+',\n",
       " '1+',\n",
       " '1+',\n",
       " '1+',\n",
       " '1+',\n",
       " '1+',\n",
       " '1+',\n",
       " '1+',\n",
       " '1+',\n",
       " '1+',\n",
       " '1+',\n",
       " '1+',\n",
       " '1+',\n",
       " '1+',\n",
       " '1+',\n",
       " '1+',\n",
       " '1+',\n",
       " '1+',\n",
       " '1+',\n",
       " '1+',\n",
       " '1+',\n",
       " '1+',\n",
       " '1+',\n",
       " '1+',\n",
       " '1+',\n",
       " '1+',\n",
       " '1+',\n",
       " '1+',\n",
       " '1+',\n",
       " '1+',\n",
       " '1+',\n",
       " '1+',\n",
       " '1+',\n",
       " '1+',\n",
       " '1+',\n",
       " '1+',\n",
       " '1+',\n",
       " '1+',\n",
       " '1+',\n",
       " '1+',\n",
       " '1+',\n",
       " '1+',\n",
       " '1+',\n",
       " '1+',\n",
       " '1+',\n",
       " '1+',\n",
       " '1+',\n",
       " '1+',\n",
       " '1+',\n",
       " '1+',\n",
       " '1+',\n",
       " '1+',\n",
       " '1+',\n",
       " '1+',\n",
       " '1+',\n",
       " '1+',\n",
       " '1+',\n",
       " '1+',\n",
       " '1+',\n",
       " '1+',\n",
       " '1+',\n",
       " '1+',\n",
       " '1+',\n",
       " '1+',\n",
       " '1+',\n",
       " '1+',\n",
       " '1+',\n",
       " '1+',\n",
       " '1+',\n",
       " '1+',\n",
       " '1+',\n",
       " '1+',\n",
       " '1+',\n",
       " '1+',\n",
       " '1+',\n",
       " '1+',\n",
       " '1+',\n",
       " '1+',\n",
       " '1+',\n",
       " '1+',\n",
       " '1+',\n",
       " '1+',\n",
       " '1+',\n",
       " '1+',\n",
       " '1+',\n",
       " '1+',\n",
       " '1+',\n",
       " '1+',\n",
       " '1+',\n",
       " '1+',\n",
       " '1+',\n",
       " '1+',\n",
       " '1+',\n",
       " '1+',\n",
       " '1+',\n",
       " '1+',\n",
       " '1+',\n",
       " '1+',\n",
       " '1+',\n",
       " '1+',\n",
       " '1+',\n",
       " '1+',\n",
       " '1+',\n",
       " '1+',\n",
       " '1+',\n",
       " '1+',\n",
       " '1+',\n",
       " '1+',\n",
       " '1+',\n",
       " '1+',\n",
       " '1+',\n",
       " '1+',\n",
       " '1+',\n",
       " '1+',\n",
       " '1+',\n",
       " '1+',\n",
       " '1+',\n",
       " '1+',\n",
       " '1+',\n",
       " '1+',\n",
       " '1+',\n",
       " '1+',\n",
       " '1+',\n",
       " '1+',\n",
       " '1+',\n",
       " '1+',\n",
       " '1+',\n",
       " '1+',\n",
       " '1+',\n",
       " '1+',\n",
       " '1+',\n",
       " '1+',\n",
       " '1+',\n",
       " '1+',\n",
       " '1+',\n",
       " '1+',\n",
       " '1+',\n",
       " '1+',\n",
       " '1+',\n",
       " '1+',\n",
       " '1+',\n",
       " '1+',\n",
       " '1+',\n",
       " '1+',\n",
       " '1+',\n",
       " '1+',\n",
       " '1+',\n",
       " '1+',\n",
       " '1+',\n",
       " '1+',\n",
       " '1+',\n",
       " '1+',\n",
       " '1+',\n",
       " '1+',\n",
       " '1+',\n",
       " '1+',\n",
       " '1+',\n",
       " '1+',\n",
       " '1+',\n",
       " '1+',\n",
       " '1+',\n",
       " '1+',\n",
       " '1+',\n",
       " '1+',\n",
       " '1+',\n",
       " '1+',\n",
       " '1+',\n",
       " '1+',\n",
       " '1+',\n",
       " '1+',\n",
       " '1+',\n",
       " '1+',\n",
       " '1+',\n",
       " '1+',\n",
       " '1+',\n",
       " '1+',\n",
       " '1+',\n",
       " '1+',\n",
       " '1+',\n",
       " '1+',\n",
       " '1+',\n",
       " '1+',\n",
       " '1+',\n",
       " '1+',\n",
       " '1+',\n",
       " '1+',\n",
       " '1+',\n",
       " '1+',\n",
       " '1+',\n",
       " '1+',\n",
       " '1+',\n",
       " '1+',\n",
       " '1+',\n",
       " '1+',\n",
       " '1+',\n",
       " '1+',\n",
       " '1+',\n",
       " '1+',\n",
       " '1+',\n",
       " '1+',\n",
       " '1+',\n",
       " '1+',\n",
       " '1+',\n",
       " '1+',\n",
       " '1+',\n",
       " '1+',\n",
       " '1+',\n",
       " '1+',\n",
       " '1+',\n",
       " '1+',\n",
       " '1+',\n",
       " '1+',\n",
       " '1+',\n",
       " '1+',\n",
       " '1+',\n",
       " '1+',\n",
       " '1+',\n",
       " '1+',\n",
       " '1+',\n",
       " '1+',\n",
       " '1+',\n",
       " '1+',\n",
       " '1+',\n",
       " '1+',\n",
       " '1+',\n",
       " '1+',\n",
       " '1+',\n",
       " '1+',\n",
       " '1+',\n",
       " '1+',\n",
       " '1+',\n",
       " '1+',\n",
       " '1+',\n",
       " '1+',\n",
       " '1+',\n",
       " '1+',\n",
       " '1+',\n",
       " '1+',\n",
       " '1+',\n",
       " '1+',\n",
       " '1+',\n",
       " '1+',\n",
       " '1+',\n",
       " '1+',\n",
       " '1+',\n",
       " '1+',\n",
       " '1+',\n",
       " '1+',\n",
       " '1+',\n",
       " '1+',\n",
       " '1+',\n",
       " '1+',\n",
       " '1+',\n",
       " '1+',\n",
       " '1+',\n",
       " '1+',\n",
       " '1+',\n",
       " '1+',\n",
       " '1+',\n",
       " '1+',\n",
       " '1+',\n",
       " '1+',\n",
       " '1+',\n",
       " '1+',\n",
       " '1+',\n",
       " '1+',\n",
       " '1+',\n",
       " '1+',\n",
       " '1+',\n",
       " '1+',\n",
       " '1+',\n",
       " '1+',\n",
       " '1+',\n",
       " '1+',\n",
       " '1+',\n",
       " '1+',\n",
       " '1+',\n",
       " '1+',\n",
       " '1+',\n",
       " '1+',\n",
       " '1+',\n",
       " '1+',\n",
       " '1+',\n",
       " '1+',\n",
       " '1+',\n",
       " '1+',\n",
       " '1+',\n",
       " '1+',\n",
       " '1+',\n",
       " '1+',\n",
       " '1+',\n",
       " '1+',\n",
       " '1+',\n",
       " '1+',\n",
       " '1+',\n",
       " '1+',\n",
       " '1+',\n",
       " '1+',\n",
       " '1+',\n",
       " '1+',\n",
       " '1+',\n",
       " '1+',\n",
       " '1+',\n",
       " '1+',\n",
       " '1+',\n",
       " '1+',\n",
       " '1+',\n",
       " '1+',\n",
       " '1+',\n",
       " '1+',\n",
       " '1+',\n",
       " '1+',\n",
       " '1+',\n",
       " '1+',\n",
       " '1+',\n",
       " '1+',\n",
       " '1+',\n",
       " '1+',\n",
       " '1+',\n",
       " '1+',\n",
       " '1+',\n",
       " '1+',\n",
       " '1+',\n",
       " '1+',\n",
       " '1+',\n",
       " '1+',\n",
       " '1+',\n",
       " '1+',\n",
       " '1+',\n",
       " '1+',\n",
       " '1+',\n",
       " '1+',\n",
       " '1+',\n",
       " '1+',\n",
       " '1+',\n",
       " '1+',\n",
       " '1+',\n",
       " '1+',\n",
       " '1+',\n",
       " '1+',\n",
       " '1+',\n",
       " '1+',\n",
       " '1+',\n",
       " '1+',\n",
       " '1+',\n",
       " '1+',\n",
       " '1+',\n",
       " '1+',\n",
       " '1+',\n",
       " '1+',\n",
       " '1+',\n",
       " '1+',\n",
       " '1+',\n",
       " '1+',\n",
       " '1+',\n",
       " '1+',\n",
       " '1+',\n",
       " '1+',\n",
       " '1+',\n",
       " '1+',\n",
       " '1+',\n",
       " '1+',\n",
       " '1+',\n",
       " '1+',\n",
       " '1+',\n",
       " '1+',\n",
       " '1+',\n",
       " '1+',\n",
       " '1+',\n",
       " '1+',\n",
       " '1+',\n",
       " '1+',\n",
       " '1+',\n",
       " '1+',\n",
       " '1+',\n",
       " '1+',\n",
       " '1+',\n",
       " '1+',\n",
       " '1+',\n",
       " '1+',\n",
       " '1+',\n",
       " '1+',\n",
       " ...]"
      ]
     },
     "execution_count": 9,
     "metadata": {},
     "output_type": "execute_result"
    }
   ],
   "execution_count": 9
  },
  {
   "metadata": {},
   "cell_type": "markdown",
   "source": [
    "This gives you a list of charge states for every spectrum in your dataset.\n",
    "\n",
    "**Get the value for a specific spectrum**\n",
    "\n",
    "If you want just the charge of the first spectrum:"
   ],
   "id": "af2ccc8fd0f21a01"
  },
  {
   "metadata": {
    "ExecuteTime": {
     "end_time": "2025-07-16T17:47:47.954755Z",
     "start_time": "2025-07-16T17:47:47.951348Z"
    }
   },
   "cell_type": "code",
   "source": "msdata.get_values('charge', [0])  ",
   "id": "e8b42a3daef525aa",
   "outputs": [
    {
     "data": {
      "text/plain": [
       "['1+']"
      ]
     },
     "execution_count": 10,
     "metadata": {},
     "output_type": "execute_result"
    }
   ],
   "execution_count": 10
  },
  {
   "metadata": {},
   "cell_type": "markdown",
   "source": [
    "\n",
    "\n",
    "You can also fetch, for example, the charge states for spectra 0 through 3:"
   ],
   "id": "4279e3d7e897a005"
  },
  {
   "metadata": {
    "ExecuteTime": {
     "end_time": "2025-07-16T17:47:50.101565Z",
     "start_time": "2025-07-16T17:47:50.096835Z"
    }
   },
   "cell_type": "code",
   "source": "msdata.get_values('charge', [0, 1, 2, 3])  ",
   "id": "5a848ebcd60e7b3b",
   "outputs": [
    {
     "data": {
      "text/plain": [
       "['1+', '1+', '1+', '1+']"
      ]
     },
     "execution_count": 11,
     "metadata": {},
     "output_type": "execute_result"
    }
   ],
   "execution_count": 11
  },
  {
   "metadata": {},
   "cell_type": "markdown",
   "source": [
    "\n",
    "## 1.3 Filtering to single-charge positive-ion spectra only\n",
    "\n",
    "DreaMS is designed specifically for spectra acquired in **single positive ionization mode (1+)**.  \n",
    "While your data may also include **doubly-charged (2+)** or even higher, for this workflow we will keep only the **singly-charged spectra**."
   ],
   "id": "42b5429268dc0a69"
  },
  {
   "metadata": {
    "ExecuteTime": {
     "end_time": "2025-07-17T15:32:40.854202Z",
     "start_time": "2025-07-17T15:32:40.847633Z"
    }
   },
   "cell_type": "code",
   "source": [
    "# Get all charges (as strings, e.g. ['1+', '2+', '1+', '0'])\n",
    "raw_charges = msdata.get_values(\"charge\")\n",
    "\n",
    "# Convert to integer charges: strip any '+' or '−', then convert to int\n",
    "charges = np.array([int(''.join(ch.strip().rstrip('+-−'))) for ch in raw_charges])\n",
    "\n",
    "# Keep only spectra with charge == 1\n",
    "single_pos_idx = np.where(charges == 1)[0]\n",
    "print(f\"keeping {len(single_pos_idx)} / {len(charges)} spectra with charge == 1\")"
   ],
   "id": "3bf9f9c3c7d051dc",
   "outputs": [
    {
     "name": "stdout",
     "output_type": "stream",
     "text": [
      "keeping 6720 / 6732 spectra with charge == 1\n"
     ]
    }
   ],
   "execution_count": 9
  },
  {
   "metadata": {},
   "cell_type": "markdown",
   "source": [
    "Depending on your data, the charge notation (`1+`, `2+`, etc.) might differ.  \n",
    "**Always double-check** how charge is stored in your dataset and adjust your filter if needed."
   ],
   "id": "a53dc1d19c7a330b"
  },
  {
   "metadata": {},
   "cell_type": "markdown",
   "source": "Now, create a new `MSData` object with only the **singly-charged positive-ion spectra**, and save it as a new **HDF5 file**:",
   "id": "c44f8b2ef8852e97"
  },
  {
   "metadata": {
    "ExecuteTime": {
     "end_time": "2025-07-17T15:32:48.885179Z",
     "start_time": "2025-07-17T15:32:48.854221Z"
    }
   },
   "cell_type": "code",
   "source": [
    "hq_h5 = PROJECT_ROOT / \"data\" / \"Piper_sirius_all_annotated_pos.hdf5\"\n",
    "msdata_pos = msdata.form_subset(single_pos_idx, out_pth=hq_h5)"
   ],
   "id": "5faff08c6e7d3201",
   "outputs": [],
   "execution_count": 10
  },
  {
   "metadata": {},
   "cell_type": "markdown",
   "source": "This subset is what you will use for the next steps in **data cleaning** and **preparation**.",
   "id": "892aabd036ddc046"
  },
  {
   "metadata": {},
   "cell_type": "markdown",
   "source": [
    "## 1.4 Quality control: keeping only high-quality spectra\n",
    "\n",
    "\n",
    "Before using our mass spectra for machine learning, we need to make sure they meet basic quality criteria.  \n",
    "Low-quality or incomplete spectra can negatively affect both training and downstream analysis.\n",
    "\n",
    "The DreaMS framework provides **quality control (QC)** checks for each spectrum.  \n",
    "Only spectra that pass all QC metrics will be kept for further analysis.\n",
    "\n",
    "---\n",
    "\n",
    "### Preparing spectra for QC\n",
    "\n",
    "To perform quality control, we need to extract:\n",
    "\n",
    "- The spectra (as an array of `m/z` and intensity pairs, one for each spectrum)\n",
    "- The precursor `m/z` values (one per spectrum)\n",
    "\n",
    "The code below does this.  \n",
    "Don’t worry about array shapes, DreaMS framework handles the formatting for you."
   ],
   "id": "e255fe9793511845"
  },
  {
   "metadata": {
    "ExecuteTime": {
     "end_time": "2025-07-17T15:33:13.533407Z",
     "start_time": "2025-07-17T15:33:13.507331Z"
    }
   },
   "cell_type": "code",
   "source": [
    "spectra = msdata_pos.get_spectra()    # shape: (M, 2, P), padded\n",
    "prec_mzs = msdata_pos.get_prec_mzs()  # shape: (M,)\n",
    "\n",
    "# Unpad each spectrum to remove zeros before checking intensity-based QC\n",
    "spectra = [unpad_peak_list(s) for s in spectra]"
   ],
   "id": "31eda602dbbe6fda",
   "outputs": [],
   "execution_count": 12
  },
  {
   "metadata": {},
   "cell_type": "markdown",
   "source": [
    "### Running the quality control check\n",
    "\n",
    "We use the `DataFormatA` class and its `val_spec` function to check each spectrum and its precursor `m/z`.  \n",
    "QC checks include **minimum peak count**, **precursor m/z plausibility**, **intensity patterns**, and more."
   ],
   "id": "3581e40b72c669bc"
  },
  {
   "metadata": {
    "ExecuteTime": {
     "end_time": "2025-07-17T15:33:16.160759Z",
     "start_time": "2025-07-17T15:33:16.081714Z"
    }
   },
   "cell_type": "code",
   "source": [
    "from dreams.utils.dformats import DataFormatA\n",
    "\n",
    "dformat = DataFormatA()\n",
    "quality_lvls = [\n",
    "    dformat.val_spec(spec, prec, return_problems=True)\n",
    "    for spec, prec in zip(spectra, prec_mzs)\n",
    "]"
   ],
   "id": "ced8d1aa5facfcd9",
   "outputs": [],
   "execution_count": 13
  },
  {
   "metadata": {},
   "cell_type": "markdown",
   "source": "You can check the results and see how many spectra passed all checks:",
   "id": "3412d5f38ea16c33"
  },
  {
   "metadata": {
    "ExecuteTime": {
     "end_time": "2025-07-17T15:33:19.702383Z",
     "start_time": "2025-07-17T15:33:19.697171Z"
    }
   },
   "cell_type": "code",
   "source": "pd.Series(quality_lvls).value_counts()",
   "id": "b0329a48a5b590f9",
   "outputs": [
    {
     "data": {
      "text/plain": [
       "All checks passed                      4758\n",
       "Number of high intensity peaks >= 3     954\n",
       "Intensity amplitude >= 20.0             942\n",
       "Number of peaks between 3 and 128        61\n",
       "m/z range <= 1000.0                       5\n",
       "Name: count, dtype: int64"
      ]
     },
     "execution_count": 14,
     "metadata": {},
     "output_type": "execute_result"
    }
   ],
   "execution_count": 14
  },
  {
   "metadata": {},
   "cell_type": "markdown",
   "source": [
    "### Filtering to high-quality spectra\n",
    "\n",
    "Now, keep only the spectra that passed all metrics:"
   ],
   "id": "fa925d9b57de3d78"
  },
  {
   "metadata": {
    "ExecuteTime": {
     "end_time": "2025-07-16T20:32:36.556921Z",
     "start_time": "2025-07-16T20:32:36.516494Z"
    }
   },
   "cell_type": "code",
   "source": [
    "pass_idx = np.where(np.array(quality_lvls) == \"All checks passed\")[0]\n",
    "print(f\"{len(pass_idx)} spectra passed all QC out of {len(quality_lvls)}\")\n",
    "\n",
    "from dreams.utils.io import append_to_stem\n",
    "clean_h5 = append_to_stem(h5_path, \"high_quality\")\n",
    "msdata_hq = msdata_pos.form_subset(pass_idx, out_pth=clean_h5)\n",
    "print(msdata_hq)"
   ],
   "id": "bc1e8dca5db7c69c",
   "outputs": [
    {
     "name": "stdout",
     "output_type": "stream",
     "text": [
      "4758 spectra passed all QC out of 6720\n",
      "MSData(pth=/Users/macbook/CODE/DreaMS_MIMB/data/Piper_sirius_all_annotated_high_quality.hdf5, in_mem=False) with 4,758 spectra.\n"
     ]
    }
   ],
   "execution_count": 29
  },
  {
   "metadata": {},
   "cell_type": "markdown",
   "source": [
    "The new file (ending with `_high_quality.hdf5`) contains only the spectra that are **positive-ion**, **singly charged**, and **high quality**.\n",
    "\n",
    "---\n",
    "\n",
    "## 1.5 next steps\n",
    "\n",
    "You now have a clean, positive-ion, high-quality HDF5 file ready for **downstream embedding and clustering**.  \n",
    "Proceed to `2_deduplication.ipynb` for **LSH deduplication** and **DreaMS encoding**."
   ],
   "id": "2f29d987b48267fc"
  },
  {
   "metadata": {},
   "cell_type": "markdown",
   "source": "### 1.6 Work with large dataset",
   "id": "e46f3801be76a6a"
  },
  {
   "metadata": {},
   "cell_type": "markdown",
   "source": [
    "The **MSData** class enables working with **huge files** without loading all their content into memory.  \n",
    "\n",
    "Let’s look at an example using the **large-scale GeMS-A10 dataset** introduced in the [DreaMS paper](https://www.nature.com/articles/s41587-025-02663-3).  \n",
    "\n",
    "But first, we need to **download it**, since the **base setup** does not include the GeMS dataset:"
   ],
   "id": "2e9e7f4faa0a619c"
  },
  {
   "metadata": {
    "ExecuteTime": {
     "end_time": "2025-08-10T05:30:10.924698Z",
     "start_time": "2025-08-10T05:30:10.249682Z"
    }
   },
   "cell_type": "code",
   "source": "!python ../scripts/download_gems.py ",
   "id": "41fbf4245bdf7776",
   "outputs": [
    {
     "name": "stdout",
     "output_type": "stream",
     "text": [
      "[INFO] Downloading roman-bushuiev/MassSpecGym/data/spectra/GeMS_A10.hdf5\r\n",
      "[INFO] Destination: /Users/macbook/CODE/DreaMS_MIMB/data/spectra/GeMS_A10.hdf5\r\n",
      "/Users/macbook/UTILS/anaconda3/envs/dreams_mimb/lib/python3.11/site-packages/huggingface_hub/file_download.py:1132: FutureWarning: `resume_download` is deprecated and will be removed in version 1.0.0. Downloads always resume when possible. If you want to force a new download, use `force_download=True`.\r\n",
      "  warnings.warn(\r\n",
      "[OK] Download complete (via huggingface_hub).\r\n"
     ]
    }
   ],
   "execution_count": 17
  },
  {
   "metadata": {
    "ExecuteTime": {
     "end_time": "2025-08-10T05:32:54.415647Z",
     "start_time": "2025-08-10T05:32:54.282991Z"
    }
   },
   "cell_type": "code",
   "source": [
    "path_gems = PROJECT_ROOT /\"data\" / \"spectra\" / \"GeMS_A10.hdf5\"\n",
    "!ls -lhtr ../data/spectra/GeMS_A10.hdf5"
   ],
   "id": "a9bd0f1e55c712d0",
   "outputs": [
    {
     "name": "stdout",
     "output_type": "stream",
     "text": [
      "-rw-r--r--@ 3 macbook  staff    14G Aug 10 14:15 ../data/spectra/GeMS_A10.hdf5\r\n"
     ]
    }
   ],
   "execution_count": 21
  },
  {
   "metadata": {},
   "cell_type": "markdown",
   "source": [
    "The **GeMS-A10** dataset takes **14 GB** on disk (the uncompressed HDF5 version would take **47 GB**), which is too large to fit into the RAM of an average laptop.  \n",
    "\n",
    "Nevertheless, `MSData` allows for **efficient handling** of the file by loading only the **necessary chunks of data** at a time."
   ],
   "id": "24c27ab6f80def40"
  },
  {
   "metadata": {
    "ExecuteTime": {
     "end_time": "2025-08-10T05:33:44.697286Z",
     "start_time": "2025-08-10T05:33:44.690200Z"
    }
   },
   "cell_type": "code",
   "source": [
    "msdata_gems = MSData.from_hdf5(path_gems, in_mem=False)\n",
    "print(f'{path_gems} contains {len(msdata_gems)} spectra.')"
   ],
   "id": "fc22c55802e8f713",
   "outputs": [
    {
     "name": "stdout",
     "output_type": "stream",
     "text": [
      "/Users/macbook/CODE/DreaMS_MIMB/data/spectra/GeMS_A10.hdf5 contains 23517534 spectra.\n"
     ]
    }
   ],
   "execution_count": 22
  },
  {
   "metadata": {},
   "cell_type": "markdown",
   "source": [
    "When setting `in_mem=False` in the `MSData` constructor, none of the spectra or their metadata are loaded into memory initially.  \n",
    "The data is loaded **only when it is accessed**.\n",
    "\n",
    "For example, let’s retrieve the **first 50 spectra**:"
   ],
   "id": "80df625eee0205df"
  },
  {
   "metadata": {
    "ExecuteTime": {
     "end_time": "2025-08-10T05:34:14.500143Z",
     "start_time": "2025-08-10T05:34:13.998696Z"
    }
   },
   "cell_type": "code",
   "source": "msdata_gems.get_spectra(range(50)).shape",
   "id": "1b1f8431fa1d58c0",
   "outputs": [
    {
     "data": {
      "text/plain": [
       "(50, 2, 128)"
      ]
     },
     "execution_count": 23,
     "metadata": {},
     "output_type": "execute_result"
    }
   ],
   "execution_count": 23
  },
  {
   "metadata": {},
   "cell_type": "markdown",
   "source": "Or retrieve the **first 50 precursor m/z values**.\n",
   "id": "233510602d638b30"
  },
  {
   "metadata": {
    "ExecuteTime": {
     "end_time": "2025-08-10T05:34:40.192559Z",
     "start_time": "2025-08-10T05:34:40.188543Z"
    }
   },
   "cell_type": "code",
   "source": "msdata_gems.get_prec_mzs(range(50)).shape",
   "id": "49a417a04fe54a2a",
   "outputs": [
    {
     "data": {
      "text/plain": [
       "(50,)"
      ]
     },
     "execution_count": 24,
     "metadata": {},
     "output_type": "execute_result"
    }
   ],
   "execution_count": 24
  },
  {
   "metadata": {},
   "cell_type": "markdown",
   "source": [
    "To get **all precursor m/z values** (and load them into memory),  \n",
    "you can use either of the two equivalent options:"
   ],
   "id": "2610011ce88ba04a"
  },
  {
   "metadata": {
    "ExecuteTime": {
     "end_time": "2025-08-10T05:35:02.159284Z",
     "start_time": "2025-08-10T05:35:00.199896Z"
    }
   },
   "cell_type": "code",
   "source": "msdata_gems.get_prec_mzs().shape, msdata_gems['precursor_mz'].shape",
   "id": "5140186e94961817",
   "outputs": [
    {
     "data": {
      "text/plain": [
       "((23517534,), (23517534,))"
      ]
     },
     "execution_count": 25,
     "metadata": {},
     "output_type": "execute_result"
    }
   ],
   "execution_count": 25
  },
  {
   "metadata": {},
   "cell_type": "markdown",
   "source": "However, note that using `msdata['precursor_mz'][:50]` is **deprecated** for large datasets, because `msdata['precursor_mz']` first loads **all** the values into memory, and only then `[:50]` retrieves a chunk.",
   "id": "96a80361b6ec78a2"
  },
  {
   "metadata": {},
   "cell_type": "code",
   "outputs": [],
   "execution_count": null,
   "source": "",
   "id": "8590901df370d1e0"
  }
 ],
 "metadata": {
  "kernelspec": {
   "display_name": "Python 3",
   "language": "python",
   "name": "python3"
  },
  "language_info": {
   "codemirror_mode": {
    "name": "ipython",
    "version": 2
   },
   "file_extension": ".py",
   "mimetype": "text/x-python",
   "name": "python",
   "nbconvert_exporter": "python",
   "pygments_lexer": "ipython2",
   "version": "2.7.6"
  }
 },
 "nbformat": 4,
 "nbformat_minor": 5
}
