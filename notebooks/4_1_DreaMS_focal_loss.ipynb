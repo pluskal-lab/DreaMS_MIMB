{
 "cells": [
  {
   "cell_type": "code",
   "id": "initial_id",
   "metadata": {
    "collapsed": true,
    "ExecuteTime": {
     "end_time": "2025-07-09T07:06:14.533471Z",
     "start_time": "2025-07-09T07:06:07.105934Z"
    }
   },
   "source": [
    "\n",
    "import sys\n",
    "from pathlib import Path\n",
    "\n",
    "sys.path.append(str(Path().resolve().parent))\n",
    "from paths import PROJECT_ROOT\n",
    "\n",
    "import torch\n",
    "import pytorch_lightning as pl\n",
    "\n",
    "from benchmark.data.datasets import BinaryDetectionDataset\n",
    "from benchmark.data.data_module import BenchmarkDataModule\n",
    "from benchmark.models.lit_binary_classifier import LitClassifier\n",
    "\n",
    "# 1) Annotate your MGF (if you haven’t yet)\n",
    "ORIG_MGF   = PROJECT_ROOT / \"data/massspecgym/MassSpecGym.mgf\"\n",
    "LABELED_MGF= PROJECT_ROOT / \"data/massspecgym/MassSpecGym_chlorine.mgf\"\n",
    "label_fn   = lambda md: float(\"Cl\" in md.get(\"formula\",\"\"))\n",
    "BinaryDetectionDataset.annotate_mgf(\n",
    "    input_pth = ORIG_MGF,\n",
    "    output_pth= LABELED_MGF,\n",
    "    label_fn  = label_fn\n",
    ")"
   ],
   "outputs": [
    {
     "name": "stderr",
     "output_type": "stream",
     "text": [
      "/Users/macbook/UTILS/anaconda3/envs/dreams_mimb/lib/python3.11/site-packages/lightning_fabric/__init__.py:41: pkg_resources is deprecated as an API. See https://setuptools.pypa.io/en/latest/pkg_resources.html. The pkg_resources package is slated for removal as early as 2025-11-30. Refrain from using this package or pin to Setuptools<81.\n",
      "Determination of memory status is not supported on this \n",
      " platform, measuring for memoryleaks will never fail\n"
     ]
    },
    {
     "name": "stdout",
     "output_type": "stream",
     "text": [
      "/Users/macbook/CODE/DreaMS_MIMB/data/massspecgym/MassSpecGym_chlorine.mgf already exists; skipping annotation.\n"
     ]
    }
   ],
   "execution_count": 1
  },
  {
   "metadata": {
    "ExecuteTime": {
     "end_time": "2025-07-09T07:07:18.655509Z",
     "start_time": "2025-07-09T07:06:37.224617Z"
    }
   },
   "cell_type": "code",
   "source": [
    "# 2) Prepare Dataset & DataModule\n",
    "from massspecgym.data.transforms import SpecTokenizer\n",
    "spec_transform = SpecTokenizer(n_peaks=64)\n",
    "\n",
    "ds = BinaryDetectionDataset(\n",
    "    pth           = LABELED_MGF,\n",
    "    spec_transform= spec_transform,\n",
    ")\n",
    "dm = BenchmarkDataModule(dataset=ds, batch_size=64, num_workers=0)"
   ],
   "id": "44b535edf151a765",
   "outputs": [],
   "execution_count": 3
  },
  {
   "metadata": {
    "ExecuteTime": {
     "end_time": "2025-07-09T07:07:18.661184Z",
     "start_time": "2025-07-09T07:07:18.658620Z"
    }
   },
   "cell_type": "code",
   "source": [
    "import torch\n",
    "from pytorch_lightning import Trainer\n",
    "\n",
    "def get_trainer_kwargs():\n",
    "    \"\"\"\n",
    "    Inspect available hardware and return a dict suitable\n",
    "    for passing into Trainer(..., **kwargs).\n",
    "    \"\"\"\n",
    "    if torch.cuda.is_available():\n",
    "        # one or more NVIDIA GPUs\n",
    "        return {\n",
    "            \"accelerator\": \"gpu\",\n",
    "            \"devices\": torch.cuda.device_count(),\n",
    "            \"precision\": 16,           # use mixed-precision for speed\n",
    "        }\n",
    "    elif torch.backends.mps.is_available() and torch.backends.mps.is_built():\n",
    "        # Apple Silicon GPU via MPS\n",
    "        return {\n",
    "            \"accelerator\": \"mps\",\n",
    "            \"devices\": 1,\n",
    "            \"precision\": 16,           # mixed-precision works on MPS\n",
    "        }\n",
    "    else:\n",
    "        # fallback to CPU\n",
    "        return {\n",
    "            \"accelerator\": \"cpu\",\n",
    "            \"devices\": 1,\n",
    "        }"
   ],
   "id": "9a7f6bff230db4ee",
   "outputs": [],
   "execution_count": 4
  },
  {
   "metadata": {
    "ExecuteTime": {
     "end_time": "2025-07-09T07:07:20.352865Z",
     "start_time": "2025-07-09T07:07:18.666017Z"
    }
   },
   "cell_type": "code",
   "source": [
    "# 3) Instantiate the LightningModule with Focal Loss\n",
    "lit = LitClassifier(\n",
    "    ckpt_path    = str(PROJECT_ROOT/\"data/model_checkpoints/ssl_model.ckpt\"),\n",
    "    num_classes  = 2,        # binary\n",
    "    n_highest_peaks = 64,\n",
    "    lr            = 1e-5,    # pick a small LR for stability\n",
    "    dropout       = 0.1,\n",
    "    train_encoder = True,\n",
    "    use_focal     = True,    # turn on focal loss\n",
    "    gamma         = 0.5,     # focusing parameter\n",
    "    alpha         = 0.8      # positive‐class weight (fraction of positives)\n",
    ")"
   ],
   "id": "31d76108ffb4af5a",
   "outputs": [],
   "execution_count": 5
  },
  {
   "metadata": {
    "ExecuteTime": {
     "end_time": "2025-07-09T07:07:20.362742Z",
     "start_time": "2025-07-09T07:07:20.359067Z"
    }
   },
   "cell_type": "code",
   "source": [
    "from pytorch_lightning.callbacks import Callback\n",
    "import torch\n",
    "\n",
    "class MetricsLogger(Callback):\n",
    "    def __init__(self):\n",
    "        super().__init__()\n",
    "        self.train_losses = []\n",
    "        self.val_losses   = []\n",
    "        self.val_aucs     = []\n",
    "        self.val_prs      = []\n",
    "        self.val_f1s      = []\n",
    "\n",
    "    def on_train_batch_end(self, trainer, pl_module, outputs, batch, batch_idx, dataloader_idx=0):\n",
    "        loss = (\n",
    "            outputs.detach().cpu().item()\n",
    "            if isinstance(outputs, torch.Tensor)\n",
    "            else outputs['loss'].detach().cpu().item()\n",
    "        )\n",
    "        self.train_losses.append(loss)\n",
    "\n",
    "    def on_validation_batch_end(self, trainer, pl_module, outputs, batch, batch_idx, dataloader_idx=0):\n",
    "        m = trainer.callback_metrics\n",
    "        # note: callback_metrics keys are strings exactly as you logged them\n",
    "        if 'val_loss' in m:\n",
    "            self.val_losses.append(m['val_loss'].cpu().item())\n",
    "        if 'val_auc' in m:\n",
    "            self.val_aucs.append(m['val_auc'].cpu().item())\n",
    "        if 'val_pr' in m:\n",
    "            self.val_prs.append(m['val_pr'].cpu().item())\n",
    "        if 'val_f1' in m:\n",
    "            self.val_f1s.append(m['val_f1'].cpu().item())"
   ],
   "id": "ca0d8831d8d71486",
   "outputs": [],
   "execution_count": 6
  },
  {
   "metadata": {
    "ExecuteTime": {
     "end_time": "2025-07-09T07:07:20.395013Z",
     "start_time": "2025-07-09T07:07:20.374410Z"
    }
   },
   "cell_type": "code",
   "source": [
    "metrics_cb = MetricsLogger()\n",
    "trainer_kwargs = get_trainer_kwargs()"
   ],
   "id": "8d38660143e266a6",
   "outputs": [],
   "execution_count": 7
  },
  {
   "metadata": {
    "ExecuteTime": {
     "end_time": "2025-07-09T07:07:20.418277Z",
     "start_time": "2025-07-09T07:07:20.401716Z"
    }
   },
   "cell_type": "code",
   "source": [
    "trainer = pl.Trainer(\n",
    "    max_epochs=1,\n",
    "    gradient_clip_val=0.5,\n",
    "    callbacks=[metrics_cb],\n",
    "    **get_trainer_kwargs()\n",
    ")"
   ],
   "id": "98742a3539360e4d",
   "outputs": [
    {
     "name": "stderr",
     "output_type": "stream",
     "text": [
      "/Users/macbook/UTILS/anaconda3/envs/dreams_mimb/lib/python3.11/site-packages/lightning_fabric/connector.py:563: `precision=16` is supported for historical reasons but its usage is discouraged. Please set your precision to 16-mixed instead!\n",
      "Using 16bit Automatic Mixed Precision (AMP)\n",
      "/Users/macbook/UTILS/anaconda3/envs/dreams_mimb/lib/python3.11/site-packages/torch/amp/grad_scaler.py:131: UserWarning: torch.cuda.amp.GradScaler is enabled, but CUDA is not available.  Disabling.\n",
      "  warnings.warn(\n",
      "GPU available: True (mps), used: True\n",
      "TPU available: False, using: 0 TPU cores\n",
      "IPU available: False, using: 0 IPUs\n",
      "HPU available: False, using: 0 HPUs\n",
      "/Users/macbook/UTILS/anaconda3/envs/dreams_mimb/lib/python3.11/site-packages/pytorch_lightning/trainer/connectors/logger_connector/logger_connector.py:75: Starting from v1.9.0, `tensorboardX` has been removed as a dependency of the `pytorch_lightning` package, due to potential conflicts with other packages in the ML ecosystem. For this reason, `logger=True` will use `CSVLogger` as the default logger, unless the `tensorboard` or `tensorboardX` packages are found. Please `pip install lightning[extra]` or one of them to enable TensorBoard support by default\n"
     ]
    }
   ],
   "execution_count": 8
  },
  {
   "metadata": {
    "jupyter": {
     "is_executing": true
    },
    "ExecuteTime": {
     "start_time": "2025-07-09T07:07:20.507860Z"
    }
   },
   "cell_type": "code",
   "source": [
    "# 5) Fit & test\n",
    "trainer.fit(lit, dm)"
   ],
   "id": "c5ee7650f02b529c",
   "outputs": [
    {
     "name": "stderr",
     "output_type": "stream",
     "text": [
      "Loading `train_dataloader` to estimate number of stepping batches.\n",
      "/Users/macbook/UTILS/anaconda3/envs/dreams_mimb/lib/python3.11/site-packages/pytorch_lightning/trainer/connectors/data_connector.py:441: The 'train_dataloader' does not have many workers which may be a bottleneck. Consider increasing the value of the `num_workers` argument` to `num_workers=9` in the `DataLoader` to improve performance.\n",
      "\n",
      "  | Name      | Type                   | Params\n",
      "-----------------------------------------------------\n",
      "0 | model     | DreamsClassifier       | 95.6 M\n",
      "1 | criterion | FocalLoss              | 0     \n",
      "2 | train_acc | BinaryAccuracy         | 0     \n",
      "3 | val_acc   | BinaryAccuracy         | 0     \n",
      "4 | val_auc   | BinaryAUROC            | 0     \n",
      "5 | val_pr    | BinaryAveragePrecision | 0     \n",
      "6 | val_f1    | BinaryF1Score          | 0     \n",
      "-----------------------------------------------------\n",
      "95.6 M    Trainable params\n",
      "0         Non-trainable params\n",
      "95.6 M    Total params\n",
      "382.202   Total estimated model params size (MB)\n"
     ]
    },
    {
     "data": {
      "text/plain": [
       "Sanity Checking: |          | 0/? [00:00<?, ?it/s]"
      ],
      "application/vnd.jupyter.widget-view+json": {
       "version_major": 2,
       "version_minor": 0,
       "model_id": "5711547e637d42ad9a6e720f8082582b"
      }
     },
     "metadata": {},
     "output_type": "display_data"
    },
    {
     "name": "stderr",
     "output_type": "stream",
     "text": [
      "/Users/macbook/UTILS/anaconda3/envs/dreams_mimb/lib/python3.11/site-packages/pytorch_lightning/trainer/connectors/data_connector.py:441: The 'val_dataloader' does not have many workers which may be a bottleneck. Consider increasing the value of the `num_workers` argument` to `num_workers=9` in the `DataLoader` to improve performance.\n",
      "/Users/macbook/UTILS/anaconda3/envs/dreams_mimb/lib/python3.11/site-packages/torch/amp/autocast_mode.py:250: UserWarning: User provided device_type of 'cuda', but CUDA is not available. Disabling\n",
      "  warnings.warn(\n",
      "/Users/macbook/UTILS/anaconda3/envs/dreams_mimb/lib/python3.11/site-packages/pytorch_lightning/utilities/data.py:77: Trying to infer the `batch_size` from an ambiguous collection. The batch size we found is 64. To avoid any miscalculations, use `self.log(..., batch_size=batch_size)`.\n",
      "/Users/macbook/UTILS/anaconda3/envs/dreams_mimb/lib/python3.11/site-packages/torchmetrics/utilities/prints.py:43: UserWarning: No positive samples in targets, true positive value should be meaningless. Returning zero tensor in true positive score\n",
      "  warnings.warn(*args, **kwargs)  # noqa: B028\n",
      "/Users/macbook/UTILS/anaconda3/envs/dreams_mimb/lib/python3.11/site-packages/torchmetrics/utilities/prints.py:43: UserWarning: No positive samples found in target, recall is undefined. Setting recall to one for all thresholds.\n",
      "  warnings.warn(*args, **kwargs)  # noqa: B028\n"
     ]
    },
    {
     "data": {
      "text/plain": [
       "Training: |          | 0/? [00:00<?, ?it/s]"
      ],
      "application/vnd.jupyter.widget-view+json": {
       "version_major": 2,
       "version_minor": 0,
       "model_id": "a668bb3cd5e74addb9608f3535610f88"
      }
     },
     "metadata": {},
     "output_type": "display_data"
    }
   ],
   "execution_count": null
  },
  {
   "metadata": {
    "ExecuteTime": {
     "end_time": "2025-07-09T07:03:39.423442Z",
     "start_time": "2025-07-09T07:03:39.262553Z"
    }
   },
   "cell_type": "code",
   "source": [
    "import matplotlib.pyplot as plt\n",
    "\n",
    "# 1) Loss\n",
    "plt.figure(figsize=(6,4))\n",
    "plt.plot(metrics_cb.train_losses, label=\"train loss\")\n",
    "plt.plot(metrics_cb.val_losses,   label=\"val loss\")\n",
    "plt.xlabel(\"Batch #\"); plt.ylabel(\"Loss\")\n",
    "plt.legend(); plt.title(\"Loss Curve\")\n",
    "plt.show()\n",
    "\n",
    "# 2) AUC\n",
    "if metrics_cb.val_aucs:\n",
    "    plt.figure(figsize=(6,4))\n",
    "    plt.plot(metrics_cb.val_aucs, label=\"val AUROC\", color='tab:green')\n",
    "    plt.xlabel(\"Batch #\"); plt.ylabel(\"AUROC\")\n",
    "    plt.legend(); plt.title(\"Validation AUROC\")\n",
    "    plt.show()\n",
    "\n",
    "# 3) Average Precision\n",
    "if metrics_cb.val_prs:\n",
    "    plt.figure(figsize=(6,4))\n",
    "    plt.plot(metrics_cb.val_prs, label=\"val AP\", color='tab:purple')\n",
    "    plt.xlabel(\"Batch #\"); plt.ylabel(\"Average Precision\")\n",
    "    plt.legend(); plt.title(\"Validation Precision-Recall AUC\")\n",
    "    plt.show()\n",
    "\n",
    "# 4) F1 Score\n",
    "if metrics_cb.val_f1s:\n",
    "    plt.figure(figsize=(6,4))\n",
    "    plt.plot(metrics_cb.val_f1s, label=\"val F1\", color='tab:orange')\n",
    "    plt.xlabel(\"Batch #\"); plt.ylabel(\"F1 Score\")\n",
    "    plt.legend(); plt.title(\"Validation F1 Over Time\")\n",
    "    plt.show()"
   ],
   "id": "39dfe4edf58ee33f",
   "outputs": [
    {
     "data": {
      "text/plain": [
       "<Figure size 600x400 with 1 Axes>"
      ],
      "image/png": "[encoded data removed]"
     },
     "metadata": {},
     "output_type": "display_data"
    }
   ],
   "execution_count": 9
  },
  {
   "metadata": {},
   "cell_type": "code",
   "outputs": [],
   "execution_count": null,
   "source": "trainer.test(lit, dm)",
   "id": "272457a5b5363b5e"
  }
 ],
 "metadata": {
  "kernelspec": {
   "display_name": "Python 3",
   "language": "python",
   "name": "python3"
  },
  "language_info": {
   "codemirror_mode": {
    "name": "ipython",
    "version": 2
   },
   "file_extension": ".py",
   "mimetype": "text/x-python",
   "name": "python",
   "nbconvert_exporter": "python",
   "pygments_lexer": "ipython2",
   "version": "2.7.6"
  }
 },
 "nbformat": 4,
 "nbformat_minor": 5
}
