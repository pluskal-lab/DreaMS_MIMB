{
 "cells": [
  {
   "cell_type": "code",
   "id": "initial_id",
   "metadata": {
    "collapsed": true,
    "ExecuteTime": {
     "end_time": "2025-07-04T15:46:26.149175Z",
     "start_time": "2025-07-04T15:46:19.262846Z"
    }
   },
   "source": [
    "import sys\n",
    "from pathlib import Path\n",
    "\n",
    "# assume this notebook lives in notebooks/, so parent() is the repo root\n",
    "sys.path.append(str(Path().resolve().parent))\n",
    "from paths import PROJECT_ROOT\n",
    "\n",
    "import numpy as np\n",
    "import pandas as pd\n",
    "from tqdm import tqdm\n",
    "\n",
    "from dreams.utils.data import MSData\n",
    "from dreams.api import dreams_embeddings\n",
    "from sklearn.metrics.pairwise import cosine_similarity\n",
    "import dreams.utils.spectra as su"
   ],
   "outputs": [
    {
     "name": "stderr",
     "output_type": "stream",
     "text": [
      "/Users/macbook/UTILS/anaconda3/envs/dreams_mimb/lib/python3.11/site-packages/lightning_fabric/__init__.py:41: pkg_resources is deprecated as an API. See https://setuptools.pypa.io/en/latest/pkg_resources.html. The pkg_resources package is slated for removal as early as 2025-11-30. Refrain from using this package or pin to Setuptools<81.\n",
      "Determination of memory status is not supported on this \n",
      " platform, measuring for memoryleaks will never fail\n"
     ]
    }
   ],
   "execution_count": 1
  },
  {
   "metadata": {
    "ExecuteTime": {
     "end_time": "2025-07-04T15:46:37.038413Z",
     "start_time": "2025-07-04T15:46:37.034034Z"
    }
   },
   "cell_type": "code",
   "source": [
    "# 1) Define paths ----------------------------------------------------------\n",
    "# 1a) MassSpecGym library\n",
    "mgf_path      = PROJECT_ROOT / \"data\" / \"massspecgym\" / \"MassSpecGym.mgf\"\n",
    "lib_h5        = mgf_path.with_suffix(\".hdf5\")\n",
    "lib_emb_path  = lib_h5.with_name(lib_h5.stem + \"_dreams_emb.npy\")\n",
    "\n",
    "# 1b) Our query: deduplicated, high-quality spectra from step 2\n",
    "query_h5       = PROJECT_ROOT / \"data\" / \"rawfiles\" / \"202312_20_P09-Leaf-r1_1uL_high_quality_dedup.hdf5\"\n",
    "query_emb_path = query_h5.with_name(query_h5.stem + \"_dreams_emb.npy\")"
   ],
   "id": "1e187f53909a2036",
   "outputs": [],
   "execution_count": 2
  },
  {
   "metadata": {
    "ExecuteTime": {
     "end_time": "2025-07-04T15:46:52.109445Z",
     "start_time": "2025-07-04T15:46:52.106504Z"
    }
   },
   "cell_type": "code",
   "source": [
    "# 1c) Results folder\n",
    "results_folder = PROJECT_ROOT / \"results\"\n",
    "results_folder.mkdir(exist_ok=True)"
   ],
   "id": "8df7b04abd607b51",
   "outputs": [],
   "execution_count": 3
  },
  {
   "metadata": {},
   "cell_type": "markdown",
   "source": "### DreaMS needs at the input mass spectra and precursor mz",
   "id": "8941b873af7dcd0b"
  },
  {
   "metadata": {},
   "cell_type": "markdown",
   "source": "#### Furher if you do not have embeddings computed for MassSpecGym, it will now compute, it can take approximatelly one hour but after that you can reuse it, and it is done in no time then.",
   "id": "bccdf3897805965e"
  },
  {
   "metadata": {
    "ExecuteTime": {
     "end_time": "2025-07-04T15:50:32.883289Z",
     "start_time": "2025-07-04T15:50:31.339878Z"
    }
   },
   "cell_type": "code",
   "source": [
    "# 2) Load MassSpecGym library (or convert if needed) -----------------------\n",
    "if lib_h5.exists():\n",
    "    msdata_lib = MSData.from_hdf5(lib_h5, in_mem=True)\n",
    "else:\n",
    "    # parse .mgf → .hdf5\n",
    "    msdata_lib = MSData.from_mgf(str(mgf_path), prec_mz_col=\"PRECURSOR_MZ\")\n",
    "print(f\"Library loaded: {len(msdata_lib)} spectra → {lib_h5.name}\")\n",
    "print(\"Columns:\", msdata_lib.columns())"
   ],
   "id": "eb2e51fcc2e7da81",
   "outputs": [
    {
     "name": "stdout",
     "output_type": "stream",
     "text": [
      "Loading dataset MassSpecGym into memory (231104 spectra)...\n",
      "Library loaded: 231104 spectra → MassSpecGym.hdf5\n",
      "Columns: ['COLLISION_ENERGY', 'FOLD', 'FORMULA', 'IDENTIFIER', 'INCHIKEY', 'INSTRUMENT_TYPE', 'PARENT_MASS', 'PRECURSOR_FORMULA', 'SIMULATION_CHALLENGE', 'adduct', 'precursor_mz', 'smiles', 'spectrum']\n"
     ]
    }
   ],
   "execution_count": 4
  },
  {
   "metadata": {},
   "cell_type": "markdown",
   "source": "### Now we will compute embeddings for our investigated data",
   "id": "cff043fc0d99951f"
  },
  {
   "metadata": {
    "ExecuteTime": {
     "end_time": "2025-07-04T15:54:59.267241Z",
     "start_time": "2025-07-04T15:54:58.948844Z"
    }
   },
   "cell_type": "code",
   "source": [
    "# 3) Compute or load library embeddings -----------------------------------\n",
    "if lib_emb_path.exists():\n",
    "    embs_lib = np.load(lib_emb_path)\n",
    "    print(\"Loaded saved library embeddings:\", embs_lib.shape)\n",
    "else:\n",
    "    embs_lib = dreams_embeddings(msdata_lib)\n",
    "    np.save(lib_emb_path, embs_lib)\n",
    "    print(\"Computed & saved library embeddings:\", embs_lib.shape)"
   ],
   "id": "2b435bcf6ef96053",
   "outputs": [
    {
     "name": "stdout",
     "output_type": "stream",
     "text": [
      "Loaded saved library embeddings: (231104, 1024)\n"
     ]
    }
   ],
   "execution_count": 5
  },
  {
   "metadata": {},
   "cell_type": "markdown",
   "source": "#### Here we load our preprocessed data from tutorial 1 & 2. But i you do not have you processed, and would like to continue with processing, you can do so, just call method TODO MSData....",
   "id": "b91aa39fadcedbbe"
  },
  {
   "metadata": {
    "ExecuteTime": {
     "end_time": "2025-07-04T16:00:27.378596Z",
     "start_time": "2025-07-04T16:00:27.365705Z"
    }
   },
   "cell_type": "code",
   "source": [
    "# 4) Load query spectra & compute/load query embeddings -------------------\n",
    "if query_h5.exists():\n",
    "    msdata_q = MSData.from_hdf5(query_h5, in_mem=True)\n",
    "else:\n",
    "    raise FileNotFoundError(f\"Expected dedup HDF5 at {query_h5}\")\n",
    "print(f\"Query loaded:   {len(msdata_q)} spectra → {query_h5.name}\")"
   ],
   "id": "89feb8873f1b44fe",
   "outputs": [
    {
     "name": "stdout",
     "output_type": "stream",
     "text": [
      "Loading dataset 202312_20_P09-Leaf-r1_1uL_high_quality_dedup into memory (1558 spectra)...\n",
      "Query loaded:   1558 spectra → 202312_20_P09-Leaf-r1_1uL_high_quality_dedup.hdf5\n"
     ]
    }
   ],
   "execution_count": 6
  },
  {
   "metadata": {},
   "cell_type": "markdown",
   "source": "#### Now we want to compute embeddings for our data. We have to do it, otherwise we will not be able to do similarity matching",
   "id": "bbf97de144a00dc9"
  },
  {
   "metadata": {
    "ExecuteTime": {
     "end_time": "2025-07-04T16:04:37.866979Z",
     "start_time": "2025-07-04T16:03:59.524796Z"
    }
   },
   "cell_type": "code",
   "source": [
    "if query_emb_path.exists():\n",
    "    embs_q = np.load(query_emb_path)\n",
    "    print(\"Loaded saved query embeddings:\", embs_q.shape)\n",
    "else:\n",
    "    embs_q = dreams_embeddings(msdata_q)\n",
    "    np.save(query_emb_path, embs_q)\n",
    "    print(\"Computed & saved query embeddings:\", embs_q.shape)"
   ],
   "id": "7d07141c5e929040",
   "outputs": [
    {
     "name": "stderr",
     "output_type": "stream",
     "text": [
      "Computing DreaMS embedding: 100%|██████████| 1558/1558 [00:33<00:00, 45.98it/s]\n"
     ]
    },
    {
     "name": "stdout",
     "output_type": "stream",
     "text": [
      "Computed & saved query embeddings: (1558, 1024)\n"
     ]
    }
   ],
   "execution_count": 7
  },
  {
   "metadata": {},
   "cell_type": "markdown",
   "source": "#### Now we compute pairwise similarity between our mass spectra and spectra from MassSpecGym",
   "id": "1c3f4d76ebc8d027"
  },
  {
   "metadata": {
    "ExecuteTime": {
     "end_time": "2025-07-04T16:05:25.750855Z",
     "start_time": "2025-07-04T16:05:23.409566Z"
    }
   },
   "cell_type": "code",
   "source": [
    "# 5) Compute all‐vs‐all cosine similarities -------------------------------\n",
    "# returns an array of shape (n_query, n_library)\n",
    "sims = cosine_similarity(embs_q, embs_lib)\n",
    "print(\"Similarity matrix:\", sims.shape)"
   ],
   "id": "6963085262fcaf2a",
   "outputs": [
    {
     "name": "stdout",
     "output_type": "stream",
     "text": [
      "Similarity matrix: (1558, 231104)\n"
     ]
    }
   ],
   "execution_count": 8
  },
  {
   "metadata": {},
   "cell_type": "markdown",
   "source": "### Saving the results",
   "id": "ec55b21edd710e0c"
  },
  {
   "metadata": {
    "ExecuteTime": {
     "end_time": "2025-07-04T16:15:50.238145Z",
     "start_time": "2025-07-04T16:15:19.164756Z"
    }
   },
   "cell_type": "code",
   "source": [
    "# 6) Find top-5 matches for each query spectrum ---------------------------\n",
    "k = 5\n",
    "topk = np.argsort(sims, axis=1)[:, -k:][:, ::-1]\n",
    "print(f\"Top-{k} matches per query computed.\")\n"
   ],
   "id": "a7f4c86a03e8ee5c",
   "outputs": [
    {
     "name": "stdout",
     "output_type": "stream",
     "text": [
      "Top-5 matches per query computed.\n"
     ]
    }
   ],
   "execution_count": 9
  },
  {
   "metadata": {
    "ExecuteTime": {
     "end_time": "2025-07-04T16:16:22.544144Z",
     "start_time": "2025-07-04T16:16:19.987503Z"
    }
   },
   "cell_type": "code",
   "source": [
    "# 7) Build results table ---------------------------------------------------\n",
    "rows = []\n",
    "cos_sim = su.PeakListModifiedCosine()\n",
    "\n",
    "for i_q, top_inds in enumerate(tqdm(topk, desc=\"Assembling results\")):\n",
    "    for rank, i_lib in enumerate(top_inds, start=1):\n",
    "        rows.append({\n",
    "            \"query_index\":                i_q,\n",
    "            \"rank\":                       rank,\n",
    "            \"library_index\":              int(i_lib),\n",
    "            \"library_SMILES\":             msdata_lib.get_smiles(i_lib),\n",
    "            \"library_IDENTIFIER\":         msdata_lib.get_values(\"IDENTIFIER\", i_lib),\n",
    "            \"DreaMS_similarity\":          float(sims[i_q, i_lib]),\n",
    "            \"Modified_cosine_similarity\": cos_sim(\n",
    "                spec1=msdata_q.get_spectra(i_q),\n",
    "                prec_mz1=msdata_q.get_prec_mzs(i_q),\n",
    "                spec2=msdata_lib.get_spectra(i_lib),\n",
    "                prec_mz2=msdata_lib.get_prec_mzs(i_lib),\n",
    "            )\n",
    "        })\n",
    "\n",
    "df_matches = pd.DataFrame(rows)\n",
    "print(\"Results table shape:\", df_matches.shape)"
   ],
   "id": "fa6de8aab603143d",
   "outputs": [
    {
     "name": "stderr",
     "output_type": "stream",
     "text": [
      "Assembling results: 100%|██████████| 1558/1558 [00:02<00:00, 612.86it/s] \n"
     ]
    },
    {
     "name": "stdout",
     "output_type": "stream",
     "text": [
      "Results table shape: (7790, 7)\n"
     ]
    }
   ],
   "execution_count": 10
  },
  {
   "metadata": {},
   "cell_type": "markdown",
   "source": "#### Saving result",
   "id": "696adf194313e1b2"
  },
  {
   "metadata": {
    "ExecuteTime": {
     "end_time": "2025-07-04T16:18:43.675079Z",
     "start_time": "2025-07-04T16:18:43.628494Z"
    }
   },
   "cell_type": "code",
   "source": [
    "# 8) Save results to CSV ---------------------------------------------------\n",
    "out_csv = results_folder / \"library_matching_results.csv\"\n",
    "df_matches.to_csv(out_csv, index=False)\n",
    "print(\"Library matching results saved to:\", out_csv.name)"
   ],
   "id": "9fe36dc81ef9ba5a",
   "outputs": [
    {
     "name": "stdout",
     "output_type": "stream",
     "text": [
      "Library matching results saved to: library_matching_results.csv\n"
     ]
    }
   ],
   "execution_count": 11
  },
  {
   "metadata": {},
   "cell_type": "code",
   "outputs": [],
   "execution_count": null,
   "source": "",
   "id": "4267d16deddda31d"
  }
 ],
 "metadata": {
  "kernelspec": {
   "display_name": "Python 3",
   "language": "python",
   "name": "python3"
  },
  "language_info": {
   "codemirror_mode": {
    "name": "ipython",
    "version": 2
   },
   "file_extension": ".py",
   "mimetype": "text/x-python",
   "name": "python",
   "nbconvert_exporter": "python",
   "pygments_lexer": "ipython2",
   "version": "2.7.6"
  }
 },
 "nbformat": 4,
 "nbformat_minor": 5
}
