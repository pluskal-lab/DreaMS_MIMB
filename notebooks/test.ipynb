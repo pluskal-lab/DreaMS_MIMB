{
 "cells": [
  {
   "cell_type": "code",
   "id": "initial_id",
   "metadata": {
    "collapsed": true,
    "ExecuteTime": {
     "end_time": "2025-06-27T12:37:03.152579Z",
     "start_time": "2025-06-27T12:36:17.294064Z"
    }
   },
   "source": [
    "import sys\n",
    "from pathlib import Path\n",
    "\n",
    "# This sets the main folder of the project so we can find files without writing full paths\n",
    "sys.path.append(str(Path().resolve().parent))\n",
    "\n",
    "# Now we get the path to the main project folder\n",
    "from paths import PROJECT_ROOT\n",
    "\n",
    "from dreams.utils.data import MSData\n",
    "from dreams.api import dreams_embeddings\n"
   ],
   "outputs": [
    {
     "name": "stderr",
     "output_type": "stream",
     "text": [
      "/Users/macbook/UTILS/anaconda3/envs/dreams_mimb/lib/python3.11/site-packages/lightning_fabric/__init__.py:36: UserWarning: pkg_resources is deprecated as an API. See https://setuptools.pypa.io/en/latest/pkg_resources.html. The pkg_resources package is slated for removal as early as 2025-11-30. Refrain from using this package or pin to Setuptools<81.\n",
      "  __import__(\"pkg_resources\").declare_namespace(__name__)\n",
      "Determination of memory status is not supported on this \n",
      " platform, measuring for memoryleaks will never fail\n"
     ]
    }
   ],
   "execution_count": 1
  },
  {
   "metadata": {
    "ExecuteTime": {
     "end_time": "2025-06-27T12:37:03.167281Z",
     "start_time": "2025-06-27T12:37:03.164884Z"
    }
   },
   "cell_type": "code",
   "source": [
    "# Define the file path relative to the project root\n",
    "relative_path = Path(\"data\", \"rawfiles\", \"202312_20_P09-Leaf-r1_1uL.mzML\")\n",
    "file_path = PROJECT_ROOT / relative_path"
   ],
   "id": "5d2fa17b51509382",
   "outputs": [],
   "execution_count": 2
  },
  {
   "metadata": {
    "ExecuteTime": {
     "end_time": "2025-06-27T12:37:05.283226Z",
     "start_time": "2025-06-27T12:37:03.173522Z"
    }
   },
   "cell_type": "code",
   "source": [
    "# Load the data\n",
    "msdata = MSData.from_mzml(str(file_path))"
   ],
   "id": "ccc82a49e84d9b6f",
   "outputs": [
    {
     "name": "stdout",
     "output_type": "stream",
     "text": [
      "Loading dataset 202312_20_P09-Leaf-r1_1uL into memory (5681 spectra)...\n"
     ]
    }
   ],
   "execution_count": 3
  },
  {
   "metadata": {
    "ExecuteTime": {
     "end_time": "2025-06-27T12:48:51.480539Z",
     "start_time": "2025-06-27T12:37:05.355208Z"
    }
   },
   "cell_type": "code",
   "source": [
    "# Compute the embeddings\n",
    "embeddings = dreams_embeddings(msdata)"
   ],
   "id": "d8601191303eaba2",
   "outputs": [
    {
     "name": "stderr",
     "output_type": "stream",
     "text": [
      "Downloading embedding_model.ckpt: 1.16GB [04:11, 4.94MB/s]                               \n",
      "Downloading ssl_model.ckpt: 1.30GB [03:56, 5.88MB/s]                              \n",
      "Computing DreaMS embedding: 100%|██████████| 5681/5681 [03:34<00:00, 26.43it/s]\n"
     ]
    }
   ],
   "execution_count": 4
  },
  {
   "metadata": {
    "ExecuteTime": {
     "end_time": "2025-06-27T12:48:51.488973Z",
     "start_time": "2025-06-27T12:48:51.486812Z"
    }
   },
   "cell_type": "code",
   "source": [
    "# Show basic info\n",
    "print(\"Number of spectra:\", len(msdata))\n",
    "print(\"Embeddings shape:\", embeddings.shape)"
   ],
   "id": "2d07ce0687e88ea5",
   "outputs": [
    {
     "name": "stdout",
     "output_type": "stream",
     "text": [
      "Number of spectra: 5681\n",
      "Embeddings shape: (5681, 1024)\n"
     ]
    }
   ],
   "execution_count": 5
  },
  {
   "metadata": {
    "ExecuteTime": {
     "end_time": "2025-06-27T12:53:58.491083Z",
     "start_time": "2025-06-27T12:53:58.487621Z"
    }
   },
   "cell_type": "code",
   "source": [
    "from dreams.definitions import PRETRAINED\n",
    "print(\"DreaMS will cache model files here:\", PRETRAINED)"
   ],
   "id": "e8311d76889e666",
   "outputs": [
    {
     "name": "stdout",
     "output_type": "stream",
     "text": [
      "DreaMS will cache model files here: /Users/macbook/UTILS/anaconda3/envs/dreams_mimb/lib/python3.11/site-packages/dreams/models/pretrained\n"
     ]
    }
   ],
   "execution_count": 7
  },
  {
   "metadata": {
    "ExecuteTime": {
     "end_time": "2025-06-27T16:30:33.430918Z",
     "start_time": "2025-06-27T16:30:33.427250Z"
    }
   },
   "cell_type": "code",
   "source": "len(msdata)",
   "id": "22b2b1295ff7e690",
   "outputs": [
    {
     "data": {
      "text/plain": [
       "5681"
      ]
     },
     "execution_count": 9,
     "metadata": {},
     "output_type": "execute_result"
    }
   ],
   "execution_count": 9
  },
  {
   "metadata": {
    "ExecuteTime": {
     "end_time": "2025-06-27T16:30:44.441224Z",
     "start_time": "2025-06-27T16:30:44.032322Z"
    }
   },
   "cell_type": "code",
   "source": "msdata.at(333)",
   "id": "f3cfd41f6974d473",
   "outputs": [
    {
     "data": {
      "text/plain": [
       "<Figure size 600x200 with 1 Axes>"
      ],
      "image/png": "[encoded data removed]"
     },
     "metadata": {},
     "output_type": "display_data"
    },
    {
     "data": {
      "text/plain": [
       "{'RT': 102.37234185599999,\n",
       " 'charge': 1,\n",
       " 'file_name': '202312_20_P09-Leaf-r1_1uL.mzML',\n",
       " 'precursor_mz': 279.093872070313,\n",
       " 'scan_number': 607}"
      ]
     },
     "execution_count": 10,
     "metadata": {},
     "output_type": "execute_result"
    }
   ],
   "execution_count": 10
  },
  {
   "metadata": {
    "ExecuteTime": {
     "end_time": "2025-06-27T17:29:48.419388Z",
     "start_time": "2025-06-27T17:29:48.416587Z"
    }
   },
   "cell_type": "code",
   "source": "type(embeddings)",
   "id": "ad6d8ef57a5d0b17",
   "outputs": [
    {
     "data": {
      "text/plain": [
       "numpy.ndarray"
      ]
     },
     "execution_count": 11,
     "metadata": {},
     "output_type": "execute_result"
    }
   ],
   "execution_count": 11
  }
 ],
 "metadata": {
  "kernelspec": {
   "display_name": "Python 3",
   "language": "python",
   "name": "python3"
  },
  "language_info": {
   "codemirror_mode": {
    "name": "ipython",
    "version": 2
   },
   "file_extension": ".py",
   "mimetype": "text/x-python",
   "name": "python",
   "nbconvert_exporter": "python",
   "pygments_lexer": "ipython2",
   "version": "2.7.6"
  }
 },
 "nbformat": 4,
 "nbformat_minor": 5
}
