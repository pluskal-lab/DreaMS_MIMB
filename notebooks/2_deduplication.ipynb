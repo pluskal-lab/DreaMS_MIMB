{
 "cells": [
  {
   "metadata": {},
   "cell_type": "markdown",
   "source": [
    "# 2. Deduplication of mass spectra with Locality Sensitive Hashing\n",
    "\n",
    "High-resolution LC-MS/MS datasets typically contain multiple spectra of the same or nearly identical compounds.  \n",
    "For downstream machine learning and molecular networking, **deduplicating these spectra is critical**: it prevents redundancy, improves statistical analyses, and greatly reduces computational costs.\n",
    "\n",
    "DreaMS implements fast, scalable deduplication using **Locality Sensitive Hashing (LSH)** with **random projections**, enabling the grouping of highly similar or duplicate MS/MS spectra in linear time — even across millions of spectra."
   ],
   "id": "228f201d598317b2"
  },
  {
   "metadata": {},
   "cell_type": "markdown",
   "source": [
    "## 2.1 What is lsh and why do we use it for spectra clustering?\n",
    "\n",
    "**Locality Sensitive Hashing (LSH)** is a class of algorithms designed to efficiently find similar items in large datasets.  \n",
    "Instead of comparing every spectrum to every other spectrum (which would be infeasible for large datasets), LSH transforms each spectrum into a compact “hash” in such a way that **similar spectra are highly likely to share the same hash**, while dissimilar spectra end up with different hashes.\n",
    "\n",
    "In the context of DreaMS:\n",
    "\n",
    "- Each spectrum (represented as a binned vector of `m/z` intensity pairs) is projected into a high-dimensional space using **random hyperplanes**.\n",
    "- The **hash** for each spectrum encodes which side of each hyperplane the spectrum falls on, forming a unique signature.\n",
    "- Spectra with **identical hashes** are clustered together: they are “near duplicates” with extremely similar fragmentation patterns.\n",
    "\n",
    "---\n",
    "\n",
    "📚 **Further Reading**\n",
    "\n",
    "- [DreaMS LSH clustering documentation](https://dreams-docs.readthedocs.io/en/latest/tutorials/lsh_clustering.html)\n",
    "- [DreaMS paper](https://www.nature.com/articles/s41587-025-02663-3)"
   ],
   "id": "760497cabc4032cc"
  },
  {
   "cell_type": "code",
   "id": "initial_id",
   "metadata": {
    "collapsed": true,
    "ExecuteTime": {
     "end_time": "2025-07-17T20:04:53.735115Z",
     "start_time": "2025-07-17T20:04:47.465971Z"
    }
   },
   "source": [
    "import sys\n",
    "from pathlib import Path\n",
    "\n",
    "# so that `paths.py` (with PROJECT_ROOT) is on the import path\n",
    "sys.path.append(str(Path().resolve().parent))\n",
    "from paths import PROJECT_ROOT\n",
    "\n",
    "import numpy as np\n",
    "import pandas as pd\n",
    "from tqdm import tqdm\n",
    "\n",
    "from dreams.utils.data import MSData\n",
    "from dreams.algorithms.lsh import BatchedPeakListRandomProjection\n",
    "from dreams.utils.spectra import PeakListModifiedCosine\n",
    "\n",
    "from benchmark.utils.plots import plot_similarity_kde, plot_dissimilarity_hist_kde"
   ],
   "outputs": [
    {
     "name": "stderr",
     "output_type": "stream",
     "text": [
      "/Users/macbook/UTILS/anaconda3/envs/dreams_mimb/lib/python3.11/site-packages/lightning_fabric/__init__.py:41: pkg_resources is deprecated as an API. See https://setuptools.pypa.io/en/latest/pkg_resources.html. The pkg_resources package is slated for removal as early as 2025-11-30. Refrain from using this package or pin to Setuptools<81.\n",
      "Determination of memory status is not supported on this \n",
      " platform, measuring for memoryleaks will never fail\n"
     ]
    }
   ],
   "execution_count": 1
  },
  {
   "metadata": {},
   "cell_type": "markdown",
   "source": [
    "## 2.2 Loading your processed data\n",
    "\n",
    "We start with the **high-quality, positive-ion spectra** saved from the previous data preparation step from the `1_data_preparation.ipynb` notebook.  \n",
    "If you’re following the pipeline, this is the `_high_quality.hdf5` file produced earlier."
   ],
   "id": "e21d6d44d0a2c856"
  },
  {
   "metadata": {
    "ExecuteTime": {
     "end_time": "2025-07-17T20:04:56.605922Z",
     "start_time": "2025-07-17T20:04:56.603537Z"
    }
   },
   "cell_type": "code",
   "source": [
    "spectra_path = PROJECT_ROOT / \"data\" / \"Piper_sirius_all_annotated.mgf\"\n",
    "h5_path   = spectra_path.with_name(spectra_path.stem + \"_high_quality.hdf5\")\n",
    "dedup_h5  = spectra_path.with_name(spectra_path.stem + \"_dedup.hdf5\")"
   ],
   "id": "bb85ef2f5d1cf5a",
   "outputs": [],
   "execution_count": 2
  },
  {
   "metadata": {
    "ExecuteTime": {
     "end_time": "2025-07-17T20:04:57.445789Z",
     "start_time": "2025-07-17T20:04:57.417730Z"
    }
   },
   "cell_type": "code",
   "source": [
    "if h5_path.exists():\n",
    "    # If the HDF5 already exists, load it directly (this is fastest)\n",
    "    msdata = MSData.from_hdf5(h5_path, in_mem=True)\n",
    "else:\n",
    "    # If not, convert from the original file and cache the result as HDF5\n",
    "    msdata = MSData.load(\n",
    "        spectra_path,\n",
    "        in_mem=True,\n",
    "        prec_mz_col=\"PRECURSOR_MZ\"\n",
    "    )"
   ],
   "id": "638a32871e4fe966",
   "outputs": [
    {
     "name": "stdout",
     "output_type": "stream",
     "text": [
      "Loading dataset Piper_sirius_all_annotated_high_quality into memory (4758 spectra)...\n"
     ]
    }
   ],
   "execution_count": 3
  },
  {
   "metadata": {},
   "cell_type": "markdown",
   "source": [
    "## 2.3 Computing lsh hashes for all spectra\n",
    "\n",
    "\n",
    "To efficiently cluster and deduplicate MS/MS spectra, DreaMS implements **Locality Sensitive Hashing (LSH)** via the `BatchedPeakListRandomProjection` class.\n",
    "\n",
    "---\n",
    "\n",
    "**How does LSH work in DreaMS?**\n",
    "\n",
    "Each spectrum is first **vectorized** by binning the `m/z` axis (using the `bin_step` parameter), producing a uniform-length vector representation.  \n",
    "Then, **random hyperplanes** are generated in this vector space (`n_hyperplanes`).  \n",
    "For each spectrum, its position relative to each hyperplane is encoded as a **bit** in the hash.\n",
    "\n",
    "The resulting **LSH hash** is thus a unique fingerprint: spectra falling into the same hash share the same “bucket” and are clustered together.\n",
    "\n",
    "- `bin_step` sets the width of `m/z` bins when constructing the spectral vector.  \n",
    "  For most use-cases, the default (**0.5 m/z**) is sufficient and does not heavily affect cluster granularity.\n",
    "\n",
    "- `n_hyperplanes` determines the number of random projections, directly controlling cluster strictness:\n",
    "  - **Larger values** (e.g., `128`) produce very fine-grained clusters, ideal for deduplication and finding true near-duplicates.\n",
    "  - **Smaller values** (e.g., `20`) allow for looser clusters, potentially grouping structural analogs.\n",
    "  - We use `n_hyperplanes=50` here, which serves as a practical compromise for most datasets."
   ],
   "id": "6c787183452eb186"
  },
  {
   "metadata": {
    "ExecuteTime": {
     "end_time": "2025-07-17T20:05:28.973895Z",
     "start_time": "2025-07-17T20:05:27.322100Z"
    }
   },
   "cell_type": "code",
   "source": [
    "specs = msdata.get_spectra()\n",
    "\n",
    "lsh_proj = BatchedPeakListRandomProjection(bin_step=0.5, n_hyperplanes=50)\n",
    "hashes   = lsh_proj.compute(specs)\n",
    "\n",
    "print(f\"▶ Computed {len(hashes)} hashes; example hash: {hashes[0]!r}\")"
   ],
   "id": "5c2e92e9c2664a00",
   "outputs": [
    {
     "name": "stderr",
     "output_type": "stream",
     "text": [
      "Computing LSHs: 100%|██████████| 4758/4758 [00:01<00:00, 2896.06it/s]\n"
     ]
    },
    {
     "name": "stdout",
     "output_type": "stream",
     "text": [
      "▶ Computed 4758 hashes; example hash: b'223599e97d8651d7ee8690ff62aecc832cba9612ca2a70a37b18249eaf84bb69'\n"
     ]
    }
   ],
   "execution_count": 5
  },
  {
   "metadata": {},
   "cell_type": "markdown",
   "source": [
    "### Notes on clustering behavior\n",
    "\n",
    "- **LSH in DreaMS is optimized for precision**, clusters are highly pure and group only spectra that are similar.  \n",
    "  As a result, recall is sometimes lower: true duplicates are usually not missed, but analogs with more divergent spectra may be split into separate clusters.  \n",
    "  For in-depth evaluation of clustering metrics and reproducibility, see this benchmarking notebook:  \n",
    "  [clustering_evaluation.ipynb](https://github.com/pluskal-lab/DreaMS/blob/0d33ae141641c8551d81a68d7f88fb2162624397/experiments/clustering/clustering_evaluation.ipynb)\n",
    "\n",
    "- The method is **robust to spectral noise**: random fluctuations in peak intensity or minor missing peaks rarely affect the resulting hash.\n",
    "\n",
    "- The entire LSH hashing and clustering process operates in **linear time** with respect to the number of spectra, enabling you to deduplicate **millions of spectra on a laptop**."
   ],
   "id": "a1c4bfc32ff91aa0"
  },
  {
   "metadata": {},
   "cell_type": "markdown",
   "source": [
    "## 2.4 Exploring hash clusters\n",
    "\n",
    "After computing the LSH hashes for all spectra, each spectrum is now assigned to a **cluster**, represented by a **unique hash value**.  \n",
    "Each entry in `hashes` is a binary string (often shown as a long hexadecimal value like `b'f3e551b2a2...'`) that uniquely identifies the cluster for that spectrum.  \n",
    "Each hash is derived from a **boolean vector** of length `n_hyperplanes`, where each bit represents the side of a random hyperplane into which the spectrum’s binned vector falls.\n",
    "\n",
    "Here we are counting how many times each unique hash appears, we see how many spectra are grouped together in each cluster."
   ],
   "id": "ed012cf6f8cccd90"
  },
  {
   "metadata": {
    "ExecuteTime": {
     "end_time": "2025-07-17T20:05:39.633224Z",
     "start_time": "2025-07-17T20:05:39.625148Z"
    }
   },
   "cell_type": "code",
   "source": [
    "ls     = pd.Series(hashes)\n",
    "counts = ls.value_counts()\n",
    "\n",
    "print(\"▶ Total unique hashes (clusters):\", counts.size)\n",
    "print(\"▶ Top 5 cluster sizes:\")\n",
    "print(counts.head())"
   ],
   "id": "8375fd47f8d89db8",
   "outputs": [
    {
     "name": "stderr",
     "output_type": "stream",
     "text": [
      "/var/folders/bl/73ckjztx5js4cc0cj85qgvlm0000gn/T/ipykernel_95811/854138657.py:2: FutureWarning: The behavior of value_counts with object-dtype is deprecated. In a future version, this will *not* perform dtype inference on the resulting index. To retain the old behavior, use `result.index = result.index.infer_objects()`\n",
      "  counts = ls.value_counts()\n"
     ]
    },
    {
     "name": "stdout",
     "output_type": "stream",
     "text": [
      "▶ Total unique hashes (clusters): 2799\n",
      "▶ Top 5 cluster sizes:\n",
      "b'27d54b33fc782095d6c75cffe721f7173876722dfa00a4c5050f945d582afdca'    88\n",
      "b'f7801784b1f4d4e3efd4005e320c47416673943aa08a971ca5d6abc568093ef7'    38\n",
      "b'050100167d7fea7dd414da33d967b72ff4fab50719590053c0efc9df01c9ec4a'    33\n",
      "b'4584bdd1a5b53366cf345d288264bd7d0f4197009d5cfb962c5e1697a387d79f'    24\n",
      "b'57fed6498af2cf122f1710c7a6b8b1d39c4adcf2829b8bf0fd8be11bd2678f20'    22\n",
      "Name: count, dtype: int64\n"
     ]
    }
   ],
   "execution_count": 6
  },
  {
   "metadata": {},
   "cell_type": "markdown",
   "source": [
    "The output shows each hash (as a hexadecimal string) and the number of spectra grouped in that cluster.  \n",
    "The largest cluster in this dataset contains **88 spectra**.\n",
    "\n",
    "We started with **4758 spectra**, and after LSH you see **2799 unique hashes**.  \n",
    "This means you have identified **2799 distinct clusters**, many spectra have been grouped as duplicates."
   ],
   "id": "a97c6063d5ff13a2"
  },
  {
   "metadata": {},
   "cell_type": "markdown",
   "source": [
    "## 2.5 Visualizing and validating clusters\n",
    "\n",
    "\n",
    "To build trust in the LSH deduplication process, we will confirm that spectra grouped into the same cluster are truly highly similar.\n",
    "\n",
    "First, we look through all clusters and find those where the cluster size is exactly **5**.  \n",
    "We then take the first such cluster as an example for further investigation."
   ],
   "id": "e0c2c3ecbbf8f113"
  },
  {
   "metadata": {
    "ExecuteTime": {
     "end_time": "2025-07-17T20:05:57.511938Z",
     "start_time": "2025-07-17T20:05:57.507292Z"
    }
   },
   "cell_type": "code",
   "source": [
    "small_hash = counts[counts == 5].index\n",
    "assert len(small_hash) > 0, \"No cluster of size 5 found!\"\n",
    "small_hash = small_hash[0]\n",
    "small_idxs = np.where(hashes == small_hash)[0]\n",
    "print(f\"▶ Small cluster hash {small_hash!r} at indices\", small_idxs)"
   ],
   "id": "f63864ffe86a861d",
   "outputs": [
    {
     "name": "stdout",
     "output_type": "stream",
     "text": [
      "▶ Small cluster hash b'7db6e92e23543df2a05628cd99a8648cd46a1546ad96d8355461c1308c1de28c' at indices [2984 2987 2988 2990 2992]\n"
     ]
    }
   ],
   "execution_count": 7
  },
  {
   "metadata": {},
   "cell_type": "markdown",
   "source": "#### Next, we visualize the spectra in this cluster:",
   "id": "5e64ed9a2311e160"
  },
  {
   "metadata": {
    "ExecuteTime": {
     "end_time": "2025-07-17T20:05:58.326637Z",
     "start_time": "2025-07-17T20:05:57.901772Z"
    }
   },
   "cell_type": "code",
   "source": [
    "for raw_i in small_idxs:\n",
    "    i = int(raw_i)\n",
    "    msdata.at(i, plot_mol=True)"
   ],
   "id": "ab0d4d855574b987",
   "outputs": [
    {
     "data": {
      "text/plain": [
       "<Figure size 600x200 with 1 Axes>"
      ],
      "image/png": "[encoded data removed]"
     },
     "metadata": {},
     "output_type": "display_data"
    },
    {
     "name": "stderr",
     "output_type": "stream",
     "text": [
      "[22:05:58] SMILES Parse Error: syntax error while parsing: None\n",
      "[22:05:58] SMILES Parse Error: Failed parsing SMILES 'None' for input: 'None'\n"
     ]
    },
    {
     "data": {
      "text/plain": [
       "None"
      ]
     },
     "metadata": {},
     "output_type": "display_data"
    },
    {
     "data": {
      "text/plain": [
       "<Figure size 600x200 with 1 Axes>"
      ],
      "image/png": "[encoded data removed]"
     },
     "metadata": {},
     "output_type": "display_data"
    },
    {
     "name": "stderr",
     "output_type": "stream",
     "text": [
      "[22:05:58] SMILES Parse Error: syntax error while parsing: None\n",
      "[22:05:58] SMILES Parse Error: Failed parsing SMILES 'None' for input: 'None'\n"
     ]
    },
    {
     "data": {
      "text/plain": [
       "None"
      ]
     },
     "metadata": {},
     "output_type": "display_data"
    },
    {
     "data": {
      "text/plain": [
       "<Figure size 600x200 with 1 Axes>"
      ],
      "image/png": "[encoded data removed]"
     },
     "metadata": {},
     "output_type": "display_data"
    },
    {
     "name": "stderr",
     "output_type": "stream",
     "text": [
      "[22:05:58] SMILES Parse Error: syntax error while parsing: None\n",
      "[22:05:58] SMILES Parse Error: Failed parsing SMILES 'None' for input: 'None'\n"
     ]
    },
    {
     "data": {
      "text/plain": [
       "None"
      ]
     },
     "metadata": {},
     "output_type": "display_data"
    },
    {
     "data": {
      "text/plain": [
       "<Figure size 600x200 with 1 Axes>"
      ],
      "image/png": "[encoded data removed]"
     },
     "metadata": {},
     "output_type": "display_data"
    },
    {
     "name": "stderr",
     "output_type": "stream",
     "text": [
      "[22:05:58] SMILES Parse Error: syntax error while parsing: None\n",
      "[22:05:58] SMILES Parse Error: Failed parsing SMILES 'None' for input: 'None'\n"
     ]
    },
    {
     "data": {
      "text/plain": [
       "None"
      ]
     },
     "metadata": {},
     "output_type": "display_data"
    },
    {
     "data": {
      "text/plain": [
       "<Figure size 600x200 with 1 Axes>"
      ],
      "image/png": "[encoded data removed]"
     },
     "metadata": {},
     "output_type": "display_data"
    },
    {
     "name": "stderr",
     "output_type": "stream",
     "text": [
      "[22:05:58] SMILES Parse Error: syntax error while parsing: None\n",
      "[22:05:58] SMILES Parse Error: Failed parsing SMILES 'None' for input: 'None'\n"
     ]
    },
    {
     "data": {
      "text/plain": [
       "None"
      ]
     },
     "metadata": {},
     "output_type": "display_data"
    }
   ],
   "execution_count": 8
  },
  {
   "metadata": {},
   "cell_type": "markdown",
   "source": [
    "By visually inspecting these five spectra, you observe that all have **nearly identical fragmentation patterns**.  \n",
    "This confirms that the **LSH deduplication** groups near-duplicate spectra together.\n",
    "\n",
    "Further, to confirm that the spectra in our chosen cluster are truly near-duplicates, we compute the **pairwise similarity** between all spectra in the cluster using the **modified cosine similarity** metric.  "
   ],
   "id": "714f9f1a27c3624b"
  },
  {
   "metadata": {
    "ExecuteTime": {
     "end_time": "2025-07-17T20:05:59.630676Z",
     "start_time": "2025-07-17T20:05:58.542058Z"
    }
   },
   "cell_type": "code",
   "source": [
    "cos_sim = PeakListModifiedCosine()\n",
    "sim_mat_small = cos_sim.compute_pairwise(\n",
    "    specs    = specs[small_idxs.astype(int)],\n",
    "    prec_mzs = msdata.get_values('precursor_mz')[small_idxs.astype(int)],\n",
    "    avg      = False\n",
    ")\n",
    "print(\"▶ Small cluster pairwise matrix:\\n\", sim_mat_small)\n"
   ],
   "id": "a719cf4dc7a23cfb",
   "outputs": [
    {
     "name": "stdout",
     "output_type": "stream",
     "text": [
      "▶ Small cluster pairwise matrix:\n",
      " [[1.         0.99862793 0.99477183 0.9985617  0.9990396 ]\n",
      " [0.99862793 1.         0.994302   0.9980678  0.99814568]\n",
      " [0.99477183 0.994302   1.         0.99442714 0.99494768]\n",
      " [0.9985617  0.9980678  0.99442714 1.         0.99823865]\n",
      " [0.9990396  0.99814568 0.99494768 0.99823865 1.        ]]\n"
     ]
    }
   ],
   "execution_count": 9
  },
  {
   "metadata": {},
   "cell_type": "markdown",
   "source": [
    "The resulting matrix shows the **cosine similarity score** for every pair of spectra in the cluster.  \n",
    "The **diagonal values** are all exactly **1**, since each spectrum is perfectly identical to itself.  \n",
    "The **off-diagonal scores** indicate the similarity between different spectra in the cluster, scores close to **1** confirm that all spectra within this cluster are indeed **highly similar or even identical**."
   ],
   "id": "43e464e2a64c49af"
  },
  {
   "metadata": {},
   "cell_type": "markdown",
   "source": [
    "## 2.6 Investigating larger clusters\n",
    "\n",
    "To further validate the performance of **LSH deduplication**, we examine a larger cluster, one containing **50 or more spectra**.  \n",
    "We first identify a **hash (cluster)** with a size in our target range (e.g., **50 to 200 spectra**):"
   ],
   "id": "894c795e9212cfa1"
  },
  {
   "metadata": {
    "ExecuteTime": {
     "end_time": "2025-07-17T20:06:00.819861Z",
     "start_time": "2025-07-17T20:06:00.813737Z"
    }
   },
   "cell_type": "code",
   "source": [
    "counts = pd.Series(hashes).value_counts()\n",
    "target = counts[(counts >= 50) & (counts <= 200)]\n",
    "assert not target.empty, \"No cluster in the desired size range found!\"\n",
    "\n",
    "# Select the first such cluster\n",
    "cluster_hash = target.index[0]\n",
    "cluster_size = target.iloc[0]\n",
    "print(f\"Selected hash {cluster_hash} with cluster size = {cluster_size}\")\n",
    "\n",
    "# Indices of all spectra in this cluster\n",
    "i_idxs = np.where(hashes == cluster_hash)[0]"
   ],
   "id": "9f27ae0f6d7644d3",
   "outputs": [
    {
     "name": "stderr",
     "output_type": "stream",
     "text": [
      "/var/folders/bl/73ckjztx5js4cc0cj85qgvlm0000gn/T/ipykernel_95811/974672857.py:1: FutureWarning: The behavior of value_counts with object-dtype is deprecated. In a future version, this will *not* perform dtype inference on the resulting index. To retain the old behavior, use `result.index = result.index.infer_objects()`\n",
      "  counts = pd.Series(hashes).value_counts()\n"
     ]
    },
    {
     "name": "stdout",
     "output_type": "stream",
     "text": [
      "Selected hash b'27d54b33fc782095d6c75cffe721f7173876722dfa00a4c5050f945d582afdca' with cluster size = 88\n"
     ]
    }
   ],
   "execution_count": 10
  },
  {
   "metadata": {},
   "cell_type": "markdown",
   "source": "We now compute the pairwise modified cosine similarity for all spectra within this cluster:\n",
   "id": "36f3a8b819abe6b0"
  },
  {
   "metadata": {
    "ExecuteTime": {
     "end_time": "2025-07-17T20:06:02.534738Z",
     "start_time": "2025-07-17T20:06:02.287165Z"
    }
   },
   "cell_type": "code",
   "source": [
    "cluster_specs = specs[i_idxs]\n",
    "cluster_prec  = msdata.get_prec_mzs()[i_idxs]\n",
    "\n",
    "cos_sim = PeakListModifiedCosine()\n",
    "sim_mat = cos_sim.compute_pairwise(\n",
    "    specs    = cluster_specs,\n",
    "    prec_mzs = cluster_prec,\n",
    "    avg      = False\n",
    ")\n",
    "print(\"Pairwise modified‑cosine matrix shape:\", sim_mat.shape)"
   ],
   "id": "944671bcf7740222",
   "outputs": [
    {
     "name": "stdout",
     "output_type": "stream",
     "text": [
      "Pairwise modified‑cosine matrix shape: (88, 88)\n"
     ]
    }
   ],
   "execution_count": 11
  },
  {
   "metadata": {},
   "cell_type": "markdown",
   "source": [
    "### Visualizing similarity: histogram and kde\n",
    "\n",
    "We visualize the distribution of **dissimilarities** (`1 – cosine similarity`) across all unique spectrum pairs in the cluster:"
   ],
   "id": "cc0b8f8960784519"
  },
  {
   "metadata": {
    "ExecuteTime": {
     "end_time": "2025-07-17T20:06:03.786681Z",
     "start_time": "2025-07-17T20:06:03.630342Z"
    }
   },
   "cell_type": "code",
   "source": "plot_dissimilarity_hist_kde(sim_mat)",
   "id": "b49be21a91c0af62",
   "outputs": [
    {
     "data": {
      "text/plain": [
       "<Figure size 600x400 with 1 Axes>"
      ],
      "image/png": "[encoded data removed]"
     },
     "metadata": {},
     "output_type": "display_data"
    }
   ],
   "execution_count": 12
  },
  {
   "metadata": {},
   "cell_type": "markdown",
   "source": [
    "For this large cluster, the vast majority of **pairwise dissimilarities** cluster near **0**, with a **maximum difference of 0.05**.  \n",
    "In other words, even in large clusters, **LSH groups spectra that are extremely similar**, with only minor deviations."
   ],
   "id": "ac7aa065fb14902b"
  },
  {
   "metadata": {},
   "cell_type": "markdown",
   "source": [
    "## 2.7 Saving deduplicated data\n",
    "\n",
    "After **LSH-based deduplication**, we want to keep only **one representative spectrum** from each cluster.  \n",
    "This ensures that we are removing redundancy from the dataset before downstream **machine learning** or **library matching**.\n"
   ],
   "id": "61a9951088f86212"
  },
  {
   "metadata": {
    "ExecuteTime": {
     "end_time": "2025-07-17T20:06:05.459235Z",
     "start_time": "2025-07-17T20:06:05.453804Z"
    }
   },
   "cell_type": "code",
   "source": [
    "# Build a DataFrame mapping each spectrum to its hash\n",
    "df_map = pd.DataFrame({\n",
    "    'hash': hashes,\n",
    "    'scan_index': np.arange(len(hashes))\n",
    "})\n",
    "print(\"▶ Before dedupe, spectra count:\", len(df_map))"
   ],
   "id": "18ed2ded08108d47",
   "outputs": [
    {
     "name": "stdout",
     "output_type": "stream",
     "text": [
      "▶ Before dedupe, spectra count: 4758\n"
     ]
    }
   ],
   "execution_count": 13
  },
  {
   "metadata": {},
   "cell_type": "markdown",
   "source": "Next, we drop duplicates by keeping only the **first spectrum** for each unique hash:",
   "id": "a1745897717ec3af"
  },
  {
   "metadata": {
    "ExecuteTime": {
     "end_time": "2025-07-17T20:06:06.222042Z",
     "start_time": "2025-07-17T20:06:06.217260Z"
    }
   },
   "cell_type": "code",
   "source": [
    "df_map = df_map.drop_duplicates(subset=['hash'])\n",
    "keep_idxs = np.sort(df_map['scan_index'].values)\n",
    "print(\"▶ After dedupe, spectra count:\", len(keep_idxs))"
   ],
   "id": "af937f1df11c3b02",
   "outputs": [
    {
     "name": "stdout",
     "output_type": "stream",
     "text": [
      "▶ After dedupe, spectra count: 2799\n"
     ]
    }
   ],
   "execution_count": 14
  },
  {
   "metadata": {},
   "cell_type": "markdown",
   "source": "Finally, we write out the **deduplicated set** to a new `.hdf5` file:",
   "id": "926e591aa540efb5"
  },
  {
   "metadata": {
    "ExecuteTime": {
     "end_time": "2025-07-17T20:06:07.185224Z",
     "start_time": "2025-07-17T20:06:07.170311Z"
    }
   },
   "cell_type": "code",
   "source": [
    "out_h5 = h5_path.with_name(h5_path.stem + \"_dedup.hdf5\")\n",
    "msdata_dedup = msdata.form_subset(keep_idxs, out_pth=out_h5)\n",
    "print(\"▶ Saved deduplicated HDF5 to\", out_h5)"
   ],
   "id": "88c767f6615fd66f",
   "outputs": [
    {
     "name": "stdout",
     "output_type": "stream",
     "text": [
      "▶ Saved deduplicated HDF5 to /Users/macbook/CODE/DreaMS_MIMB/data/Piper_sirius_all_annotated_high_quality_dedup.hdf5\n"
     ]
    }
   ],
   "execution_count": 15
  },
  {
   "metadata": {},
   "cell_type": "markdown",
   "source": [
    "You will use this deduplicated HDF5 file as the input for the next tutorial:  \n",
    "`3_library_matching.ipynb`, where we perform **spectral library searches** and **annotation**."
   ],
   "id": "ccb0ae596fb82b5c"
  },
  {
   "metadata": {},
   "cell_type": "code",
   "outputs": [],
   "execution_count": null,
   "source": "",
   "id": "75cd39ef694530c3"
  }
 ],
 "metadata": {
  "kernelspec": {
   "display_name": "Python 3",
   "language": "python",
   "name": "python3"
  },
  "language_info": {
   "codemirror_mode": {
    "name": "ipython",
    "version": 2
   },
   "file_extension": ".py",
   "mimetype": "text/x-python",
   "name": "python",
   "nbconvert_exporter": "python",
   "pygments_lexer": "ipython2",
   "version": "2.7.6"
  }
 },
 "nbformat": 4,
 "nbformat_minor": 5
}
