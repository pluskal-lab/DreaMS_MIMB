{
 "cells": [
  {
   "cell_type": "code",
   "id": "initial_id",
   "metadata": {
    "collapsed": true,
    "ExecuteTime": {
     "end_time": "2025-07-16T11:41:51.389480Z",
     "start_time": "2025-07-16T11:41:51.384994Z"
    }
   },
   "source": [
    "import sys\n",
    "from pathlib import Path\n",
    "sys.path.append(str(Path().resolve().parent))\n",
    "from paths import PROJECT_ROOT\n",
    "\n",
    "import pandas as pd\n",
    "from matchms.importing import load_from_mgf\n",
    "from matchms.exporting import save_as_mgf\n",
    "from matchms import Spectrum\n",
    "\n",
    "from rdkit import Chem\n",
    "from rdkit.Chem import rdMolDescriptors"
   ],
   "outputs": [],
   "execution_count": 22
  },
  {
   "metadata": {
    "ExecuteTime": {
     "end_time": "2025-07-16T11:41:51.397601Z",
     "start_time": "2025-07-16T11:41:51.395108Z"
    }
   },
   "cell_type": "code",
   "source": [
    "# 1) Paths \n",
    "csv_path    = PROJECT_ROOT / \"data\" / \"molecules\" / \"Piper_data_smiles.csv\"\n",
    "mgf_in      = PROJECT_ROOT / \"data\" / \"sirius.mgf\"\n",
    "mgf_matched = PROJECT_ROOT / \"data\" / \"molecules\" / \"Piper_sirius_matched_annotated.mgf\"\n",
    "mgf_all     = PROJECT_ROOT / \"data\" / \"molecules\" / \"Piper_sirius_all_annotated.mgf\""
   ],
   "id": "c496a5d45eee2fe5",
   "outputs": [],
   "execution_count": 23
  },
  {
   "metadata": {
    "ExecuteTime": {
     "end_time": "2025-07-16T11:41:51.416673Z",
     "start_time": "2025-07-16T11:41:51.410940Z"
    }
   },
   "cell_type": "code",
   "source": [
    "# 2) Load CSV and build lookup \n",
    "df = pd.read_csv(csv_path, index_col=0)\n",
    "df[\"MZmine ID\"] = df[\"MZmine ID\"].astype(int)\n",
    "lookup = df.set_index(\"MZmine ID\")[[\"Name\",\"SMILES\"]].to_dict(orient=\"index\")"
   ],
   "id": "c0f8e5b96bb9377b",
   "outputs": [],
   "execution_count": 24
  },
  {
   "metadata": {
    "ExecuteTime": {
     "end_time": "2025-07-16T11:41:52.225394Z",
     "start_time": "2025-07-16T11:41:51.425150Z"
    }
   },
   "cell_type": "code",
   "source": [
    "# 3) Load all spectra from MGF \n",
    "spectra = list(load_from_mgf(str(mgf_in)))\n",
    "print(f\"Total spectra loaded from MGF: {len(spectra)}\")"
   ],
   "id": "dc6e423b508a0508",
   "outputs": [
    {
     "name": "stdout",
     "output_type": "stream",
     "text": [
      "Total spectra loaded from MGF: 6732\n"
     ]
    }
   ],
   "execution_count": 25
  },
  {
   "metadata": {
    "ExecuteTime": {
     "end_time": "2025-07-16T11:41:53.227062Z",
     "start_time": "2025-07-16T11:41:52.289009Z"
    }
   },
   "cell_type": "code",
   "source": [
    "matched_specs = []\n",
    "all_specs     = []\n",
    "\n",
    "for spec in spectra:\n",
    "    # 1) Initialize all annotation fields to the literal string \"None\"\n",
    "    spec.set(\"smiles\",        \"None\")\n",
    "    spec.set(\"compound_name\", \"None\")\n",
    "    spec.set(\"formula\",       \"None\")\n",
    "    spec.set(\"inchi\",         \"None\")\n",
    "    spec.set(\"inchikey\",      \"None\")\n",
    "\n",
    "    # 2) Pull feature_id\n",
    "    feat = spec.metadata.get(\"feature_id\")\n",
    "    try:\n",
    "        feat = int(feat)\n",
    "    except Exception:\n",
    "        feat = None\n",
    "\n",
    "    # 3) If in CSV, overwrite with real values\n",
    "    if feat in lookup:\n",
    "        entry  = lookup[feat]\n",
    "        smiles = entry[\"SMILES\"]\n",
    "        name   = entry[\"Name\"]\n",
    "\n",
    "        spec.set(\"smiles\",        smiles)\n",
    "        spec.set(\"compound_name\", name)\n",
    "\n",
    "        mol = Chem.MolFromSmiles(smiles)\n",
    "        if mol:\n",
    "            raw_formula   = rdMolDescriptors.CalcMolFormula(mol)\n",
    "            clean_formula = raw_formula.rstrip(\"+-\")\n",
    "            spec.set(\"formula\", clean_formula)\n",
    "\n",
    "            spec.set(\"inchi\",    Chem.MolToInchi(mol))\n",
    "            spec.set(\"inchikey\", Chem.MolToInchiKey(mol))\n",
    "\n",
    "        matched_specs.append(spec)\n",
    "\n",
    "    # 4) Always collect into the full list\n",
    "    all_specs.append(spec)\n"
   ],
   "id": "5e6311424410fe92",
   "outputs": [],
   "execution_count": 26
  },
  {
   "metadata": {
    "ExecuteTime": {
     "end_time": "2025-07-16T11:41:54.057178Z",
     "start_time": "2025-07-16T11:41:53.235728Z"
    }
   },
   "cell_type": "code",
   "source": [
    "# save both MGFs\n",
    "save_as_mgf(matched_specs, str(mgf_matched))\n",
    "print(f\"Wrote {len(matched_specs)} matched spectra to {mgf_matched}\")\n",
    "\n",
    "save_as_mgf(all_specs, str(mgf_all))\n",
    "print(f\"Wrote {len(all_specs)} total spectra (with None for unmatched) to {mgf_all}\")"
   ],
   "id": "5d22334936662fa3",
   "outputs": [
    {
     "name": "stdout",
     "output_type": "stream",
     "text": [
      "Wrote 224 matched spectra to /Users/macbook/CODE/DreaMS_MIMB/data/molecules/Piper_sirius_matched_annotated.mgf\n",
      "Wrote 6732 total spectra (with None for unmatched) to /Users/macbook/CODE/DreaMS_MIMB/data/molecules/Piper_sirius_all_annotated.mgf\n"
     ]
    }
   ],
   "execution_count": 27
  },
  {
   "metadata": {
    "ExecuteTime": {
     "end_time": "2025-07-16T11:41:54.075462Z",
     "start_time": "2025-07-16T11:41:54.067225Z"
    }
   },
   "cell_type": "code",
   "source": [
    "# 6) Check coverage of CSV IDs with updated variable names \n",
    "csv_ids     = set(df[\"MZmine ID\"].tolist())\n",
    "matched_ids = {int(spec.metadata.get(\"feature_id\")) for spec in matched_specs}\n",
    "\n",
    "missing_ids = csv_ids - matched_ids\n",
    "\n",
    "print(f\"Unique CSV IDs:       {len(csv_ids)}\")\n",
    "print(f\"Unique IDs matched:   {len(matched_ids)}\")\n",
    "print(f\"CSV entries missing:  {len(missing_ids)}\")\n",
    "if missing_ids:\n",
    "    print(\"Missing MZmine IDs:\", sorted(missing_ids))\n",
    "else:\n",
    "    print(\"✅ All CSV entries found at least one spectrum.\")"
   ],
   "id": "437de6a9df8de21a",
   "outputs": [
    {
     "name": "stdout",
     "output_type": "stream",
     "text": [
      "Unique CSV IDs:       23\n",
      "Unique IDs matched:   23\n",
      "CSV entries missing:  0\n",
      "✅ All CSV entries found at least one spectrum.\n"
     ]
    }
   ],
   "execution_count": 28
  }
 ],
 "metadata": {
  "kernelspec": {
   "display_name": "Python 3",
   "language": "python",
   "name": "python3"
  },
  "language_info": {
   "codemirror_mode": {
    "name": "ipython",
    "version": 2
   },
   "file_extension": ".py",
   "mimetype": "text/x-python",
   "name": "python",
   "nbconvert_exporter": "python",
   "pygments_lexer": "ipython2",
   "version": "2.7.6"
  }
 },
 "nbformat": 4,
 "nbformat_minor": 5
}
