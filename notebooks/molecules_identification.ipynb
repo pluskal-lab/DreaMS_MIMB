{
 "cells": [
  {
   "metadata": {
    "ExecuteTime": {
     "end_time": "2025-07-04T06:46:58.942352Z",
     "start_time": "2025-07-04T06:46:58.596806Z"
    }
   },
   "cell_type": "code",
   "source": "from rdkit import Chem",
   "id": "9e95378219a4ff58",
   "outputs": [],
   "execution_count": 1
  },
  {
   "metadata": {
    "ExecuteTime": {
     "end_time": "2025-07-04T07:07:09.810002Z",
     "start_time": "2025-07-04T07:07:09.807542Z"
    }
   },
   "cell_type": "code",
   "source": "input_mol_file = \"/Users/macbook/CODE/DreaMS_MIMB/data/molecules/structures_v2.sdf\"",
   "id": "3d1df7e4a482fd",
   "outputs": [],
   "execution_count": 5
  },
  {
   "cell_type": "code",
   "id": "initial_id",
   "metadata": {
    "collapsed": true,
    "ExecuteTime": {
     "end_time": "2025-07-04T07:07:13.883530Z",
     "start_time": "2025-07-04T07:07:13.874286Z"
    }
   },
   "source": [
    "supplier = Chem.SDMolSupplier(\n",
    "    input_mol_file,\n",
    "    removeHs=False\n",
    ")\n",
    "mols = [mol for mol in supplier if mol is not None]\n",
    "print(f\"Loaded {len(mols)} molecules\")"
   ],
   "outputs": [
    {
     "name": "stdout",
     "output_type": "stream",
     "text": [
      "Loaded 33 molecules\n"
     ]
    },
    {
     "name": "stderr",
     "output_type": "stream",
     "text": [
      "[09:07:13] Warning: ambiguous stereochemistry - zero final chiral volume - at atom 8 ignored\n",
      "[09:07:13] Warning: ambiguous stereochemistry - zero final chiral volume - at atom 10 ignored\n",
      "[09:07:13] Warning: ambiguous stereochemistry - zero final chiral volume - at atom 5 ignored\n"
     ]
    }
   ],
   "execution_count": 6
  },
  {
   "metadata": {
    "ExecuteTime": {
     "end_time": "2025-07-04T07:07:26.439039Z",
     "start_time": "2025-07-04T07:07:26.418602Z"
    }
   },
   "cell_type": "code",
   "source": [
    "\n",
    "# 1) load\n",
    "supplier = Chem.SDMolSupplier(input_mol_file, removeHs=False)\n",
    "mols     = [m for m in supplier if m is not None]\n",
    "\n",
    "# 2) get InChIKeys\n",
    "inchikeys = [Chem.MolToInchiKey(m) for m in mols]\n",
    "\n",
    "# 3) also get non‐stereo SMILES (to collapse undefined stereo)\n",
    "smis_noniso = [Chem.MolToSmiles(m, isomericSmiles=False) for m in mols]\n",
    "\n",
    "print(f\"Total records loaded:       {len(mols)}\")\n",
    "print(f\"Unique InChIKeys:           {len(set(inchikeys))}\")\n",
    "print(f\"Unique SMILES (ignore stereo): {len(set(smis_noniso))}\")"
   ],
   "id": "55f69ac4f5ebdb11",
   "outputs": [
    {
     "name": "stdout",
     "output_type": "stream",
     "text": [
      "Total records loaded:       33\n",
      "Unique InChIKeys:           29\n",
      "Unique SMILES (ignore stereo): 31\n"
     ]
    },
    {
     "name": "stderr",
     "output_type": "stream",
     "text": [
      "[09:07:26] Warning: ambiguous stereochemistry - zero final chiral volume - at atom 8 ignored\n",
      "[09:07:26] Warning: ambiguous stereochemistry - zero final chiral volume - at atom 10 ignored\n",
      "[09:07:26] Warning: ambiguous stereochemistry - zero final chiral volume - at atom 5 ignored\n"
     ]
    }
   ],
   "execution_count": 7
  }
 ],
 "metadata": {
  "kernelspec": {
   "display_name": "Python 3",
   "language": "python",
   "name": "python3"
  },
  "language_info": {
   "codemirror_mode": {
    "name": "ipython",
    "version": 2
   },
   "file_extension": ".py",
   "mimetype": "text/x-python",
   "name": "python",
   "nbconvert_exporter": "python",
   "pygments_lexer": "ipython2",
   "version": "2.7.6"
  }
 },
 "nbformat": 4,
 "nbformat_minor": 5
}
