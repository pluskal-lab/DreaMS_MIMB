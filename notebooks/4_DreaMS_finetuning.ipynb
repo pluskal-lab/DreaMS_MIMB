{
 "cells": [
  {
   "metadata": {},
   "cell_type": "markdown",
   "source": [
    "This notebook demonstrates how to fine‑tune the DreaMS model for a binary classification task (detecting chlorine in molecules) using the MassSpecGym dataset. We’ll:\n",
    "\n",
    "1. **Annotate** the MassSpecGym MGF with chlorine labels.\n",
    "2. **Prepare** a `ChlorineDetectionDataset` and a `BenchmarkDataModule`.\n",
    "3. **Train** a baseline MLP classifier.\n",
    "4. **Fine‑tune** the DreaMS encoder with a classification head (`LitDreamsClassifier`).\n",
    "5. **Evaluate** on the test split and **save** the checkpoint.\n",
    "\n",
    "All paths are defined relative to `PROJECT_ROOT` for reproducibility."
   ],
   "id": "6f994e7db019d6e1"
  },
  {
   "metadata": {
    "ExecuteTime": {
     "end_time": "2025-07-05T08:24:18.708798Z",
     "start_time": "2025-07-05T08:24:18.704452Z"
    }
   },
   "cell_type": "code",
   "source": [
    "import sys\n",
    "from pathlib import Path\n",
    "\n",
    "# assume this notebook lives in notebooks/, so parent() is the repo root\n",
    "sys.path.append(str(Path().resolve().parent))\n",
    "from paths import PROJECT_ROOT\n",
    "\n",
    "from benchmark.utils.data import annotate_mgf_with_label\n",
    "\n",
    "import torch\n",
    "from massspecgym.data.transforms import SpecBinner\n",
    "from benchmark.data.datasets import ChlorineDetectionDataset\n",
    "from benchmark.data.data_module import BenchmarkDataModule"
   ],
   "id": "3b2a8a7b24af8ec6",
   "outputs": [],
   "execution_count": 1
  },
  {
   "metadata": {},
   "cell_type": "code",
   "outputs": [],
   "execution_count": null,
   "source": [
    "# Paths\n",
    "DATA_DIR   = PROJECT_ROOT / \"data\" / \"massspecgym\"\n",
    "ORIG_MGF   = DATA_DIR / \"MassSpecGym.mgf\"\n",
    "LABELED_MGF = DATA_DIR / \"MassSpecGym_chlorine.mgf\""
   ],
   "id": "f4747f0c98adf205"
  },
  {
   "metadata": {},
   "cell_type": "markdown",
   "source": [
    "#### Here we define function for annotation of our data. It is important as it will set ground truth for our data. Here we are working with MassSpecGym data where each mass spectra is annotated with correct molecule and based on this we can further annotate our spectra.\n",
    "\n",
    "#### therefore here is are solving chlorine detection problem, we pull molecule associated with mass spectra and ask if molecule contains Chlorine, if yes we assign mass spectra label with value 1.0, respectively 0.0 if it does not contain Chlorine,"
   ],
   "id": "b1ff67a88dc37daf"
  },
  {
   "metadata": {},
   "cell_type": "code",
   "outputs": [],
   "execution_count": null,
   "source": [
    "# Define labeling function: 1.0 if 'Cl' in FORMULA\n",
    "label_fn = lambda md: float(\"Cl\" in md.get(\"FORMULA\", \"\"))"
   ],
   "id": "4750536a65954df0"
  },
  {
   "metadata": {},
   "cell_type": "code",
   "outputs": [],
   "execution_count": null,
   "source": [
    "# Write out labeled MGF\n",
    "annotate_mgf_with_label(ORIG_MGF, LABELED_MGF, label_fn)\n",
    "print(f\"Labeled MGF written to: {LABELED_MGF}\")"
   ],
   "id": "4c24dfecc70d4b48"
  },
  {
   "metadata": {},
   "cell_type": "code",
   "outputs": [],
   "execution_count": null,
   "source": "",
   "id": "a4dac09464054714"
  },
  {
   "metadata": {},
   "cell_type": "code",
   "outputs": [],
   "execution_count": null,
   "source": "",
   "id": "83ed4f9edc766c3"
  },
  {
   "metadata": {},
   "cell_type": "code",
   "outputs": [],
   "execution_count": null,
   "source": "",
   "id": "329923f146d5d321"
  },
  {
   "metadata": {},
   "cell_type": "code",
   "outputs": [],
   "execution_count": null,
   "source": "",
   "id": "f003e5944757d5c9"
  }
 ],
 "metadata": {
  "kernelspec": {
   "display_name": "Python 3",
   "language": "python",
   "name": "python3"
  },
  "language_info": {
   "codemirror_mode": {
    "name": "ipython",
    "version": 2
   },
   "file_extension": ".py",
   "mimetype": "text/x-python",
   "name": "python",
   "nbconvert_exporter": "python",
   "pygments_lexer": "ipython2",
   "version": "2.7.6"
  }
 },
 "nbformat": 4,
 "nbformat_minor": 5
}
