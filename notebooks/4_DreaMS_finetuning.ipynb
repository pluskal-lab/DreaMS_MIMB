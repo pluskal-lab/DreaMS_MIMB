{
 "cells": [
  {
   "metadata": {},
   "cell_type": "markdown",
   "source": [
    "This notebook demonstrates how to fine‑tune the DreaMS model for a binary classification task (detecting chlorine in molecules) using the MassSpecGym dataset. We’ll:\n",
    "\n",
    "1. **Annotate** the MassSpecGym MGF with chlorine labels.\n",
    "2. **Prepare** a `ChlorineDetectionDataset` and a `BenchmarkDataModule`.\n",
    "3. **Train** a baseline MLP classifier.\n",
    "4. **Fine‑tune** the DreaMS encoder with a classification head (`LitDreamsClassifier`).\n",
    "5. **Evaluate** on the test split and **save** the checkpoint.\n",
    "\n",
    "All paths are defined relative to `PROJECT_ROOT` for reproducibility."
   ],
   "id": "6f994e7db019d6e1"
  },
  {
   "metadata": {
    "ExecuteTime": {
     "end_time": "2025-07-08T08:15:32.818092Z",
     "start_time": "2025-07-08T08:15:25.677041Z"
    }
   },
   "cell_type": "code",
   "source": [
    "import sys\n",
    "from pathlib import Path\n",
    "\n",
    "# assume this notebook lives in notebooks/, so parent() is the repo root\n",
    "sys.path.append(str(Path().resolve().parent))\n",
    "from paths import PROJECT_ROOT\n",
    "\n",
    "from benchmark.utils.data import annotate_mgf_with_label\n",
    "\n",
    "import torch\n",
    "import pytorch_lightning as pl\n",
    "\n",
    "from massspecgym.data.transforms import SpecTokenizer\n",
    "# from benchmark.data.datasets import ChlorineDetectionDataset\n",
    "from benchmark.data.datasets import BinaryDetectionDataset\n",
    "from benchmark.data.data_module import BenchmarkDataModule\n",
    "\n",
    "from benchmark.models.lit_dreams_module import LitDreamsClassifier\n",
    "from benchmark.models.lit_binary_classifier import LitBinaryClassifier\n",
    "\n"
   ],
   "id": "3b2a8a7b24af8ec6",
   "outputs": [
    {
     "name": "stderr",
     "output_type": "stream",
     "text": [
      "/Users/macbook/UTILS/anaconda3/envs/dreams_mimb/lib/python3.11/site-packages/lightning_fabric/__init__.py:41: pkg_resources is deprecated as an API. See https://setuptools.pypa.io/en/latest/pkg_resources.html. The pkg_resources package is slated for removal as early as 2025-11-30. Refrain from using this package or pin to Setuptools<81.\n",
      "Determination of memory status is not supported on this \n",
      " platform, measuring for memoryleaks will never fail\n"
     ]
    }
   ],
   "execution_count": 1
  },
  {
   "metadata": {},
   "cell_type": "markdown",
   "source": "### Comp resources setting",
   "id": "8853941f99ce5a35"
  },
  {
   "metadata": {
    "ExecuteTime": {
     "end_time": "2025-07-08T08:15:35.076077Z",
     "start_time": "2025-07-08T08:15:35.071846Z"
    }
   },
   "cell_type": "code",
   "source": [
    "import torch\n",
    "from pytorch_lightning import Trainer\n",
    "\n",
    "def get_trainer_kwargs():\n",
    "    \"\"\"\n",
    "    Inspect available hardware and return a dict suitable\n",
    "    for passing into Trainer(..., **kwargs).\n",
    "    \"\"\"\n",
    "    if torch.cuda.is_available():\n",
    "        # one or more NVIDIA GPUs\n",
    "        return {\n",
    "            \"accelerator\": \"gpu\",\n",
    "            \"devices\": torch.cuda.device_count(),\n",
    "            \"precision\": 16,           # use mixed-precision for speed\n",
    "        }\n",
    "    elif torch.backends.mps.is_available() and torch.backends.mps.is_built():\n",
    "        # Apple Silicon GPU via MPS\n",
    "        return {\n",
    "            \"accelerator\": \"mps\",\n",
    "            \"devices\": 1,\n",
    "            \"precision\": 16,           # mixed-precision works on MPS\n",
    "        }\n",
    "    else:\n",
    "        # fallback to CPU\n",
    "        return {\n",
    "            \"accelerator\": \"cpu\",\n",
    "            \"devices\": 1,\n",
    "        }"
   ],
   "id": "4e108bb852f87b7a",
   "outputs": [],
   "execution_count": 2
  },
  {
   "metadata": {
    "ExecuteTime": {
     "end_time": "2025-07-08T08:15:36.782632Z",
     "start_time": "2025-07-08T08:15:36.780161Z"
    }
   },
   "cell_type": "code",
   "source": [
    "# Paths\n",
    "DATA_DIR   = PROJECT_ROOT / \"data\" / \"massspecgym\"\n",
    "ORIG_MGF   = DATA_DIR / \"MassSpecGym.mgf\"\n",
    "LABELED_MGF = DATA_DIR / \"MassSpecGym_chlorine.mgf\"\n",
    "\n",
    "MODEL_PATH = PROJECT_ROOT / \"data\" / \"model_checkpoints\" / \"ssl_model.ckpt\""
   ],
   "id": "f4747f0c98adf205",
   "outputs": [],
   "execution_count": 3
  },
  {
   "metadata": {},
   "cell_type": "markdown",
   "source": [
    "#### Here we define function for annotation of our data. It is important as it will set ground truth for our data. Here we are working with MassSpecGym data where each mass spectra is annotated with correct molecule and based on this we can further annotate our spectra.\n",
    "\n",
    "#### therefore here is are solving chlorine detection problem, we pull molecule associated with mass spectra and ask if molecule contains Chlorine, if yes we assign mass spectra label with value 1.0, respectively 0.0 if it does not contain Chlorine,"
   ],
   "id": "b1ff67a88dc37daf"
  },
  {
   "metadata": {
    "ExecuteTime": {
     "end_time": "2025-07-08T08:15:11.667407Z",
     "start_time": "2025-07-05T14:57:10.903144Z"
    }
   },
   "cell_type": "code",
   "source": [
    "# # Define labeling function: 1.0 if 'Cl' in FORMULA\n",
    "# label_fn = lambda md: float(\"Cl\" in md.get(\"FORMULA\", \"\"))"
   ],
   "id": "4750536a65954df0",
   "outputs": [],
   "execution_count": 3
  },
  {
   "metadata": {
    "ExecuteTime": {
     "end_time": "2025-07-08T08:15:11.667482Z",
     "start_time": "2025-07-05T14:57:10.909324Z"
    }
   },
   "cell_type": "code",
   "source": [
    "# # Write out labeled MGF\n",
    "# annotate_mgf_with_label(ORIG_MGF, LABELED_MGF, label_fn)\n",
    "# print(f\"Labeled MGF written to: {LABELED_MGF}\")"
   ],
   "id": "4c24dfecc70d4b48",
   "outputs": [],
   "execution_count": 4
  },
  {
   "metadata": {
    "ExecuteTime": {
     "end_time": "2025-07-08T08:15:11.667544Z",
     "start_time": "2025-07-08T06:37:18.295716Z"
    }
   },
   "cell_type": "code",
   "source": [
    "# 2) Annotate (skips if already done)\n",
    "BinaryDetectionDataset.annotate_mgf(\n",
    "    input_pth  = ORIG_MGF,\n",
    "    output_pth = LABELED_MGF,\n",
    "    label_fn   = lambda md: float(\"Cl\" in md.get(\"formula\", \"\")),\n",
    ")"
   ],
   "id": "559659b42a770665",
   "outputs": [
    {
     "name": "stdout",
     "output_type": "stream",
     "text": [
      "/Users/macbook/CODE/DreaMS_MIMB/data/massspecgym/MassSpecGym_chlorine.mgf already exists; skipping annotation.\n"
     ]
    }
   ],
   "execution_count": 3
  },
  {
   "metadata": {
    "ExecuteTime": {
     "end_time": "2025-07-08T08:15:11.667610Z",
     "start_time": "2025-07-08T06:37:20.335451Z"
    }
   },
   "cell_type": "code",
   "source": [
    "# 3) Inspect fold‐wise distribution\n",
    "BinaryDetectionDataset.plot_fold_distribution(LABELED_MGF)"
   ],
   "id": "8b468f12fd9b61db",
   "outputs": [
    {
     "data": {
      "text/plain": [
       "<Figure size 600x400 with 1 Axes>"
      ],
      "image/png": "[encoded data removed]"
     },
     "metadata": {},
     "output_type": "display_data"
    },
    {
     "data": {
      "text/plain": [
       "<Figure size 600x400 with 1 Axes>"
      ],
      "image/png": "[encoded data removed]"
     },
     "metadata": {},
     "output_type": "display_data"
    }
   ],
   "execution_count": 4
  },
  {
   "metadata": {
    "ExecuteTime": {
     "end_time": "2025-07-05T15:15:48.637365Z",
     "start_time": "2025-07-05T15:15:12.666779Z"
    }
   },
   "cell_type": "code",
   "source": [
    "# 4) Visualize one negative & one positive example\n",
    "#    By default looks for 'library_SMILES'; override if your key is 'smiles'\n",
    "BinaryDetectionDataset.visualize_examples(\n",
    "    mgf_pth    = LABELED_MGF,\n",
    "    smiles_key = 'smiles'\n",
    ")"
   ],
   "id": "681640636af92808",
   "outputs": [
    {
     "name": "stdout",
     "output_type": "stream",
     "text": [
      "\n",
      "=== Example label 0 ===\n"
     ]
    },
    {
     "data": {
      "text/plain": [
       "<Figure size 600x200 with 1 Axes>"
      ],
      "image/png": "[encoded data removed]"
     },
     "metadata": {},
     "output_type": "display_data"
    },
    {
     "data": {
      "text/plain": [
       "<rdkit.Chem.rdchem.Mol at 0x3793f98c0>"
      ],
      "image/png": "[encoded data removed]"
     },
     "metadata": {},
     "output_type": "display_data"
    },
    {
     "name": "stdout",
     "output_type": "stream",
     "text": [
      "{'identifier': 'MassSpecGymID0000001', 'smiles': 'CC(=O)N[C@@H](CC1=CC=CC=C1)C2=CC(=CC(=O)O2)OC', 'inchikey': 'VFMQMACUYWGDOJ', 'formula': 'C16H17NO4', 'precursor_formula': 'C16H18NO4', 'parent_mass': '287.115224', 'precursor_mz': 288.1225, 'adduct': '[M+H]+', 'instrument_type': 'Orbitrap', 'collision_energy': '30.0', 'fold': 'train', 'simulation_challenge': 'True', 'label': '0'}\n",
      "\n",
      "=== Example label 1 ===\n"
     ]
    },
    {
     "data": {
      "text/plain": [
       "<Figure size 600x200 with 1 Axes>"
      ],
      "image/png": "[encoded data removed]"
     },
     "metadata": {},
     "output_type": "display_data"
    },
    {
     "data": {
      "text/plain": [
       "<rdkit.Chem.rdchem.Mol at 0x3793f9a10>"
      ],
      "image/png": "[encoded data removed]"
     },
     "metadata": {},
     "output_type": "display_data"
    },
    {
     "name": "stdout",
     "output_type": "stream",
     "text": [
      "{'identifier': 'MassSpecGymID0000586', 'smiles': 'CC[C@H](C)/C=C/C1=CC2=C(C(=O)[C@@]3(C(=C(C(=O)O3)C(=O)[C@@H](C)[C@@H](C)O)C2=CO1)C)Cl', 'inchikey': 'HWSQVPGTQUYLEQ', 'formula': 'C23H25ClO6', 'precursor_formula': 'C23H26ClO6', 'parent_mass': '432.133424', 'precursor_mz': 433.1407, 'adduct': '[M+H]+', 'instrument_type': 'Orbitrap', 'collision_energy': '10.0', 'fold': 'test', 'simulation_challenge': 'True', 'label': '1'}\n"
     ]
    }
   ],
   "execution_count": 4
  },
  {
   "metadata": {},
   "cell_type": "code",
   "outputs": [],
   "execution_count": null,
   "source": "",
   "id": "29e12e7d9f7bcadb"
  },
  {
   "metadata": {},
   "cell_type": "markdown",
   "source": "#### Now as we prepared data, we can provide it to DreaMS and learns it to distinguish if mass spectra contain chlorine.",
   "id": "76b792fdadf24276"
  },
  {
   "metadata": {
    "ExecuteTime": {
     "end_time": "2025-07-05T16:03:42.267230Z",
     "start_time": "2025-07-05T16:03:40.457079Z"
    }
   },
   "cell_type": "code",
   "source": [
    "# 1) Instantiate your Lightning module for imbalanced binary detection\n",
    "# lit = LitBinaryClassifier(\n",
    "#     ckpt_path=MODEL_PATH,\n",
    "#     n_highest_peaks=128,    # must match our tokenizer\n",
    "#     lr=1e-6,\n",
    "#     dropout=0.1,\n",
    "#     train_encoder=True,     # fine-tune the entire encoder\n",
    "#     pos_weight=None,        # or set to dataset_neg_count / dataset_pos_count\n",
    "# )"
   ],
   "id": "a4dac09464054714",
   "outputs": [],
   "execution_count": 3
  },
  {
   "metadata": {
    "ExecuteTime": {
     "end_time": "2025-07-08T08:15:51.840369Z",
     "start_time": "2025-07-08T08:15:50.062433Z"
    }
   },
   "cell_type": "code",
   "source": [
    "lit = LitBinaryClassifier(\n",
    "    ckpt_path       = MODEL_PATH,\n",
    "    n_highest_peaks = 64,\n",
    "    lr              = 1e-6,      # ← your chosen LR\n",
    "    dropout         = 0.1,\n",
    "    train_encoder   = True,\n",
    "    pos_weight      = None,\n",
    ")"
   ],
   "id": "2b7d93dfe28f3971",
   "outputs": [],
   "execution_count": 4
  },
  {
   "metadata": {
    "ExecuteTime": {
     "end_time": "2025-07-08T08:15:58.883326Z",
     "start_time": "2025-07-08T08:15:58.881515Z"
    }
   },
   "cell_type": "code",
   "source": [
    "# 2) Tokenize spectra into fixed-length set representations\n",
    "spec_transform = SpecTokenizer(n_peaks=64)"
   ],
   "id": "83ed4f9edc766c3",
   "outputs": [],
   "execution_count": 5
  },
  {
   "metadata": {},
   "cell_type": "markdown",
   "source": "#### Here we actually load benchmark and data that will go into model, and will be trained on",
   "id": "90900bf81340cb13"
  },
  {
   "metadata": {
    "ExecuteTime": {
     "end_time": "2025-07-08T08:16:44.328237Z",
     "start_time": "2025-07-08T08:16:02.210095Z"
    }
   },
   "cell_type": "code",
   "source": [
    "# ds_dreams = ChlorineDetectionDataset(\n",
    "#     pth=LABELED_MGF,\n",
    "#     spec_transform=spec_transform,\n",
    "#     dtype=torch.float32\n",
    "# )\n",
    "\n",
    "ds_dreams = BinaryDetectionDataset(\n",
    "    pth=LABELED_MGF,\n",
    "    spec_transform=spec_transform,\n",
    ")"
   ],
   "id": "329923f146d5d321",
   "outputs": [],
   "execution_count": 6
  },
  {
   "metadata": {
    "ExecuteTime": {
     "end_time": "2025-07-08T08:16:44.475677Z",
     "start_time": "2025-07-08T08:16:44.336806Z"
    }
   },
   "cell_type": "code",
   "source": [
    "# 3) Prepare the DataModule\n",
    "dm_dreams = BenchmarkDataModule(\n",
    "    dataset    = ds_dreams,\n",
    "    batch_size = 64,\n",
    "    num_workers= 0\n",
    ")\n",
    "dm_dreams.setup()"
   ],
   "id": "1ad524763368988b",
   "outputs": [],
   "execution_count": 7
  },
  {
   "metadata": {
    "ExecuteTime": {
     "end_time": "2025-07-08T08:16:44.527156Z",
     "start_time": "2025-07-08T08:16:44.482916Z"
    }
   },
   "cell_type": "code",
   "source": [
    "# Inspect one batch just to sanity-check shapes:\n",
    "batch = next(iter(dm_dreams.train_dataloader()))\n",
    "print(\"spec shape:\", batch[\"spec\"].shape)    # -> [B, 61, 2]\n",
    "print(\"label shape:\", batch[\"label\"].shape)"
   ],
   "id": "dff4e0d9aad1a0a8",
   "outputs": [
    {
     "name": "stdout",
     "output_type": "stream",
     "text": [
      "spec shape: torch.Size([64, 65, 2])\n",
      "label shape: torch.Size([64])\n"
     ]
    }
   ],
   "execution_count": 8
  },
  {
   "metadata": {},
   "cell_type": "markdown",
   "source": [
    "### Now we are approaching training, meaning model will se annotated examples and will learn to recognize if mass spectra contain chlorine \n",
    "\n",
    "#### Can take some time, however, once the DreaMS is trained, you do not need to redo all these steps, but just load already learned DreaMS"
   ],
   "id": "2610bbb740a0144a"
  },
  {
   "metadata": {},
   "cell_type": "markdown",
   "source": "# TODO add condition if GPU available",
   "id": "fc528ef9ea579008"
  },
  {
   "metadata": {
    "ExecuteTime": {
     "end_time": "2025-07-08T07:20:14.502146Z",
     "start_time": "2025-07-08T07:20:14.500327Z"
    }
   },
   "cell_type": "code",
   "source": [
    "# trainer = pl.Trainer(\n",
    "#     max_epochs=5,\n",
    "#     accelerator=\"cpu\",  # or \"gpu\"\n",
    "#     devices=1,\n",
    "#     log_every_n_steps=10,\n",
    "# )"
   ],
   "id": "f003e5944757d5c9",
   "outputs": [],
   "execution_count": 36
  },
  {
   "metadata": {},
   "cell_type": "markdown",
   "source": "### TMP",
   "id": "b16e5c447993e4fd"
  },
  {
   "metadata": {
    "ExecuteTime": {
     "end_time": "2025-07-08T08:16:44.538158Z",
     "start_time": "2025-07-08T08:16:44.534198Z"
    }
   },
   "cell_type": "code",
   "source": [
    "from pytorch_lightning.callbacks import Callback\n",
    "import torch\n",
    "\n",
    "class MetricsLogger(Callback):\n",
    "    def __init__(self):\n",
    "        super().__init__()\n",
    "        self.train_losses = []\n",
    "        self.val_losses   = []\n",
    "        self.val_aucs     = []\n",
    "        self.val_prs      = []\n",
    "        self.val_f1s      = []\n",
    "\n",
    "    def on_train_batch_end(self, trainer, pl_module, outputs, batch, batch_idx, dataloader_idx=0):\n",
    "        loss = (\n",
    "            outputs.detach().cpu().item()\n",
    "            if isinstance(outputs, torch.Tensor)\n",
    "            else outputs['loss'].detach().cpu().item()\n",
    "        )\n",
    "        self.train_losses.append(loss)\n",
    "\n",
    "    def on_validation_batch_end(self, trainer, pl_module, outputs, batch, batch_idx, dataloader_idx=0):\n",
    "        m = trainer.callback_metrics\n",
    "        # note: callback_metrics keys are strings exactly as you logged them\n",
    "        if 'val_loss' in m:\n",
    "            self.val_losses.append(m['val_loss'].cpu().item())\n",
    "        if 'val_auc' in m:\n",
    "            self.val_aucs.append(m['val_auc'].cpu().item())\n",
    "        if 'val_pr' in m:\n",
    "            self.val_prs.append(m['val_pr'].cpu().item())\n",
    "        if 'val_f1' in m:\n",
    "            self.val_f1s.append(m['val_f1'].cpu().item())"
   ],
   "id": "55c45c4b6d9bc966",
   "outputs": [],
   "execution_count": 9
  },
  {
   "metadata": {
    "ExecuteTime": {
     "end_time": "2025-07-08T08:16:49.202881Z",
     "start_time": "2025-07-08T08:16:49.162626Z"
    }
   },
   "cell_type": "code",
   "source": [
    "metrics_cb = MetricsLogger()\n",
    "trainer_kwargs = get_trainer_kwargs()\n",
    "\n",
    "trainer = pl.Trainer(\n",
    "    max_epochs=3,\n",
    "    # limit_train_batches=50,\n",
    "    # limit_val_batches=20,       # run only 3 validation batches\n",
    "    # limit_test_batches=20,      # run only 3 test batches\n",
    "    callbacks=[metrics_cb],\n",
    "    **trainer_kwargs\n",
    ")\n"
   ],
   "id": "76cd30957a31ff4d",
   "outputs": [
    {
     "name": "stderr",
     "output_type": "stream",
     "text": [
      "/Users/macbook/UTILS/anaconda3/envs/dreams_mimb/lib/python3.11/site-packages/lightning_fabric/connector.py:563: `precision=16` is supported for historical reasons but its usage is discouraged. Please set your precision to 16-mixed instead!\n",
      "Using 16bit Automatic Mixed Precision (AMP)\n",
      "/Users/macbook/UTILS/anaconda3/envs/dreams_mimb/lib/python3.11/site-packages/torch/amp/grad_scaler.py:131: UserWarning: torch.cuda.amp.GradScaler is enabled, but CUDA is not available.  Disabling.\n",
      "  warnings.warn(\n",
      "GPU available: True (mps), used: True\n",
      "TPU available: False, using: 0 TPU cores\n",
      "IPU available: False, using: 0 IPUs\n",
      "HPU available: False, using: 0 HPUs\n",
      "/Users/macbook/UTILS/anaconda3/envs/dreams_mimb/lib/python3.11/site-packages/pytorch_lightning/trainer/connectors/logger_connector/logger_connector.py:75: Starting from v1.9.0, `tensorboardX` has been removed as a dependency of the `pytorch_lightning` package, due to potential conflicts with other packages in the ML ecosystem. For this reason, `logger=True` will use `CSVLogger` as the default logger, unless the `tensorboard` or `tensorboardX` packages are found. Please `pip install lightning[extra]` or one of them to enable TensorBoard support by default\n"
     ]
    }
   ],
   "execution_count": 10
  },
  {
   "metadata": {
    "ExecuteTime": {
     "end_time": "2025-07-08T10:07:46.321376Z",
     "start_time": "2025-07-08T08:16:55.134068Z"
    }
   },
   "cell_type": "code",
   "source": "trainer.fit(lit, datamodule=dm_dreams)",
   "id": "abeb08d330f762ce",
   "outputs": [
    {
     "name": "stderr",
     "output_type": "stream",
     "text": [
      "Loading `train_dataloader` to estimate number of stepping batches.\n",
      "/Users/macbook/UTILS/anaconda3/envs/dreams_mimb/lib/python3.11/site-packages/pytorch_lightning/trainer/connectors/data_connector.py:441: The 'train_dataloader' does not have many workers which may be a bottleneck. Consider increasing the value of the `num_workers` argument` to `num_workers=9` in the `DataLoader` to improve performance.\n",
      "\n",
      "  | Name          | Type                   | Params\n",
      "---------------------------------------------------------\n",
      "0 | model         | DreamsClassifier       | 95.6 M\n",
      "1 | train_bal_acc | BinaryAccuracy         | 0     \n",
      "2 | val_bal_acc   | BinaryAccuracy         | 0     \n",
      "3 | val_auc       | BinaryAUROC            | 0     \n",
      "4 | val_pr        | BinaryAveragePrecision | 0     \n",
      "5 | val_f1        | BinaryF1Score          | 0     \n",
      "---------------------------------------------------------\n",
      "95.6 M    Trainable params\n",
      "0         Non-trainable params\n",
      "95.6 M    Total params\n",
      "382.202   Total estimated model params size (MB)\n"
     ]
    },
    {
     "data": {
      "text/plain": [
       "Sanity Checking: |          | 0/? [00:00<?, ?it/s]"
      ],
      "application/vnd.jupyter.widget-view+json": {
       "version_major": 2,
       "version_minor": 0,
       "model_id": "242e33c5f99e461492e2cbb29a0c7424"
      }
     },
     "metadata": {},
     "output_type": "display_data"
    },
    {
     "name": "stderr",
     "output_type": "stream",
     "text": [
      "/Users/macbook/UTILS/anaconda3/envs/dreams_mimb/lib/python3.11/site-packages/pytorch_lightning/trainer/connectors/data_connector.py:441: The 'val_dataloader' does not have many workers which may be a bottleneck. Consider increasing the value of the `num_workers` argument` to `num_workers=9` in the `DataLoader` to improve performance.\n",
      "/Users/macbook/UTILS/anaconda3/envs/dreams_mimb/lib/python3.11/site-packages/torch/amp/autocast_mode.py:250: UserWarning: User provided device_type of 'cuda', but CUDA is not available. Disabling\n",
      "  warnings.warn(\n",
      "/Users/macbook/UTILS/anaconda3/envs/dreams_mimb/lib/python3.11/site-packages/pytorch_lightning/utilities/data.py:77: Trying to infer the `batch_size` from an ambiguous collection. The batch size we found is 64. To avoid any miscalculations, use `self.log(..., batch_size=batch_size)`.\n",
      "/Users/macbook/UTILS/anaconda3/envs/dreams_mimb/lib/python3.11/site-packages/torchmetrics/utilities/prints.py:43: UserWarning: No positive samples in targets, true positive value should be meaningless. Returning zero tensor in true positive score\n",
      "  warnings.warn(*args, **kwargs)  # noqa: B028\n",
      "/Users/macbook/UTILS/anaconda3/envs/dreams_mimb/lib/python3.11/site-packages/torchmetrics/utilities/prints.py:43: UserWarning: No positive samples found in target, recall is undefined. Setting recall to one for all thresholds.\n",
      "  warnings.warn(*args, **kwargs)  # noqa: B028\n"
     ]
    },
    {
     "data": {
      "text/plain": [
       "Training: |          | 0/? [00:00<?, ?it/s]"
      ],
      "application/vnd.jupyter.widget-view+json": {
       "version_major": 2,
       "version_minor": 0,
       "model_id": "120080151bb34a84911d66c7ab04beb8"
      }
     },
     "metadata": {},
     "output_type": "display_data"
    },
    {
     "data": {
      "text/plain": [
       "Validation: |          | 0/? [00:00<?, ?it/s]"
      ],
      "application/vnd.jupyter.widget-view+json": {
       "version_major": 2,
       "version_minor": 0,
       "model_id": "29c3b0e4e0b740c386ed993830b05587"
      }
     },
     "metadata": {},
     "output_type": "display_data"
    },
    {
     "name": "stderr",
     "output_type": "stream",
     "text": [
      "/Users/macbook/UTILS/anaconda3/envs/dreams_mimb/lib/python3.11/site-packages/torchmetrics/utilities/prints.py:43: UserWarning: No negative samples in targets, false positive value should be meaningless. Returning zero tensor in false positive score\n",
      "  warnings.warn(*args, **kwargs)  # noqa: B028\n",
      "/Users/macbook/UTILS/anaconda3/envs/dreams_mimb/lib/python3.11/site-packages/pytorch_lightning/utilities/data.py:77: Trying to infer the `batch_size` from an ambiguous collection. The batch size we found is 37. To avoid any miscalculations, use `self.log(..., batch_size=batch_size)`.\n"
     ]
    },
    {
     "data": {
      "text/plain": [
       "Validation: |          | 0/? [00:00<?, ?it/s]"
      ],
      "application/vnd.jupyter.widget-view+json": {
       "version_major": 2,
       "version_minor": 0,
       "model_id": "808674edad2c46bd9028d906cfb84475"
      }
     },
     "metadata": {},
     "output_type": "display_data"
    },
    {
     "data": {
      "text/plain": [
       "Validation: |          | 0/? [00:00<?, ?it/s]"
      ],
      "application/vnd.jupyter.widget-view+json": {
       "version_major": 2,
       "version_minor": 0,
       "model_id": "55a2e74912a34faa910b3a0a5892f4f8"
      }
     },
     "metadata": {},
     "output_type": "display_data"
    },
    {
     "name": "stderr",
     "output_type": "stream",
     "text": [
      "`Trainer.fit` stopped: `max_epochs=3` reached.\n"
     ]
    }
   ],
   "execution_count": 11
  },
  {
   "metadata": {
    "ExecuteTime": {
     "end_time": "2025-07-08T10:07:46.764574Z",
     "start_time": "2025-07-08T10:07:46.338844Z"
    }
   },
   "cell_type": "code",
   "source": [
    "import matplotlib.pyplot as plt\n",
    "\n",
    "# 1) Loss\n",
    "plt.figure(figsize=(6,4))\n",
    "plt.plot(metrics_cb.train_losses, label=\"train loss\")\n",
    "plt.plot(metrics_cb.val_losses,   label=\"val loss\")\n",
    "plt.xlabel(\"Batch #\"); plt.ylabel(\"Loss\")\n",
    "plt.legend(); plt.title(\"Loss Curve\")\n",
    "plt.show()\n",
    "\n",
    "# 2) AUC\n",
    "if metrics_cb.val_aucs:\n",
    "    plt.figure(figsize=(6,4))\n",
    "    plt.plot(metrics_cb.val_aucs, label=\"val AUROC\", color='tab:green')\n",
    "    plt.xlabel(\"Batch #\"); plt.ylabel(\"AUROC\")\n",
    "    plt.legend(); plt.title(\"Validation AUROC\")\n",
    "    plt.show()\n",
    "\n",
    "# 3) Average Precision\n",
    "if metrics_cb.val_prs:\n",
    "    plt.figure(figsize=(6,4))\n",
    "    plt.plot(metrics_cb.val_prs, label=\"val AP\", color='tab:purple')\n",
    "    plt.xlabel(\"Batch #\"); plt.ylabel(\"Average Precision\")\n",
    "    plt.legend(); plt.title(\"Validation Precision-Recall AUC\")\n",
    "    plt.show()\n",
    "\n",
    "# 4) F1 Score\n",
    "if metrics_cb.val_f1s:\n",
    "    plt.figure(figsize=(6,4))\n",
    "    plt.plot(metrics_cb.val_f1s, label=\"val F1\", color='tab:orange')\n",
    "    plt.xlabel(\"Batch #\"); plt.ylabel(\"F1 Score\")\n",
    "    plt.legend(); plt.title(\"Validation F1 Over Time\")\n",
    "    plt.show()"
   ],
   "id": "a3fc3430fc49784d",
   "outputs": [
    {
     "data": {
      "text/plain": [
       "<Figure size 600x400 with 1 Axes>"
      ],
      "image/png": "[encoded data removed]"
     },
     "metadata": {},
     "output_type": "display_data"
    },
    {
     "data": {
      "text/plain": [
       "<Figure size 600x400 with 1 Axes>"
      ],
      "image/png": "[encoded data removed]"
     },
     "metadata": {},
     "output_type": "display_data"
    },
    {
     "data": {
      "text/plain": [
       "<Figure size 600x400 with 1 Axes>"
      ],
      "image/png": "[encoded data removed]"
     },
     "metadata": {},
     "output_type": "display_data"
    },
    {
     "data": {
      "text/plain": [
       "<Figure size 600x400 with 1 Axes>"
      ],
      "image/png": "[encoded data removed]"
     },
     "metadata": {},
     "output_type": "display_data"
    }
   ],
   "execution_count": 12
  },
  {
   "metadata": {
    "ExecuteTime": {
     "end_time": "2025-07-05T16:04:24.895080Z",
     "start_time": "2025-07-05T16:04:24.852Z"
    }
   },
   "cell_type": "code",
   "source": [
    "trainer = pl.Trainer(\n",
    "    max_epochs=1,\n",
    "    limit_train_batches=5,     # run only 5 training batches\n",
    "    limit_val_batches=3,       # run only 3 validation batches\n",
    "    limit_test_batches=3,      # run only 3 test batches\n",
    "    accelerator=\"cpu\",         # or \"gpu\"\n",
    "    devices=1,\n",
    ")"
   ],
   "id": "54e9400cd8045bfe",
   "outputs": [
    {
     "name": "stderr",
     "output_type": "stream",
     "text": [
      "GPU available: True (mps), used: False\n",
      "TPU available: False, using: 0 TPU cores\n",
      "IPU available: False, using: 0 IPUs\n",
      "HPU available: False, using: 0 HPUs\n",
      "/Users/macbook/UTILS/anaconda3/envs/dreams_mimb/lib/python3.11/site-packages/pytorch_lightning/trainer/setup.py:187: GPU available but not used. You can set it by doing `Trainer(accelerator='gpu')`.\n",
      "/Users/macbook/UTILS/anaconda3/envs/dreams_mimb/lib/python3.11/site-packages/pytorch_lightning/trainer/connectors/logger_connector/logger_connector.py:75: Starting from v1.9.0, `tensorboardX` has been removed as a dependency of the `pytorch_lightning` package, due to potential conflicts with other packages in the ML ecosystem. For this reason, `logger=True` will use `CSVLogger` as the default logger, unless the `tensorboard` or `tensorboardX` packages are found. Please `pip install lightning[extra]` or one of them to enable TensorBoard support by default\n"
     ]
    }
   ],
   "execution_count": 9
  },
  {
   "metadata": {
    "ExecuteTime": {
     "end_time": "2025-07-05T16:04:37.825095Z",
     "start_time": "2025-07-05T16:04:24.988068Z"
    }
   },
   "cell_type": "code",
   "source": "trainer.fit(lit, datamodule=dm_dreams)",
   "id": "ffe28494d3e4566a",
   "outputs": [
    {
     "name": "stderr",
     "output_type": "stream",
     "text": [
      "\n",
      "  | Name          | Type                   | Params\n",
      "---------------------------------------------------------\n",
      "0 | model         | DreamsClassifier       | 95.6 M\n",
      "1 | train_bal_acc | BinaryAccuracy         | 0     \n",
      "2 | val_bal_acc   | BinaryAccuracy         | 0     \n",
      "3 | val_auc       | BinaryAUROC            | 0     \n",
      "4 | val_pr        | BinaryAveragePrecision | 0     \n",
      "5 | val_f1        | BinaryF1Score          | 0     \n",
      "---------------------------------------------------------\n",
      "95.6 M    Trainable params\n",
      "0         Non-trainable params\n",
      "95.6 M    Total params\n",
      "382.202   Total estimated model params size (MB)\n"
     ]
    },
    {
     "data": {
      "text/plain": [
       "Sanity Checking: |          | 0/? [00:00<?, ?it/s]"
      ],
      "application/vnd.jupyter.widget-view+json": {
       "version_major": 2,
       "version_minor": 0,
       "model_id": "3099213414294bb49002956ba501ed2f"
      }
     },
     "metadata": {},
     "output_type": "display_data"
    },
    {
     "name": "stderr",
     "output_type": "stream",
     "text": [
      "/Users/macbook/UTILS/anaconda3/envs/dreams_mimb/lib/python3.11/site-packages/pytorch_lightning/trainer/connectors/data_connector.py:441: The 'val_dataloader' does not have many workers which may be a bottleneck. Consider increasing the value of the `num_workers` argument` to `num_workers=9` in the `DataLoader` to improve performance.\n"
     ]
    },
    {
     "name": "stdout",
     "output_type": "stream",
     "text": [
      "  ► input x.dtype: torch.float32,   encoder weight dtype: torch.float32\n"
     ]
    },
    {
     "name": "stderr",
     "output_type": "stream",
     "text": [
      "/Users/macbook/UTILS/anaconda3/envs/dreams_mimb/lib/python3.11/site-packages/pytorch_lightning/utilities/data.py:77: Trying to infer the `batch_size` from an ambiguous collection. The batch size we found is 16. To avoid any miscalculations, use `self.log(..., batch_size=batch_size)`.\n",
      "/Users/macbook/UTILS/anaconda3/envs/dreams_mimb/lib/python3.11/site-packages/torchmetrics/utilities/prints.py:43: UserWarning: No positive samples in targets, true positive value should be meaningless. Returning zero tensor in true positive score\n",
      "  warnings.warn(*args, **kwargs)  # noqa: B028\n",
      "/Users/macbook/UTILS/anaconda3/envs/dreams_mimb/lib/python3.11/site-packages/torchmetrics/utilities/prints.py:43: UserWarning: No positive samples found in target, recall is undefined. Setting recall to one for all thresholds.\n",
      "  warnings.warn(*args, **kwargs)  # noqa: B028\n"
     ]
    },
    {
     "name": "stdout",
     "output_type": "stream",
     "text": [
      "  ► input x.dtype: torch.float32,   encoder weight dtype: torch.float32\n"
     ]
    },
    {
     "name": "stderr",
     "output_type": "stream",
     "text": [
      "/Users/macbook/UTILS/anaconda3/envs/dreams_mimb/lib/python3.11/site-packages/pytorch_lightning/trainer/connectors/data_connector.py:441: The 'train_dataloader' does not have many workers which may be a bottleneck. Consider increasing the value of the `num_workers` argument` to `num_workers=9` in the `DataLoader` to improve performance.\n",
      "/Users/macbook/UTILS/anaconda3/envs/dreams_mimb/lib/python3.11/site-packages/pytorch_lightning/loops/fit_loop.py:298: The number of training batches (5) is smaller than the logging interval Trainer(log_every_n_steps=50). Set a lower value for log_every_n_steps if you want to see logs for the training epoch.\n"
     ]
    },
    {
     "data": {
      "text/plain": [
       "Training: |          | 0/? [00:00<?, ?it/s]"
      ],
      "application/vnd.jupyter.widget-view+json": {
       "version_major": 2,
       "version_minor": 0,
       "model_id": "c24e171230e448668c09685b270795c7"
      }
     },
     "metadata": {},
     "output_type": "display_data"
    },
    {
     "name": "stdout",
     "output_type": "stream",
     "text": [
      "  ► input x.dtype: torch.float32,   encoder weight dtype: torch.float32\n",
      "  ► input x.dtype: torch.float32,   encoder weight dtype: torch.float32\n",
      "  ► input x.dtype: torch.float32,   encoder weight dtype: torch.float32\n",
      "  ► input x.dtype: torch.float32,   encoder weight dtype: torch.float32\n",
      "  ► input x.dtype: torch.float32,   encoder weight dtype: torch.float32\n"
     ]
    },
    {
     "data": {
      "text/plain": [
       "Validation: |          | 0/? [00:00<?, ?it/s]"
      ],
      "application/vnd.jupyter.widget-view+json": {
       "version_major": 2,
       "version_minor": 0,
       "model_id": "cba2011224ac499db5b25b402a74989b"
      }
     },
     "metadata": {},
     "output_type": "display_data"
    },
    {
     "name": "stdout",
     "output_type": "stream",
     "text": [
      "  ► input x.dtype: torch.float32,   encoder weight dtype: torch.float32\n",
      "  ► input x.dtype: torch.float32,   encoder weight dtype: torch.float32\n",
      "  ► input x.dtype: torch.float32,   encoder weight dtype: torch.float32\n"
     ]
    },
    {
     "name": "stderr",
     "output_type": "stream",
     "text": [
      "`Trainer.fit` stopped: `max_epochs=1` reached.\n"
     ]
    }
   ],
   "execution_count": 10
  },
  {
   "metadata": {
    "ExecuteTime": {
     "end_time": "2025-07-08T11:32:59.082685Z",
     "start_time": "2025-07-08T11:31:36.279786Z"
    }
   },
   "cell_type": "code",
   "source": "trainer.test(lit, datamodule=dm_dreams)",
   "id": "ab9cde0d75ddae2",
   "outputs": [
    {
     "name": "stderr",
     "output_type": "stream",
     "text": [
      "/Users/macbook/UTILS/anaconda3/envs/dreams_mimb/lib/python3.11/site-packages/pytorch_lightning/trainer/connectors/data_connector.py:441: The 'test_dataloader' does not have many workers which may be a bottleneck. Consider increasing the value of the `num_workers` argument` to `num_workers=9` in the `DataLoader` to improve performance.\n"
     ]
    },
    {
     "data": {
      "text/plain": [
       "Testing: |          | 0/? [00:00<?, ?it/s]"
      ],
      "application/vnd.jupyter.widget-view+json": {
       "version_major": 2,
       "version_minor": 0,
       "model_id": "3341d194eb704ef082c47e9f4b0b03b0"
      }
     },
     "metadata": {},
     "output_type": "display_data"
    },
    {
     "name": "stderr",
     "output_type": "stream",
     "text": [
      "/Users/macbook/UTILS/anaconda3/envs/dreams_mimb/lib/python3.11/site-packages/torch/amp/autocast_mode.py:250: UserWarning: User provided device_type of 'cuda', but CUDA is not available. Disabling\n",
      "  warnings.warn(\n",
      "/Users/macbook/UTILS/anaconda3/envs/dreams_mimb/lib/python3.11/site-packages/torchmetrics/utilities/prints.py:43: UserWarning: No positive samples in targets, true positive value should be meaningless. Returning zero tensor in true positive score\n",
      "  warnings.warn(*args, **kwargs)  # noqa: B028\n",
      "/Users/macbook/UTILS/anaconda3/envs/dreams_mimb/lib/python3.11/site-packages/torchmetrics/utilities/prints.py:43: UserWarning: No positive samples found in target, recall is undefined. Setting recall to one for all thresholds.\n",
      "  warnings.warn(*args, **kwargs)  # noqa: B028\n",
      "/Users/macbook/UTILS/anaconda3/envs/dreams_mimb/lib/python3.11/site-packages/pytorch_lightning/utilities/data.py:77: Trying to infer the `batch_size` from an ambiguous collection. The batch size we found is 20. To avoid any miscalculations, use `self.log(..., batch_size=batch_size)`.\n"
     ]
    },
    {
     "name": "stdout",
     "output_type": "stream",
     "text": [
      "────────────────────────────────────────────────────────────────────────────────────────────────────────────────────────\n",
      "       Test metric             DataLoader 0\n",
      "────────────────────────────────────────────────────────────────────────────────────────────────────────────────────────\n",
      "         val_auc            0.4806259572505951\n",
      "       val_bal_acc          0.9097175002098083\n",
      "         val_f1             0.2625061571598053\n",
      "        val_loss            0.26231491565704346\n",
      "         val_pr             0.3553357422351837\n",
      "────────────────────────────────────────────────────────────────────────────────────────────────────────────────────────\n"
     ]
    },
    {
     "data": {
      "text/plain": [
       "[{'val_loss': 0.26231491565704346,\n",
       "  'val_bal_acc': 0.9097175002098083,\n",
       "  'val_auc': 0.4806259572505951,\n",
       "  'val_pr': 0.3553357422351837,\n",
       "  'val_f1': 0.2625061571598053}]"
      ]
     },
     "execution_count": 14,
     "metadata": {},
     "output_type": "execute_result"
    }
   ],
   "execution_count": 14
  },
  {
   "metadata": {},
   "cell_type": "markdown",
   "source": "#### Now model was sucessfuly trained and we do not want to repeat computationally expensive training, so we save learned model and will reuse it ",
   "id": "d7a05a587cb51f17"
  },
  {
   "metadata": {
    "ExecuteTime": {
     "end_time": "2025-07-08T10:07:47.688713Z",
     "start_time": "2025-07-08T10:07:46.815499Z"
    }
   },
   "cell_type": "code",
   "source": [
    "# 4) Save your fine-tuned checkpoint\n",
    "trainer.save_checkpoint(\"dreams_chlorine_finetuned.ckpt\")"
   ],
   "id": "987cddd8074da8ad",
   "outputs": [],
   "execution_count": 13
  },
  {
   "metadata": {},
   "cell_type": "markdown",
   "source": "### 4 – Reload & verify",
   "id": "edf67f838dec272b"
  },
  {
   "metadata": {
    "ExecuteTime": {
     "end_time": "2025-07-05T09:41:58.819503Z",
     "start_time": "2025-07-05T09:31:51.812657Z"
    }
   },
   "cell_type": "code",
   "source": [
    "lit2 = LitDreamsClassifier.load_from_checkpoint(\"dreams_chlorine_finetuned.ckpt\")\n",
    "lit2.eval()\n",
    "test_trainer = pl.Trainer(accelerator=\"cpu\", devices=1)\n",
    "test_results = test_trainer.test(lit2, datamodule=dm_dreams)\n",
    "print(test_results)"
   ],
   "id": "d4af7d21bd7845f5",
   "outputs": [
    {
     "name": "stderr",
     "output_type": "stream",
     "text": [
      "GPU available: True (mps), used: False\n",
      "TPU available: False, using: 0 TPU cores\n",
      "IPU available: False, using: 0 IPUs\n",
      "HPU available: False, using: 0 HPUs\n",
      "/Users/macbook/UTILS/anaconda3/envs/dreams_mimb/lib/python3.11/site-packages/pytorch_lightning/trainer/setup.py:187: GPU available but not used. You can set it by doing `Trainer(accelerator='gpu')`.\n",
      "/Users/macbook/UTILS/anaconda3/envs/dreams_mimb/lib/python3.11/site-packages/pytorch_lightning/trainer/connectors/data_connector.py:441: The 'test_dataloader' does not have many workers which may be a bottleneck. Consider increasing the value of the `num_workers` argument` to `num_workers=9` in the `DataLoader` to improve performance.\n"
     ]
    },
    {
     "data": {
      "text/plain": [
       "Testing: |          | 0/? [00:00<?, ?it/s]"
      ],
      "application/vnd.jupyter.widget-view+json": {
       "version_major": 2,
       "version_minor": 0,
       "model_id": "5ea56400352c4786a047850d6e56ddfd"
      }
     },
     "metadata": {},
     "output_type": "display_data"
    },
    {
     "name": "stdout",
     "output_type": "stream",
     "text": [
      "────────────────────────────────────────────────────────────────────────────────────────────────────────────────────────\n",
      "       Test metric             DataLoader 0\n",
      "────────────────────────────────────────────────────────────────────────────────────────────────────────────────────────\n",
      "        test_acc                    1.0\n",
      "        test_loss          5.959106275099657e-08\n",
      "────────────────────────────────────────────────────────────────────────────────────────────────────────────────────────\n",
      "[{'test_loss': 5.959106275099657e-08, 'test_acc': 1.0}]\n"
     ]
    }
   ],
   "execution_count": 18
  },
  {
   "metadata": {},
   "cell_type": "code",
   "outputs": [],
   "execution_count": null,
   "source": "",
   "id": "8159592627a2081c"
  }
 ],
 "metadata": {
  "kernelspec": {
   "display_name": "Python 3",
   "language": "python",
   "name": "python3"
  },
  "language_info": {
   "codemirror_mode": {
    "name": "ipython",
    "version": 2
   },
   "file_extension": ".py",
   "mimetype": "text/x-python",
   "name": "python",
   "nbconvert_exporter": "python",
   "pygments_lexer": "ipython2",
   "version": "2.7.6"
  }
 },
 "nbformat": 4,
 "nbformat_minor": 5
}
