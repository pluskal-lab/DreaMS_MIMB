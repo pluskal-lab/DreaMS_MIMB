{
 "cells": [
  {
   "metadata": {
    "ExecuteTime": {
     "end_time": "2025-06-28T09:56:33.611149Z",
     "start_time": "2025-06-28T09:56:33.607402Z"
    }
   },
   "cell_type": "code",
   "source": [
    "import os\n",
    "os.environ[\"HDF5_USE_FILE_LOCKING\"] = \"FALSE\""
   ],
   "id": "14c1737ec6e51f58",
   "outputs": [],
   "execution_count": 1
  },
  {
   "cell_type": "code",
   "id": "initial_id",
   "metadata": {
    "collapsed": true,
    "ExecuteTime": {
     "end_time": "2025-06-28T09:56:45.588481Z",
     "start_time": "2025-06-28T09:56:40.078508Z"
    }
   },
   "source": [
    "import sys\n",
    "from pathlib import Path\n",
    "\n",
    "# Set project folder so we can use paths.py\n",
    "sys.path.append(str(Path().resolve().parent))\n",
    "from paths import PROJECT_ROOT\n",
    "\n",
    "# High-level imports\n",
    "from dreams.utils.data import MSData\n",
    "from dreams.api import dreams_embeddings\n",
    "from sklearn.metrics.pairwise import cosine_similarity\n",
    "import numpy as np\n",
    "import dreams.utils.spectra as su\n",
    "import pandas as pd\n",
    "from tqdm import tqdm"
   ],
   "outputs": [
    {
     "name": "stderr",
     "output_type": "stream",
     "text": [
      "Determination of memory status is not supported on this \n",
      " platform, measuring for memoryleaks will never fail\n"
     ]
    }
   ],
   "execution_count": 2
  },
  {
   "metadata": {
    "ExecuteTime": {
     "end_time": "2025-06-28T09:56:45.593933Z",
     "start_time": "2025-06-28T09:56:45.591420Z"
    }
   },
   "cell_type": "code",
   "source": [
    "# 1) Define paths ----------------------------------\n",
    "\n",
    "# MassSpecGym MGF file\n",
    "mgf_path      = PROJECT_ROOT / \"data\" / \"massspecgym\" / \"MassSpecGym.mgf\"\n",
    "# The HDF5 we will create alongside it\n",
    "h5_path       = mgf_path.with_suffix(\".hdf5\")\n",
    "# Where to save the library embeddings\n",
    "lib_emb_path  = h5_path.with_name(h5_path.stem + \"_dreams_emb.npy\")\n",
    "\n",
    "# Your query mzML file\n",
    "mzml_path     = PROJECT_ROOT / \"data\" / \"rawfiles\" / \"202312_20_P09-Leaf-r1_1uL.mzML\"\n",
    "# Where to save your query embeddings\n",
    "query_emb_path = mzml_path.with_name(mzml_path.stem + \"_dreams_emb.npy\")"
   ],
   "id": "f869a41755237a9",
   "outputs": [],
   "execution_count": 3
  },
  {
   "metadata": {
    "ExecuteTime": {
     "end_time": "2025-06-28T09:57:52.128946Z",
     "start_time": "2025-06-28T09:57:32.333838Z"
    }
   },
   "cell_type": "code",
   "source": [
    "# 2) Convert the MGF library to HDF5 ----------------\n",
    "\n",
    "# This reads the .mgf and writes MassSpecGym.hdf5 next to it\n",
    "msdata_lib = MSData.from_mgf(str(mgf_path), prec_mz_col='PRECURSOR_MZ')\n",
    "# Confirm it wrote the file\n",
    "print(\"Library HDF5:\", h5_path, \"| # spectra:\", len(msdata_lib))"
   ],
   "id": "2125ef80fca92f02",
   "outputs": [
    {
     "name": "stdout",
     "output_type": "stream",
     "text": [
      "Loading dataset MassSpecGym into memory (231104 spectra)...\n",
      "Library HDF5: /Users/macbook/CODE/DreaMS_MIMB/data/massspecgym/MassSpecGym.hdf5 | # spectra: 231104\n"
     ]
    }
   ],
   "execution_count": 4
  },
  {
   "metadata": {
    "ExecuteTime": {
     "end_time": "2025-06-27T17:36:39.112774Z",
     "start_time": "2025-06-27T17:36:22.496257Z"
    }
   },
   "cell_type": "code",
   "source": "# msdata_lib = MSData.load(str(mgf_path))",
   "id": "7f2670a81a5256b0",
   "outputs": [
    {
     "ename": "ValueError",
     "evalue": "Column \"precursor_mz\" is not present in the dataframe. Available columns: Index(['spectrum', 'IDENTIFIER', 'smiles', 'INCHIKEY', 'FORMULA',\n       'PRECURSOR_FORMULA', 'PARENT_MASS', 'PRECURSOR_MZ', 'adduct',\n       'INSTRUMENT_TYPE', 'COLLISION_ENERGY', 'FOLD', 'SIMULATION_CHALLENGE'],\n      dtype='object').",
     "output_type": "error",
     "traceback": [
      "\u001B[31m---------------------------------------------------------------------------\u001B[39m",
      "\u001B[31mValueError\u001B[39m                                Traceback (most recent call last)",
      "\u001B[36mCell\u001B[39m\u001B[36m \u001B[39m\u001B[32mIn[10]\u001B[39m\u001B[32m, line 1\u001B[39m\n\u001B[32m----> \u001B[39m\u001B[32m1\u001B[39m msdata_lib = \u001B[43mMSData\u001B[49m\u001B[43m.\u001B[49m\u001B[43mload\u001B[49m\u001B[43m(\u001B[49m\u001B[38;5;28;43mstr\u001B[39;49m\u001B[43m(\u001B[49m\u001B[43mmgf_path\u001B[49m\u001B[43m)\u001B[49m\u001B[43m)\u001B[49m\n",
      "\u001B[36mFile \u001B[39m\u001B[32m~/UTILS/anaconda3/envs/dreams_mimb/lib/python3.11/site-packages/dreams/utils/data.py:373\u001B[39m, in \u001B[36mMSData.load\u001B[39m\u001B[34m(pth, in_mem, **kwargs)\u001B[39m\n\u001B[32m    371\u001B[39m     \u001B[38;5;28;01mreturn\u001B[39;00m MSData.from_msp(pth, in_mem=in_mem, **kwargs)\n\u001B[32m    372\u001B[39m \u001B[38;5;28;01melif\u001B[39;00m pth.suffix.lower() == \u001B[33m'\u001B[39m\u001B[33m.mgf\u001B[39m\u001B[33m'\u001B[39m:\n\u001B[32m--> \u001B[39m\u001B[32m373\u001B[39m     \u001B[38;5;28;01mreturn\u001B[39;00m \u001B[43mMSData\u001B[49m\u001B[43m.\u001B[49m\u001B[43mfrom_mgf\u001B[49m\u001B[43m(\u001B[49m\u001B[43mpth\u001B[49m\u001B[43m,\u001B[49m\u001B[43m \u001B[49m\u001B[43min_mem\u001B[49m\u001B[43m=\u001B[49m\u001B[43min_mem\u001B[49m\u001B[43m,\u001B[49m\u001B[43m \u001B[49m\u001B[43m*\u001B[49m\u001B[43m*\u001B[49m\u001B[43mkwargs\u001B[49m\u001B[43m)\u001B[49m\n\u001B[32m    374\u001B[39m \u001B[38;5;28;01melif\u001B[39;00m pth.suffix.lower() == \u001B[33m'\u001B[39m\u001B[33m.pkl\u001B[39m\u001B[33m'\u001B[39m:\n\u001B[32m    375\u001B[39m     \u001B[38;5;28;01mreturn\u001B[39;00m MSData.from_pandas(pth, in_mem=in_mem, **kwargs)\n",
      "\u001B[36mFile \u001B[39m\u001B[32m~/UTILS/anaconda3/envs/dreams_mimb/lib/python3.11/site-packages/dreams/utils/data.py:355\u001B[39m, in \u001B[36mMSData.from_mgf\u001B[39m\u001B[34m(pth, in_mem, **kwargs)\u001B[39m\n\u001B[32m    353\u001B[39m pth = Path(pth)\n\u001B[32m    354\u001B[39m df = io.read_mgf(pth)\n\u001B[32m--> \u001B[39m\u001B[32m355\u001B[39m \u001B[38;5;28;01mreturn\u001B[39;00m \u001B[43mMSData\u001B[49m\u001B[43m.\u001B[49m\u001B[43mfrom_pandas\u001B[49m\u001B[43m(\u001B[49m\u001B[43mdf\u001B[49m\u001B[43m,\u001B[49m\u001B[43m \u001B[49m\u001B[43mhdf5_pth\u001B[49m\u001B[43m=\u001B[49m\u001B[43mpth\u001B[49m\u001B[43m.\u001B[49m\u001B[43mwith_suffix\u001B[49m\u001B[43m(\u001B[49m\u001B[33;43m'\u001B[39;49m\u001B[33;43m.hdf5\u001B[39;49m\u001B[33;43m'\u001B[39;49m\u001B[43m)\u001B[49m\u001B[43m,\u001B[49m\u001B[43m \u001B[49m\u001B[43min_mem\u001B[49m\u001B[43m=\u001B[49m\u001B[43min_mem\u001B[49m\u001B[43m,\u001B[49m\u001B[43m \u001B[49m\u001B[43m*\u001B[49m\u001B[43m*\u001B[49m\u001B[43mkwargs\u001B[49m\u001B[43m)\u001B[49m\n",
      "\u001B[36mFile \u001B[39m\u001B[32m~/UTILS/anaconda3/envs/dreams_mimb/lib/python3.11/site-packages/dreams/utils/data.py:289\u001B[39m, in \u001B[36mMSData.from_pandas\u001B[39m\u001B[34m(df, n_highest_peaks, spec_col, prec_mz_col, adduct_col, charge_col, mol_col, ignore_cols, in_mem, hdf5_pth, compression_opts, mode)\u001B[39m\n\u001B[32m    287\u001B[39m \u001B[38;5;28;01mfor\u001B[39;00m col \u001B[38;5;129;01min\u001B[39;00m [spec_col, prec_mz_col]:\u001B[38;5;66;03m#, adduct_col, charge_col, smiles_col]:\u001B[39;00m\n\u001B[32m    288\u001B[39m     \u001B[38;5;28;01mif\u001B[39;00m col \u001B[38;5;129;01mnot\u001B[39;00m \u001B[38;5;129;01min\u001B[39;00m df.columns:\n\u001B[32m--> \u001B[39m\u001B[32m289\u001B[39m         \u001B[38;5;28;01mraise\u001B[39;00m \u001B[38;5;167;01mValueError\u001B[39;00m(\u001B[33mf\u001B[39m\u001B[33m'\u001B[39m\u001B[33mColumn \u001B[39m\u001B[33m\"\u001B[39m\u001B[38;5;132;01m{\u001B[39;00mcol\u001B[38;5;132;01m}\u001B[39;00m\u001B[33m\"\u001B[39m\u001B[33m is not present in the dataframe. Available columns: \u001B[39m\u001B[38;5;132;01m{\u001B[39;00mdf.columns\u001B[38;5;132;01m}\u001B[39;00m\u001B[33m.\u001B[39m\u001B[33m'\u001B[39m)\n\u001B[32m    291\u001B[39m \u001B[38;5;66;03m# Convert dataframe columns to .hdf5 datasets\u001B[39;00m\n\u001B[32m    292\u001B[39m \u001B[38;5;28;01mwith\u001B[39;00m h5py.File(hdf5_pth, \u001B[33m'\u001B[39m\u001B[33mw\u001B[39m\u001B[33m'\u001B[39m) \u001B[38;5;28;01mas\u001B[39;00m f:\n",
      "\u001B[31mValueError\u001B[39m: Column \"precursor_mz\" is not present in the dataframe. Available columns: Index(['spectrum', 'IDENTIFIER', 'smiles', 'INCHIKEY', 'FORMULA',\n       'PRECURSOR_FORMULA', 'PARENT_MASS', 'PRECURSOR_MZ', 'adduct',\n       'INSTRUMENT_TYPE', 'COLLISION_ENERGY', 'FOLD', 'SIMULATION_CHALLENGE'],\n      dtype='object')."
     ]
    }
   ],
   "execution_count": 10
  },
  {
   "metadata": {
    "ExecuteTime": {
     "end_time": "2025-06-28T09:58:03.887745Z",
     "start_time": "2025-06-28T09:58:03.721253Z"
    }
   },
   "cell_type": "code",
   "source": [
    "# 3) Compute or load library embeddings --------------\n",
    "\n",
    "if lib_emb_path.exists():\n",
    "    embs_lib = np.load(str(lib_emb_path))\n",
    "    print(\"Loaded saved library embeddings:\", embs_lib.shape)\n",
    "else:\n",
    "    embs_lib = dreams_embeddings(msdata_lib)\n",
    "    np.save(str(lib_emb_path), embs_lib)\n",
    "    print(\"Computed & saved library embeddings:\", embs_lib.shape)"
   ],
   "id": "c47141b255ada07d",
   "outputs": [
    {
     "name": "stdout",
     "output_type": "stream",
     "text": [
      "Loaded saved library embeddings: (231104, 1024)\n"
     ]
    }
   ],
   "execution_count": 5
  },
  {
   "metadata": {
    "ExecuteTime": {
     "end_time": "2025-06-28T10:00:17.721784Z",
     "start_time": "2025-06-28T09:58:07.129340Z"
    }
   },
   "cell_type": "code",
   "source": [
    "# 4) Compute or load your query embeddings ------------\n",
    "\n",
    "# Load your spectra into MSData (writes .hdf5 automatically)\n",
    "msdata_q = MSData.from_mzml(str(mzml_path))\n",
    "print(\"Query HDF5 created:\", mzml_path.with_suffix(\".hdf5\"), \"| # spectra:\", len(msdata_q))\n",
    "\n",
    "if query_emb_path.exists():\n",
    "    embs_q = np.load(str(query_emb_path))\n",
    "    print(\"Loaded saved query embeddings:\", embs_q.shape)\n",
    "else:\n",
    "    embs_q = dreams_embeddings(msdata_q)\n",
    "    np.save(str(query_emb_path), embs_q)\n",
    "    print(\"Computed & saved query embeddings:\", embs_q.shape)"
   ],
   "id": "cb589109ea19c9e7",
   "outputs": [
    {
     "name": "stdout",
     "output_type": "stream",
     "text": [
      "Loading dataset 202312_20_P09-Leaf-r1_1uL into memory (5681 spectra)...\n",
      "Query HDF5 created: /Users/macbook/CODE/DreaMS_MIMB/data/rawfiles/202312_20_P09-Leaf-r1_1uL.hdf5 | # spectra: 5681\n"
     ]
    },
    {
     "name": "stderr",
     "output_type": "stream",
     "text": [
      "Computing DreaMS embedding: 100%|██████████| 5681/5681 [02:05<00:00, 45.28it/s]\n"
     ]
    },
    {
     "name": "stdout",
     "output_type": "stream",
     "text": [
      "Computed & saved query embeddings: (5681, 1024)\n"
     ]
    }
   ],
   "execution_count": 6
  },
  {
   "metadata": {
    "ExecuteTime": {
     "end_time": "2025-06-28T10:00:30.309169Z",
     "start_time": "2025-06-28T10:00:25.064958Z"
    }
   },
   "cell_type": "code",
   "source": [
    "# 5) Compute similarities ----------------------------\n",
    "\n",
    "# cosine_similarity returns a matrix [n_query × n_lib]\n",
    "sims = cosine_similarity(embs_q, embs_lib)"
   ],
   "id": "400fb6c743df64fd",
   "outputs": [],
   "execution_count": 7
  },
  {
   "metadata": {
    "ExecuteTime": {
     "end_time": "2025-06-28T10:02:08.592473Z",
     "start_time": "2025-06-28T10:00:31.946531Z"
    }
   },
   "cell_type": "code",
   "source": [
    "# 6) Find top-5 matches per query --------------------\n",
    "\n",
    "k = 5\n",
    "topk = np.argsort(sims, axis=1)[:, -k:][:, ::-1]"
   ],
   "id": "a7956bc9ad0f8a05",
   "outputs": [],
   "execution_count": 8
  },
  {
   "metadata": {
    "ExecuteTime": {
     "end_time": "2025-06-28T10:02:12.317350Z",
     "start_time": "2025-06-28T10:02:08.601631Z"
    }
   },
   "cell_type": "code",
   "source": [
    "# 7) Build results table ------------------------------\n",
    "\n",
    "rows = []\n",
    "cos_sim = su.PeakListModifiedCosine()\n",
    "\n",
    "for i_query, top5 in enumerate(tqdm(topk, desc=\"Matching spectra\")):\n",
    "    for rank, i_lib in enumerate(top5, start=1):\n",
    "        rows.append({\n",
    "            \"query_index\": i_query,\n",
    "            \"rank\": rank,\n",
    "            \"library_index\": int(i_lib),\n",
    "            \"library_SMILES\": msdata_lib.get_smiles(i_lib),\n",
    "            \"library_ID\": msdata_lib.get_values(\"IDENTIFIER\", i_lib),\n",
    "            \"DreaMS_similarity\": float(sims[i_query, i_lib]),\n",
    "            \"Modified_cosine_similarity\": cos_sim(\n",
    "                spec1=msdata_q.get_spectra(i_query),\n",
    "                prec_mz1=msdata_q.get_prec_mzs(i_query),\n",
    "                spec2=msdata_lib.get_spectra(i_lib),\n",
    "                prec_mz2=msdata_lib.get_prec_mzs(i_lib),\n",
    "            )\n",
    "        })\n",
    "\n",
    "df = pd.DataFrame(rows)"
   ],
   "id": "b3957b3d1fe26329",
   "outputs": [
    {
     "name": "stderr",
     "output_type": "stream",
     "text": [
      "Matching spectra: 100%|██████████| 5681/5681 [00:03<00:00, 1547.09it/s]\n"
     ]
    }
   ],
   "execution_count": 9
  },
  {
   "metadata": {
    "ExecuteTime": {
     "end_time": "2025-06-28T10:02:12.428691Z",
     "start_time": "2025-06-28T10:02:12.333571Z"
    }
   },
   "cell_type": "code",
   "source": [
    "# 8) Save results -------------------------------------\n",
    "\n",
    "# Make a results folder if it doesn't exist\n",
    "results_folder = PROJECT_ROOT / \"results\"\n",
    "results_folder.mkdir(exist_ok=True)\n",
    "\n",
    "out_csv = results_folder / \"library_matching_results.csv\"\n",
    "df.to_csv(out_csv, index=False)\n",
    "print(\"Library matching results saved to:\", out_csv)"
   ],
   "id": "c78227062b25b2ca",
   "outputs": [
    {
     "name": "stdout",
     "output_type": "stream",
     "text": [
      "Library matching results saved to: /Users/macbook/CODE/DreaMS_MIMB/results/library_matching_results.csv\n"
     ]
    }
   ],
   "execution_count": 10
  },
  {
   "metadata": {},
   "cell_type": "code",
   "outputs": [],
   "execution_count": null,
   "source": "",
   "id": "a914aafa9a8056a3"
  }
 ],
 "metadata": {
  "kernelspec": {
   "display_name": "Python 3",
   "language": "python",
   "name": "python3"
  },
  "language_info": {
   "codemirror_mode": {
    "name": "ipython",
    "version": 2
   },
   "file_extension": ".py",
   "mimetype": "text/x-python",
   "name": "python",
   "nbconvert_exporter": "python",
   "pygments_lexer": "ipython2",
   "version": "2.7.6"
  }
 },
 "nbformat": 4,
 "nbformat_minor": 5
}
