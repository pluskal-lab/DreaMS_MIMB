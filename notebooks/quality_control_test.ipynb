{
 "cells": [
  {
   "metadata": {},
   "cell_type": "code",
   "outputs": [],
   "execution_count": null,
   "source": "",
   "id": "758217f14d6eda40"
  },
  {
   "metadata": {
    "ExecuteTime": {
     "end_time": "2025-07-02T06:54:35.995900Z",
     "start_time": "2025-07-02T06:54:35.991069Z"
    }
   },
   "cell_type": "code",
   "source": [
    "import sys\n",
    "from pathlib import Path\n",
    "\n",
    "# assume this notebook lives in notebooks/, so parent() is the repo root\n",
    "sys.path.append(str(Path().resolve().parent))\n",
    "from paths import PROJECT_ROOT"
   ],
   "id": "b5688db0e512ed4a",
   "outputs": [],
   "execution_count": 4
  },
  {
   "cell_type": "code",
   "id": "initial_id",
   "metadata": {
    "collapsed": true,
    "ExecuteTime": {
     "end_time": "2025-07-02T06:53:02.427727Z",
     "start_time": "2025-07-02T06:52:55.786521Z"
    }
   },
   "source": [
    "import numpy as np\n",
    "import pandas as pd\n",
    "from pathlib import Path\n",
    "\n",
    "# DreaMS imports\n",
    "from dreams.utils.dformats import DataFormatA\n",
    "from dreams.utils.data     import MSData\n",
    "from dreams.utils.io       import append_to_stem"
   ],
   "outputs": [
    {
     "name": "stderr",
     "output_type": "stream",
     "text": [
      "/Users/macbook/UTILS/anaconda3/envs/dreams_mimb/lib/python3.11/site-packages/lightning_fabric/__init__.py:41: pkg_resources is deprecated as an API. See https://setuptools.pypa.io/en/latest/pkg_resources.html. The pkg_resources package is slated for removal as early as 2025-11-30. Refrain from using this package or pin to Setuptools<81.\n",
      "Determination of memory status is not supported on this \n",
      " platform, measuring for memoryleaks will never fail\n"
     ]
    }
   ],
   "execution_count": 1
  },
  {
   "metadata": {
    "ExecuteTime": {
     "end_time": "2025-07-02T06:56:27.474991Z",
     "start_time": "2025-07-02T06:56:27.471515Z"
    }
   },
   "cell_type": "code",
   "source": [
    "# 2) point to your file (mzML or HDF5)\n",
    "mzml_path = PROJECT_ROOT / \"data\" / \"rawfiles\" / \"202312_20_P09-Leaf-r1_1uL.mzML\"\n",
    "h5_path   = mzml_path.with_suffix(\".hdf5\")"
   ],
   "id": "c9e856dc3dd53f3b",
   "outputs": [],
   "execution_count": 7
  },
  {
   "metadata": {
    "ExecuteTime": {
     "end_time": "2025-07-02T06:56:34.957079Z",
     "start_time": "2025-07-02T06:56:34.926844Z"
    }
   },
   "cell_type": "code",
   "source": [
    "# 3) load (or reuse cache) into an MSData\n",
    "if h5_path.exists():\n",
    "    msdata = MSData.from_hdf5(str(h5_path), in_mem=True)\n",
    "else:\n",
    "    msdata = MSData.from_mzml(str(mzml_path))\n"
   ],
   "id": "df298e4e323ba300",
   "outputs": [
    {
     "name": "stdout",
     "output_type": "stream",
     "text": [
      "Loading dataset 202312_20_P09-Leaf-r1_1uL into memory (5681 spectra)...\n"
     ]
    }
   ],
   "execution_count": 8
  },
  {
   "metadata": {
    "ExecuteTime": {
     "end_time": "2025-07-02T06:56:45.260453Z",
     "start_time": "2025-07-02T06:56:45.258174Z"
    }
   },
   "cell_type": "code",
   "source": [
    "# 4) pull out spectra & precursor m/z arrays\n",
    "spectra  = msdata.get_spectra()      # (N, 2, P)\n",
    "prec_mzs  = msdata.get_prec_mzs()    # (N,)\n"
   ],
   "id": "5092425b68116e5f",
   "outputs": [],
   "execution_count": 9
  },
  {
   "metadata": {
    "ExecuteTime": {
     "end_time": "2025-07-02T06:57:21.812278Z",
     "start_time": "2025-07-02T06:57:21.809851Z"
    }
   },
   "cell_type": "code",
   "source": "spectra.shape",
   "id": "57a1cc0750114d07",
   "outputs": [
    {
     "data": {
      "text/plain": [
       "(5681, 2, 128)"
      ]
     },
     "execution_count": 14,
     "metadata": {},
     "output_type": "execute_result"
    }
   ],
   "execution_count": 14
  },
  {
   "metadata": {
    "ExecuteTime": {
     "end_time": "2025-07-02T06:57:36.074684Z",
     "start_time": "2025-07-02T06:57:35.967604Z"
    }
   },
   "cell_type": "code",
   "source": [
    "# 5) compute single‐spectrum quality flags\n",
    "dformat      = DataFormatA()\n",
    "quality_lvls = [\n",
    "    dformat.val_spec(spec, prec, return_problems=True)\n",
    "    for spec, prec in zip(spectra, prec_mzs)\n",
    "]"
   ],
   "id": "7c0816d5b3c9dae2",
   "outputs": [
    {
     "name": "stderr",
     "output_type": "stream",
     "text": [
      "/Users/macbook/UTILS/anaconda3/envs/dreams_mimb/lib/python3.11/site-packages/dreams/utils/spectra.py:258: RuntimeWarning: divide by zero encountered in scalar divide\n",
      "  return max(peak_list[1]) / min(peak_list[1])\n"
     ]
    }
   ],
   "execution_count": 15
  },
  {
   "metadata": {
    "ExecuteTime": {
     "end_time": "2025-07-02T06:57:48.480846Z",
     "start_time": "2025-07-02T06:57:48.474112Z"
    }
   },
   "cell_type": "code",
   "source": [
    "# 6) tally pass/fail\n",
    "qc_counts = pd.Series(quality_lvls).value_counts()\n",
    "print(\"QC breakdown:\\n\", qc_counts)"
   ],
   "id": "970b8c9bb776f307",
   "outputs": [
    {
     "name": "stdout",
     "output_type": "stream",
     "text": [
      "QC breakdown:\n",
      " All checks passed                      4705\n",
      "Number of high intensity peaks >= 3     938\n",
      "Intensity amplitude >= 20.0              23\n",
      "m/z range <= 1000.0                      15\n",
      "Name: count, dtype: int64\n"
     ]
    }
   ],
   "execution_count": 16
  },
  {
   "metadata": {
    "ExecuteTime": {
     "end_time": "2025-07-02T07:01:21.186677Z",
     "start_time": "2025-07-02T07:01:21.183029Z"
    }
   },
   "cell_type": "code",
   "source": [
    "# 7) select only 'All checks passed'\n",
    "keep_idx = np.where(np.array(quality_lvls) == \"All checks passed\")[0]"
   ],
   "id": "ac0676a59d4e1514",
   "outputs": [],
   "execution_count": 17
  },
  {
   "metadata": {
    "ExecuteTime": {
     "end_time": "2025-07-02T07:01:27.263549Z",
     "start_time": "2025-07-02T07:01:27.250420Z"
    }
   },
   "cell_type": "code",
   "source": [
    "# 8) write high‐quality subset to new HDF5\n",
    "hq_h5 = append_to_stem(h5_path, \"high_quality\")\n",
    "msdata.form_subset(idx=keep_idx, out_pth=hq_h5)\n",
    "print(\"Wrote high-quality file to:\", hq_h5)"
   ],
   "id": "ec1f2badd6fa371f",
   "outputs": [
    {
     "name": "stdout",
     "output_type": "stream",
     "text": [
      "Wrote high-quality file to: /Users/macbook/CODE/DreaMS_MIMB/data/rawfiles/202312_20_P09-Leaf-r1_1uL_high_quality.hdf5\n"
     ]
    }
   ],
   "execution_count": 18
  },
  {
   "metadata": {
    "ExecuteTime": {
     "end_time": "2025-07-02T07:01:42.998157Z",
     "start_time": "2025-07-02T07:01:42.992690Z"
    }
   },
   "cell_type": "code",
   "source": [
    "# 9) verify by loading it back\n",
    "msdata_hq = MSData.load(hq_h5)\n",
    "print(\"High-quality MSData:\", msdata_hq)"
   ],
   "id": "272b2cd55267e8eb",
   "outputs": [
    {
     "name": "stdout",
     "output_type": "stream",
     "text": [
      "High-quality MSData: MSData(pth=/Users/macbook/CODE/DreaMS_MIMB/data/rawfiles/202312_20_P09-Leaf-r1_1uL_high_quality.hdf5, in_mem=False) with 4,705 spectra.\n"
     ]
    }
   ],
   "execution_count": 19
  }
 ],
 "metadata": {
  "kernelspec": {
   "display_name": "Python 3",
   "language": "python",
   "name": "python3"
  },
  "language_info": {
   "codemirror_mode": {
    "name": "ipython",
    "version": 2
   },
   "file_extension": ".py",
   "mimetype": "text/x-python",
   "name": "python",
   "nbconvert_exporter": "python",
   "pygments_lexer": "ipython2",
   "version": "2.7.6"
  }
 },
 "nbformat": 4,
 "nbformat_minor": 5
}
