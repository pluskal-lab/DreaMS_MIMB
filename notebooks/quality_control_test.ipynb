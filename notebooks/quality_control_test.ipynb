{
 "cells": [
  {
   "metadata": {},
   "cell_type": "code",
   "outputs": [],
   "execution_count": null,
   "source": "",
   "id": "758217f14d6eda40"
  },
  {
   "metadata": {
    "ExecuteTime": {
     "end_time": "2025-07-02T07:20:30.350442Z",
     "start_time": "2025-07-02T07:20:30.346750Z"
    }
   },
   "cell_type": "code",
   "source": [
    "import sys\n",
    "from pathlib import Path\n",
    "\n",
    "# assume this notebook lives in notebooks/, so parent() is the repo root\n",
    "sys.path.append(str(Path().resolve().parent))\n",
    "from paths import PROJECT_ROOT"
   ],
   "id": "b5688db0e512ed4a",
   "outputs": [],
   "execution_count": 21
  },
  {
   "cell_type": "code",
   "id": "initial_id",
   "metadata": {
    "collapsed": true,
    "ExecuteTime": {
     "end_time": "2025-07-02T07:20:30.685288Z",
     "start_time": "2025-07-02T07:20:30.682482Z"
    }
   },
   "source": [
    "import numpy as np\n",
    "import pandas as pd\n",
    "from pathlib import Path\n",
    "\n",
    "# DreaMS imports\n",
    "from dreams.utils.dformats import DataFormatA\n",
    "from dreams.utils.data     import MSData\n",
    "from dreams.utils.io       import append_to_stem"
   ],
   "outputs": [],
   "execution_count": 22
  },
  {
   "metadata": {
    "ExecuteTime": {
     "end_time": "2025-07-02T07:20:31.505031Z",
     "start_time": "2025-07-02T07:20:31.501896Z"
    }
   },
   "cell_type": "code",
   "source": [
    "# 2) point to your file (mzML or HDF5)\n",
    "mzml_path = PROJECT_ROOT / \"data\" / \"rawfiles\" / \"202312_20_P09-Leaf-r1_1uL.mzML\"\n",
    "h5_path   = mzml_path.with_suffix(\".hdf5\")"
   ],
   "id": "c9e856dc3dd53f3b",
   "outputs": [],
   "execution_count": 23
  },
  {
   "metadata": {
    "ExecuteTime": {
     "end_time": "2025-07-02T07:20:32.184226Z",
     "start_time": "2025-07-02T07:20:32.155327Z"
    }
   },
   "cell_type": "code",
   "source": [
    "# 3) load (or reuse cache) into an MSData\n",
    "if h5_path.exists():\n",
    "    msdata = MSData.from_hdf5(str(h5_path), in_mem=True)\n",
    "else:\n",
    "    msdata = MSData.from_mzml(str(mzml_path))\n"
   ],
   "id": "df298e4e323ba300",
   "outputs": [
    {
     "name": "stdout",
     "output_type": "stream",
     "text": [
      "Loading dataset 202312_20_P09-Leaf-r1_1uL into memory (5681 spectra)...\n"
     ]
    }
   ],
   "execution_count": 24
  },
  {
   "metadata": {
    "ExecuteTime": {
     "end_time": "2025-07-02T07:22:43.900639Z",
     "start_time": "2025-07-02T07:22:43.887937Z"
    }
   },
   "cell_type": "code",
   "source": [
    "\n",
    "# 2) filter to positive‐ion spectra only ---------\n",
    "charges = msdata.get_values(\"charge\")       # (N,)\n",
    "pos_idx = np.where(charges > 0)[0]\n",
    "\n",
    "print(f\"Keeping {len(pos_idx)} / {len(charges)} spectra with charge > 0\")\n",
    "\n",
    "# 3) subset your MSData in‐memory (no extra disk write)\n",
    "#    (we’ll just reindex all further get_spectra(), get_prec_mzs(), etc.)\n",
    "msdata_pos = msdata.form_subset(pos_idx, out_pth=append_to_stem(h5_path, \"positive\"))"
   ],
   "id": "2eda43302ed5fd3b",
   "outputs": [
    {
     "name": "stdout",
     "output_type": "stream",
     "text": [
      "Keeping 4562 / 5681 spectra with charge > 0\n"
     ]
    }
   ],
   "execution_count": 25
  },
  {
   "metadata": {
    "ExecuteTime": {
     "end_time": "2025-07-02T07:23:06.227466Z",
     "start_time": "2025-07-02T07:23:06.220497Z"
    }
   },
   "cell_type": "code",
   "source": [
    "# 4) pull out spectra & precursor m/z arrays -----\n",
    "spectra  = msdata_pos.get_spectra()    # shape: (M, 2, P)\n",
    "prec_mzs  = msdata_pos.get_prec_mzs()  # shape: (M,)\n"
   ],
   "id": "5092425b68116e5f",
   "outputs": [],
   "execution_count": 29
  },
  {
   "metadata": {
    "ExecuteTime": {
     "end_time": "2025-07-02T07:23:07.558831Z",
     "start_time": "2025-07-02T07:23:07.554252Z"
    }
   },
   "cell_type": "code",
   "source": "spectra.shape",
   "id": "57a1cc0750114d07",
   "outputs": [
    {
     "data": {
      "text/plain": [
       "(4562, 2, 128)"
      ]
     },
     "execution_count": 30,
     "metadata": {},
     "output_type": "execute_result"
    }
   ],
   "execution_count": 30
  },
  {
   "metadata": {
    "ExecuteTime": {
     "end_time": "2025-07-02T07:23:12.352618Z",
     "start_time": "2025-07-02T07:23:12.262144Z"
    }
   },
   "cell_type": "code",
   "source": [
    "# 5) compute single‐spectrum quality flags\n",
    "dformat      = DataFormatA()\n",
    "quality_lvls = [\n",
    "    dformat.val_spec(spec, prec, return_problems=True)\n",
    "    for spec, prec in zip(spectra, prec_mzs)\n",
    "]"
   ],
   "id": "7c0816d5b3c9dae2",
   "outputs": [
    {
     "name": "stderr",
     "output_type": "stream",
     "text": [
      "/Users/macbook/UTILS/anaconda3/envs/dreams_mimb/lib/python3.11/site-packages/dreams/utils/spectra.py:258: RuntimeWarning: divide by zero encountered in scalar divide\n",
      "  return max(peak_list[1]) / min(peak_list[1])\n"
     ]
    }
   ],
   "execution_count": 31
  },
  {
   "metadata": {
    "ExecuteTime": {
     "end_time": "2025-07-02T07:25:34.971646Z",
     "start_time": "2025-07-02T07:25:34.965561Z"
    }
   },
   "cell_type": "code",
   "source": [
    "# 6) tally pass/fail\n",
    "qc_counts = pd.Series(quality_lvls).value_counts()\n",
    "print(\"QC breakdown:\\n\", qc_counts)"
   ],
   "id": "970b8c9bb776f307",
   "outputs": [
    {
     "name": "stdout",
     "output_type": "stream",
     "text": [
      "QC breakdown:\n",
      " All checks passed                      3741\n",
      "Number of high intensity peaks >= 3     785\n",
      "Intensity amplitude >= 20.0              21\n",
      "m/z range <= 1000.0                      15\n",
      "Name: count, dtype: int64\n"
     ]
    }
   ],
   "execution_count": 32
  },
  {
   "metadata": {
    "ExecuteTime": {
     "end_time": "2025-07-02T07:25:45.010770Z",
     "start_time": "2025-07-02T07:25:45.006962Z"
    }
   },
   "cell_type": "code",
   "source": [
    "# 7) select only 'All checks passed'\n",
    "keep_idx = np.where(np.array(quality_lvls) == \"All checks passed\")[0]"
   ],
   "id": "ac0676a59d4e1514",
   "outputs": [],
   "execution_count": 33
  },
  {
   "metadata": {
    "ExecuteTime": {
     "end_time": "2025-07-02T07:25:59.193746Z",
     "start_time": "2025-07-02T07:25:59.181895Z"
    }
   },
   "cell_type": "code",
   "source": [
    "# 8) write high‐quality subset to new HDF5\n",
    "hq_h5 = append_to_stem(h5_path, \"high_quality\")\n",
    "msdata.form_subset(idx=keep_idx, out_pth=hq_h5)\n",
    "print(\"Wrote high-quality file to:\", hq_h5)"
   ],
   "id": "ec1f2badd6fa371f",
   "outputs": [
    {
     "name": "stdout",
     "output_type": "stream",
     "text": [
      "Wrote high-quality file to: /Users/macbook/CODE/DreaMS_MIMB/data/rawfiles/202312_20_P09-Leaf-r1_1uL_high_quality.hdf5\n"
     ]
    }
   ],
   "execution_count": 35
  },
  {
   "metadata": {
    "ExecuteTime": {
     "end_time": "2025-07-02T07:26:01.475847Z",
     "start_time": "2025-07-02T07:26:01.469127Z"
    }
   },
   "cell_type": "code",
   "source": [
    "# 9) verify by loading it back\n",
    "msdata_hq = MSData.load(hq_h5)\n",
    "print(\"High-quality MSData:\", msdata_hq)"
   ],
   "id": "272b2cd55267e8eb",
   "outputs": [
    {
     "name": "stdout",
     "output_type": "stream",
     "text": [
      "High-quality MSData: MSData(pth=/Users/macbook/CODE/DreaMS_MIMB/data/rawfiles/202312_20_P09-Leaf-r1_1uL_high_quality.hdf5, in_mem=False) with 3,741 spectra.\n"
     ]
    }
   ],
   "execution_count": 36
  },
  {
   "metadata": {
    "ExecuteTime": {
     "end_time": "2025-07-02T07:26:04.034708Z",
     "start_time": "2025-07-02T07:26:04.030149Z"
    }
   },
   "cell_type": "code",
   "source": "msdata.get_values(\"charge\")",
   "id": "c06ab48b085650e7",
   "outputs": [
    {
     "data": {
      "text/plain": [
       "array([0, 1, 1, ..., 0, 1, 1])"
      ]
     },
     "execution_count": 37,
     "metadata": {},
     "output_type": "execute_result"
    }
   ],
   "execution_count": 37
  }
 ],
 "metadata": {
  "kernelspec": {
   "display_name": "Python 3",
   "language": "python",
   "name": "python3"
  },
  "language_info": {
   "codemirror_mode": {
    "name": "ipython",
    "version": 2
   },
   "file_extension": ".py",
   "mimetype": "text/x-python",
   "name": "python",
   "nbconvert_exporter": "python",
   "pygments_lexer": "ipython2",
   "version": "2.7.6"
  }
 },
 "nbformat": 4,
 "nbformat_minor": 5
}
