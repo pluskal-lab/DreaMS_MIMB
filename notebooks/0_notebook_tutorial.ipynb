{
 "cells": [
  {
   "metadata": {},
   "cell_type": "markdown",
   "source": [
    "# 0. Tutorial: Introduction to Jupyter Notebooks\n",
    "This notebook is your **very first look** at a Jupyter Notebook.  \n",
    "We’ll explain:\n",
    "- What a notebook is\n",
    "- How to run cells (▶️ button, **Shift + Enter**)\n",
    "- What the kernel does\n",
    "- How to import libraries and set up file paths\n",
    "\n",
    "---\n",
    "\n",
    "## Notebook interface overview\n",
    "When you open JupyterLab or the classic notebook, you’ll see:\n",
    "1. A **file browser** (left pane) showing your folders & `.ipynb` files  \n",
    "2. A **menu bar** (top) with File, Edit, View, Run, Kernel, etc.  \n",
    "3. A **toolbar** with buttons like ▶️ **Run**, ✂️ **Cut**, 🖉 **Edit**, and ➕ **Add Cell**  \n",
    "\n",
    "> **Tip:** Hover over a button to see its tooltip.\n",
    "\n",
    "---\n",
    "\n",
    "## What Is a Cell?\n",
    "- **Cells** are the building blocks of a notebook.\n",
    "- Two main types:\n",
    "  - **Markdown cells** (rich text, explanations, links)\n",
    "  - **Code cells** (Python code, outputs appear below)\n",
    "- You can **add**, **delete**, **move** cells with the toolbar or keyboard shortcuts.\n",
    "\n",
    "> **Keyboard shortcuts**:  \n",
    "> - Add a new cell below: **B**  \n",
    "> - Change to Markdown: **M**  \n",
    "> - Change to Code: **Y**\n",
    "\n",
    "---\n",
    "\n",
    "## Running Cells\n",
    "To execute the current cell:\n",
    "\n",
    "1. Select it (click on it or use arrow keys).  \n",
    "2. Press **Shift + Enter**  \n",
    "   - The cell runs  \n",
    "   - Focus moves to the next cell  \n",
    "\n",
    "Or click the ▶️ **Run** button on the toolbar.\n",
    "\n",
    "> Notice the left margin:  \n",
    "> - Before running, it’s blank.  \n",
    "> - While running, you see `[ * ]`.  \n",
    "> - After running, you see `[1]`, `[2]`, etc., indicating execution order.\n",
    "\n",
    "---\n",
    "\n",
    "## The Kernel\n",
    "The **kernel** is the Python process that executes your code:\n",
    "- **Stateful**: remembers variables, imports, function definitions\n",
    "- You can **interrupt** (stop) a long-running cell, or **restart** to clear all memory  \n",
    "  (Menu → **Kernel → Restart Kernel**)\n",
    "\n",
    "> After a restart, you must run **all** previous cells again before later code will work.\n",
    "\n",
    "---\n"
   ],
   "id": "2ff75a12446dcb29"
  },
  {
   "metadata": {},
   "cell_type": "markdown",
   "source": [
    "## 1) Importing Libraries\n",
    "Below is a typical first code cell. We import libraries so we can use their functions."
   ],
   "id": "f2d94ff8803f0ee3"
  },
  {
   "metadata": {
    "ExecuteTime": {
     "end_time": "2025-07-16T06:50:43.832109Z",
     "start_time": "2025-07-16T06:50:41.406423Z"
    }
   },
   "cell_type": "code",
   "source": [
    "# Standard Python imports\n",
    "import os\n",
    "from pathlib import Path\n",
    "\n",
    "# Numerical / data libraries (you’ll see these in later notebooks)\n",
    "import numpy as np\n",
    "import pandas as pd"
   ],
   "id": "17ef9531590d2db9",
   "outputs": [],
   "execution_count": 2
  },
  {
   "metadata": {
    "ExecuteTime": {
     "end_time": "2025-07-16T06:50:48.989827Z",
     "start_time": "2025-07-16T06:50:48.986901Z"
    }
   },
   "cell_type": "code",
   "source": [
    "# Show versions so you know what you’re using\n",
    "print(\"Python:\", os.sys.version.split()[0])\n",
    "print(\"NumPy:\", np.__version__)\n",
    "print(\"Pandas:\", pd.__version__)"
   ],
   "id": "9185cfdc65577801",
   "outputs": [
    {
     "name": "stdout",
     "output_type": "stream",
     "text": [
      "Python: 3.11.13\n",
      "NumPy: 1.24.4\n",
      "Pandas: 2.2.1\n"
     ]
    }
   ],
   "execution_count": 3
  },
  {
   "metadata": {},
   "cell_type": "markdown",
   "source": [
    "## 2) Setting up your project path\n",
    "\n",
    "we keep all our notebooks and data in a project folder. to work with files reliably, we define a single variable, `PROJECT_ROOT`, that always points to the base folder:"
   ],
   "id": "e84d6615bf3e298c"
  },
  {
   "metadata": {
    "ExecuteTime": {
     "end_time": "2025-07-16T06:54:35.141493Z",
     "start_time": "2025-07-16T06:54:35.133386Z"
    }
   },
   "cell_type": "code",
   "source": [
    "# If you have a paths.py in the project root, you can do:\n",
    "from paths import PROJECT_ROOT\n",
    "\n",
    "print(\"Project root is:\", PROJECT_ROOT)"
   ],
   "id": "d0973586a9ae2370",
   "outputs": [
    {
     "name": "stdout",
     "output_type": "stream",
     "text": [
      "Project root is: /Users/macbook/CODE/DreaMS_MIMB\n"
     ]
    }
   ],
   "execution_count": 4
  },
  {
   "metadata": {},
   "cell_type": "markdown",
   "source": [
    "## 3) Loading a Data File (Example)\n",
    "\n",
    "Imagine you have a raw data file at data/rawfiles/sample.mzML.\n",
    "Here’s how you’d point to it and check it exists:"
   ],
   "id": "c34591749c097af6"
  },
  {
   "metadata": {
    "ExecuteTime": {
     "end_time": "2025-07-16T06:54:36.923770Z",
     "start_time": "2025-07-16T06:54:36.920986Z"
    }
   },
   "cell_type": "code",
   "source": [
    "# Define the path to an example file\n",
    "raw_mzml = PROJECT_ROOT / \"data\" / \"rawfiles\" / \"sample.mzML\"\n",
    "\n",
    "# Check it exists before trying to load\n",
    "if raw_mzml.exists():\n",
    "    print(\"Found raw file:\", raw_mzml)\n",
    "else:\n",
    "    print(\"⚠️ File not found! Please verify the path above.\")"
   ],
   "id": "8fa32f51d31859b1",
   "outputs": [
    {
     "name": "stdout",
     "output_type": "stream",
     "text": [
      "⚠️ File not found! Please verify the path above.\n"
     ]
    }
   ],
   "execution_count": 5
  },
  {
   "metadata": {},
   "cell_type": "markdown",
   "source": [
    "**Why?**\n",
    "Using a single PROJECT_ROOT variable means if you move the folder, you only update one place."
   ],
   "id": "ee6e926e88d7b541"
  },
  {
   "metadata": {},
   "cell_type": "markdown",
   "source": [
    "## 4) Running a Simple Processing Function\n",
    "\n",
    "Let’s say later notebooks use a function MSData.from_mzml(path).\n",
    "Here’s a mock example showing how it might work:"
   ],
   "id": "3463f99877ce5063"
  },
  {
   "metadata": {},
   "cell_type": "markdown",
   "source": "",
   "id": "9c18b07dd367fa76"
  },
  {
   "metadata": {
    "ExecuteTime": {
     "end_time": "2025-07-16T06:57:15.318394Z",
     "start_time": "2025-07-16T06:57:15.315239Z"
    }
   },
   "cell_type": "code",
   "source": [
    "# Mock of loading: replace with real import in later notebooks\n",
    "class MSData:\n",
    "    @staticmethod\n",
    "    def from_mzml(path):\n",
    "        print(f\"Pretending to load MS data from {path}\")\n",
    "        return {\"spectra_count\": 1234}\n",
    "\n",
    "# Run the mock loader\n",
    "msdata = MSData.from_mzml(raw_mzml)\n",
    "print(\"MSData loaded:\", msdata)"
   ],
   "id": "690001eecdad70e3",
   "outputs": [
    {
     "name": "stdout",
     "output_type": "stream",
     "text": [
      "Pretending to load MS data from /Users/macbook/CODE/DreaMS_MIMB/data/rawfiles/sample.mzML\n",
      "MSData loaded: {'spectra_count': 1234}\n"
     ]
    }
   ],
   "execution_count": 6
  },
  {
   "metadata": {},
   "cell_type": "markdown",
   "source": [
    "Common Gotchas\n",
    "\t•\tOut-of-order execution: If you run cell 7 before cell 3 (where variables are defined), you’ll get NameError.\n",
    "\t•\tKernel restarts: After restarting, all variables are gone—rerun from the top.\n",
    "\t•\tSaving: Jupyter autosaves, but it’s good to hit Ctrl + S (or File → Save and Checkpoint) before closing.\n",
    "\n",
    "\n"
   ],
   "id": "9a1e0ec03048a935"
  },
  {
   "metadata": {},
   "cell_type": "code",
   "outputs": [],
   "execution_count": null,
   "source": "",
   "id": "b853301ed14e20"
  },
  {
   "metadata": {},
   "cell_type": "code",
   "outputs": [],
   "execution_count": null,
   "source": "",
   "id": "1008b8e05cd90580"
  },
  {
   "metadata": {},
   "cell_type": "code",
   "outputs": [],
   "execution_count": null,
   "source": "",
   "id": "93402130195c0884"
  },
  {
   "metadata": {},
   "cell_type": "code",
   "outputs": [],
   "execution_count": null,
   "source": "",
   "id": "6df36bf64de75461"
  }
 ],
 "metadata": {
  "kernelspec": {
   "display_name": "Python 3",
   "language": "python",
   "name": "python3"
  },
  "language_info": {
   "codemirror_mode": {
    "name": "ipython",
    "version": 2
   },
   "file_extension": ".py",
   "mimetype": "text/x-python",
   "name": "python",
   "nbconvert_exporter": "python",
   "pygments_lexer": "ipython2",
   "version": "2.7.6"
  }
 },
 "nbformat": 4,
 "nbformat_minor": 5
}
