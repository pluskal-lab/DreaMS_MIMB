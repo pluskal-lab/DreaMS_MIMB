{
 "cells": [
  {
   "metadata": {},
   "cell_type": "markdown",
   "source": [
    "# 0. Tutorial: Introduction to Jupyter Notebooks\n",
    "\n",
    "Welcome! This is your **first stop** before diving into the main tutorials.  \n",
    "Here, you’ll get a quick hands-on introduction to Jupyter Notebooks, how they work, and how you’ll use them in this project.\n",
    "\n",
    "We’ll walk you through:\n",
    "- What a Jupyter notebook actually is\n",
    "- How to run code or text “cells” (using the ▶️ button or `Shift + Enter`)\n",
    "- What the “kernel” is and why it matters\n",
    "- Basic navigation, plus how to import libraries and set up your project folder for reliable data access\n",
    "- **We’ll also introduce the main data files you’ll be working with in this tutorial.**\n",
    "\n",
    "---\n",
    "\n",
    "## Notebook Interface: What You See\n",
    "\n",
    "When you launch JupyterLab (recommended) or the classic Jupyter Notebook, you’ll notice a few key parts:\n",
    "\n",
    "1. **File browser (left side):** Shows your folders and `.ipynb` files  \n",
    "2. **Menu bar (top):** With File, Edit, View, Run, Kernel, and other menus  \n",
    "3. **Toolbar:** Quick-access buttons for common actions:\n",
    "    - ▶️ **Run**: Runs the current cell.\n",
    "    - ✂️ **Cut**: Cuts the selected cell (removes it; you can paste it elsewhere).\n",
    "    - 🖉 **Edit**: Switches a cell into edit mode so you can change its contents.\n",
    "    - ➕ **Add Cell**: Adds a new cell below the current one.\n",
    "\n",
    "> *Tip:* Hover over any toolbar button to see a short description (“tooltip”) of what it does.\n",
    "\n",
    "---\n",
    "\n",
    "## What is a Cell?\n",
    "\n",
    "A notebook is built out of **cells**, think of each cell as a step or a thought.  \n",
    "There are two main types you’ll see:\n",
    "\n",
    "- **Markdown cells:** For text, explanations, formatting, and links (like this intro!)\n",
    "- **Code cells:** Where you write Python code, results appear just below each cell\n",
    "\n",
    "You can **add, delete, or move** cells using the toolbar buttons or keyboard shortcuts.\n",
    "\n",
    "> **Useful shortcuts (when in command mode):**  \n",
    "> - Add new cell below: **B**  \n",
    "> - Change a cell to Markdown: **M**  \n",
    "> - Change a cell to Code: **Y**  \n",
    ">   \n",
    "> *(If the shortcuts don’t seem to work, make sure you’re in \"command mode\":  \n",
    "> Click outside any text area (or press **Esc**), then press the shortcut key.)*\n",
    "\n",
    "---\n",
    "\n",
    "## How Do You Run a Cell?\n",
    "\n",
    "To execute (run) any cell:\n",
    "\n",
    "1. Click the cell (or use your arrow keys to move up/down)\n",
    "2. Press **Shift + Enter**\n",
    "   - The cell will run\n",
    "   - Focus moves to the next cell automatically\n",
    "\n",
    "You can also click the ▶️ **Run** button at the top.\n",
    "\n",
    "> **Look to the left of the cell:**  \n",
    "> - Before running: margin is empty  \n",
    "> - While running: you’ll see `[ * ]`  \n",
    "> - After running: you’ll see a number like `[1]`, `[2]`—this shows the order in which cells were run\n",
    "\n",
    "---\n",
    "\n",
    "## What’s the “Kernel”?\n",
    "\n",
    "The **kernel** is the engine behind the notebook—it runs your Python code and “remembers” everything (variables, imports, functions) while the notebook is open.\n",
    "\n",
    "- **Stateful:** Anything you run stays in memory until you restart the kernel.\n",
    "- **Interrupt:** If code gets stuck or takes too long, you can stop it.\n",
    "- **Restart:** If things get weird, or you want a clean slate, restart the kernel  \n",
    "  (Menu: **Kernel → Restart Kernel**)\n",
    "\n",
    "> **Important:** After restarting, you must re-run all earlier cells (from the top), so everything you need is back in memory.\n",
    "\n",
    "---"
   ],
   "id": "2ff75a12446dcb29"
  },
  {
   "metadata": {},
   "cell_type": "markdown",
   "source": [
    "## Quick hello-world demo\n",
    "Let’s practice running cells, step by step. Here’s a simple example that shows how different cells can work together:\n",
    "\n",
    "1. The first cell creates a variable called `greeting`.\n",
    "\n",
    "2. The second cell sets another variable called `target`.\n",
    "\n",
    "3. The third cell combines them and prints the message.\n",
    "\n",
    "Run each cell in order using `Shift + Enter` (or by clicking the ▶️ Run button at the top).  \n",
    "Make sure you start at the top and work your way down, each cell depends on the ones above!"
   ],
   "id": "e966eca059acb3e6"
  },
  {
   "metadata": {
    "ExecuteTime": {
     "end_time": "2025-07-16T12:33:56.324348Z",
     "start_time": "2025-07-16T12:33:56.317687Z"
    }
   },
   "cell_type": "code",
   "source": [
    "# cell 1: define a greeting\n",
    "greeting = \"Hello\""
   ],
   "id": "2815134d93e3186a",
   "outputs": [],
   "execution_count": 29
  },
  {
   "metadata": {
    "ExecuteTime": {
     "end_time": "2025-07-16T12:34:00.728928Z",
     "start_time": "2025-07-16T12:34:00.726856Z"
    }
   },
   "cell_type": "code",
   "source": [
    "# cell 2: define a target\n",
    "target = \"world\""
   ],
   "id": "a4b7506cf6ed794b",
   "outputs": [],
   "execution_count": 30
  },
  {
   "metadata": {
    "ExecuteTime": {
     "end_time": "2025-07-16T12:34:07.209634Z",
     "start_time": "2025-07-16T12:34:07.206171Z"
    }
   },
   "cell_type": "code",
   "source": [
    "# cell 3: combine and print\n",
    "print(greeting, target + \"!\")"
   ],
   "id": "91c6e9b484866e5",
   "outputs": [
    {
     "name": "stdout",
     "output_type": "stream",
     "text": [
      "Hello world!\n"
     ]
    }
   ],
   "execution_count": 31
  },
  {
   "metadata": {},
   "cell_type": "markdown",
   "source": [
    "You should see `Hello world!` appear below the third cell after you run it.\n",
    "> **Tip:** If you try to run the last cell before running the others, you’ll get an error because the variables haven’t been created yet.  \n",
    "> Always go from top to bottom, this is true for all the notebooks in this project!"
   ],
   "id": "3a1aaa4ff466987c"
  },
  {
   "metadata": {},
   "cell_type": "markdown",
   "source": [
    "## 1) Importing Libraries\n",
    "In Python, we use libraries (also called packages or modules) to give us extra functions—so we don’t have to write everything from scratch.\n",
    "\n",
    "The code below is a standard way to start many projects. Here’s what each line does:\n",
    "\n",
    "- `import os` and `from pathlib import Path`  \n",
    "  These let you work with files and folders on your computer in a way that works on Windows, Mac, and Linux.\n",
    "\n",
    "- `import numpy as np` and `import pandas as pd`  \n",
    "  These are the two most common libraries for working with numbers (numpy) and tables/data (pandas).  \n",
    "  (You’ll see them used often in later notebooks.)\n",
    "\n",
    "At the end, we print out which version of Python, NumPy, and Pandas you’re using.  \n",
    "This helps you (and anyone you share results with) keep track of your software setup."
   ],
   "id": "f2d94ff8803f0ee3"
  },
  {
   "metadata": {
    "ExecuteTime": {
     "end_time": "2025-07-16T11:47:59.081223Z",
     "start_time": "2025-07-16T11:47:58.637339Z"
    }
   },
   "cell_type": "code",
   "source": [
    "# Standard Python imports for handling files\n",
    "import os\n",
    "from pathlib import Path\n",
    "\n",
    "# Libraries for numbers and data tables\n",
    "import numpy as np\n",
    "import pandas as pd"
   ],
   "id": "17ef9531590d2db9",
   "outputs": [],
   "execution_count": 1
  },
  {
   "metadata": {
    "ExecuteTime": {
     "end_time": "2025-07-16T11:47:59.092564Z",
     "start_time": "2025-07-16T11:47:59.090313Z"
    }
   },
   "cell_type": "code",
   "source": [
    "# Show versions so you know exactly what you’re using\n",
    "print(\"Python:\", os.sys.version.split()[0])\n",
    "print(\"NumPy:\", np.__version__)\n",
    "print(\"Pandas:\", pd.__version__)"
   ],
   "id": "9185cfdc65577801",
   "outputs": [
    {
     "name": "stdout",
     "output_type": "stream",
     "text": [
      "Python: 3.11.13\n",
      "NumPy: 1.24.4\n",
      "Pandas: 2.2.1\n"
     ]
    }
   ],
   "execution_count": 2
  },
  {
   "metadata": {},
   "cell_type": "markdown",
   "source": [
    "> **Tip:**  \n",
    "> If you ever see a message like “ModuleNotFoundError”, it usually means a library isn’t installed or the environment isn’t activated.  \n",
    "> For this tutorial, everything should work right away if you followed the setup steps!"
   ],
   "id": "5413b2891cdb6b7d"
  },
  {
   "metadata": {},
   "cell_type": "markdown",
   "source": [
    "## 2) Setting up your project path\n",
    "\n",
    "To keep things organized, all notebooks and data for this project live in the same main folder—your project folder.\n",
    "\n",
    "Instead of writing out long or messy file paths everywhere, we use a shortcut: a variable called `PROJECT_ROOT`.  \n",
    "This always points to the base folder of the project, no matter where your code is running or what computer you use.\n",
    "\n",
    "**Why does this matter?**\n",
    "\n",
    "- Without a project root, you might need to write out the full, absolute path every time — like:  \n",
    "  `/Users/macbook/CODE/DreaMS_MIMB/data/myfile.csv`  \n",
    "  (This can break if you move the project, share it with a friend, or switch computers!)\n",
    "\n",
    "- With `PROJECT_ROOT`, you just build paths relative to the main folder, like:  \n",
    "  `PROJECT_ROOT / \"data\" / \"myfile.csv\"`  \n",
    "  (This always works, and keeps your code portable and much easier to read.)"
   ],
   "id": "e84d6615bf3e298c"
  },
  {
   "metadata": {
    "ExecuteTime": {
     "end_time": "2025-07-16T11:47:59.236762Z",
     "start_time": "2025-07-16T11:47:59.234017Z"
    }
   },
   "cell_type": "code",
   "source": [
    "# This imports the PROJECT_ROOT variable from the paths.py file in your project\n",
    "from paths import PROJECT_ROOT\n",
    "\n",
    "print(\"Project root is:\", PROJECT_ROOT)"
   ],
   "id": "d0973586a9ae2370",
   "outputs": [
    {
     "name": "stdout",
     "output_type": "stream",
     "text": [
      "Project root is: /Users/macbook/CODE/DreaMS_MIMB\n"
     ]
    }
   ],
   "execution_count": 3
  },
  {
   "metadata": {},
   "cell_type": "markdown",
   "source": "Now, whenever you need to open a file, you can build its path starting from PROJECT_ROOT, no need to worry about complicated folder names or breaking things if you move the project!",
   "id": "cf64e279c3ebfe21"
  },
  {
   "metadata": {},
   "cell_type": "markdown",
   "source": [
    "## Data Sources for this project\n",
    "\n",
    "All tutorials in this project use real experimental data from the study by Tito *et al.* (2025), which investigated the chemodiversity of alkaloids in *Piper fimbriulatum* using untargeted LC-MS/MS metabolomics and state-of-the-art computational tools  \n",
    "([bioRxiv, https://doi.org/10.1101/2024.12.10.627739](https://doi.org/10.1101/2024.12.10.627739)).\n",
    "\n",
    "We provide three main data files (all located in the `data/` folder of your project):\n",
    "\n",
    "1. **`Piper_data_smiles.csv`**  \n",
    "   Contains the SMILES strings (text representations of chemical structures) for the 23 reference molecules described in the study.  \n",
    "   These compounds were isolated and structurally confirmed, representing the diverse alkaloid scaffolds discovered in *P. fimbriulatum*.  \n",
    "   - For the full list of compounds, see **Table S1** in the Supplementary Information.\n",
    "\n",
    "2. **`Piper_sirius_matched_annotated.mgf`**  \n",
    "   This file contains annotated MS/MS spectra for the same 23 reference molecules, each spectrum linked to a specific, confirmed molecular structure.  \n",
    "   These spectra provide the **ground truth** for spectral library matching and downstream machine learning.\n",
    "\n",
    "3. **`Piper_sirius_all_annotated.mgf`**   \n",
    "   This is a superset of the second file—it includes the spectra for the 23 reference compounds **plus many additional**.  \n",
    "   All spectra in this file are high quality and most likely represent alkaloids.  \n",
    "   Only MS/MS spectra corresponding to features detected by **MZmine** and selected for **SIRIUS** annotation are included.  \n",
    "   For more information on selection and annotation, see the main paper and supplementary materials.\n",
    "\n",
    "---\n",
    "\n",
    "### Biological and Analytical Context\n",
    "\n",
    "- Samples were prepared from **leaf**, **stem**, and **root** extracts of *Piper fimbriulatum* collected at the **Prague Botanical Garden**.\n",
    "- **Untargeted LC-MS/MS** was used to profile specialized metabolites, with a focus on diverse **alkaloids**.\n",
    "\n",
    "All data files are already included in your `data/` folder.  \n",
    "**No need to download anything extra** all required files are ready to use."
   ],
   "id": "a5a4056c94d5dff7"
  },
  {
   "metadata": {
    "ExecuteTime": {
     "end_time": "2025-07-16T11:48:06.039567Z",
     "start_time": "2025-07-16T11:48:00.451060Z"
    }
   },
   "cell_type": "code",
   "source": "from dreams.utils.data import MSData",
   "id": "adf7d9e50cf2e578",
   "outputs": [
    {
     "name": "stderr",
     "output_type": "stream",
     "text": [
      "Determination of memory status is not supported on this \n",
      " platform, measuring for memoryleaks will never fail\n"
     ]
    }
   ],
   "execution_count": 4
  },
  {
   "metadata": {
    "ExecuteTime": {
     "end_time": "2025-07-16T11:48:06.044416Z",
     "start_time": "2025-07-16T11:48:06.042316Z"
    }
   },
   "cell_type": "code",
   "source": [
    "# define file paths\n",
    "smiles_csv = PROJECT_ROOT / \"data\" / \"Piper_data_smiles.csv\"\n",
    "matched_mgf = PROJECT_ROOT / \"data\" / \"Piper_sirius_matched_annotated.mgf\"\n",
    "all_mgf     = PROJECT_ROOT / \"data\" / \"Piper_sirius_all_annotated.mgf\"\n"
   ],
   "id": "50df342e047fe6a",
   "outputs": [],
   "execution_count": 5
  },
  {
   "metadata": {
    "ExecuteTime": {
     "end_time": "2025-07-16T11:48:06.060565Z",
     "start_time": "2025-07-16T11:48:06.051112Z"
    }
   },
   "cell_type": "code",
   "source": [
    "# load SMILES table\n",
    "df_smiles = pd.read_csv(smiles_csv)\n",
    "print(f\"loaded {len(df_smiles)} SMILES entries\")\n",
    "display(df_smiles.head())"
   ],
   "id": "8fa32f51d31859b1",
   "outputs": [
    {
     "name": "stdout",
     "output_type": "stream",
     "text": [
      "loaded 23 SMILES entries\n"
     ]
    },
    {
     "data": {
      "text/plain": [
       "   index                                         Name  \\\n",
       "0      1                               Piperlongumine   \n",
       "1      2                        Dihydropiperlongumine   \n",
       "2      3      1-(3,4,5-Trimethoxycinnamoyl)piperidine   \n",
       "3      4  1-(3,4,5-Trimethoxycinnamoyl)-3-piperideine   \n",
       "4      5                   3'-Demethoxypiperlongumine   \n",
       "\n",
       "                                              SMILES  MZmine ID  \n",
       "0            COc1cc(/C=C/C(=O)N2CCC=CC2=O)cc(OC)c1OC        452  \n",
       "1  [C]Oc1[c]c(/[C]=[C]/C(=O)N2[C][C][C][C]C2=O)[c...        463  \n",
       "2               COc1cc(/C=C/C(=O)N2CCCCC2)cc(OC)c1OC        458  \n",
       "3  [C]Oc1[c]c(/[C]=[C]/C(=O)N2[C][C][C]=[C][C]2)[...        503  \n",
       "4  [C]Oc1[c][c]c(/[C]=[C]/C(=O)N2[C][C][C]=[C]C2=...        406  "
      ],
      "text/html": [
       "<div>\n",
       "<style scoped>\n",
       "    .dataframe tbody tr th:only-of-type {\n",
       "        vertical-align: middle;\n",
       "    }\n",
       "\n",
       "    .dataframe tbody tr th {\n",
       "        vertical-align: top;\n",
       "    }\n",
       "\n",
       "    .dataframe thead th {\n",
       "        text-align: right;\n",
       "    }\n",
       "</style>\n",
       "<table border=\"1\" class=\"dataframe\">\n",
       "  <thead>\n",
       "    <tr style=\"text-align: right;\">\n",
       "      <th></th>\n",
       "      <th>index</th>\n",
       "      <th>Name</th>\n",
       "      <th>SMILES</th>\n",
       "      <th>MZmine ID</th>\n",
       "    </tr>\n",
       "  </thead>\n",
       "  <tbody>\n",
       "    <tr>\n",
       "      <th>0</th>\n",
       "      <td>1</td>\n",
       "      <td>Piperlongumine</td>\n",
       "      <td>COc1cc(/C=C/C(=O)N2CCC=CC2=O)cc(OC)c1OC</td>\n",
       "      <td>452</td>\n",
       "    </tr>\n",
       "    <tr>\n",
       "      <th>1</th>\n",
       "      <td>2</td>\n",
       "      <td>Dihydropiperlongumine</td>\n",
       "      <td>[C]Oc1[c]c(/[C]=[C]/C(=O)N2[C][C][C][C]C2=O)[c...</td>\n",
       "      <td>463</td>\n",
       "    </tr>\n",
       "    <tr>\n",
       "      <th>2</th>\n",
       "      <td>3</td>\n",
       "      <td>1-(3,4,5-Trimethoxycinnamoyl)piperidine</td>\n",
       "      <td>COc1cc(/C=C/C(=O)N2CCCCC2)cc(OC)c1OC</td>\n",
       "      <td>458</td>\n",
       "    </tr>\n",
       "    <tr>\n",
       "      <th>3</th>\n",
       "      <td>4</td>\n",
       "      <td>1-(3,4,5-Trimethoxycinnamoyl)-3-piperideine</td>\n",
       "      <td>[C]Oc1[c]c(/[C]=[C]/C(=O)N2[C][C][C]=[C][C]2)[...</td>\n",
       "      <td>503</td>\n",
       "    </tr>\n",
       "    <tr>\n",
       "      <th>4</th>\n",
       "      <td>5</td>\n",
       "      <td>3'-Demethoxypiperlongumine</td>\n",
       "      <td>[C]Oc1[c][c]c(/[C]=[C]/C(=O)N2[C][C][C]=[C]C2=...</td>\n",
       "      <td>406</td>\n",
       "    </tr>\n",
       "  </tbody>\n",
       "</table>\n",
       "</div>"
      ]
     },
     "metadata": {},
     "output_type": "display_data"
    }
   ],
   "execution_count": 6
  },
  {
   "metadata": {
    "ExecuteTime": {
     "end_time": "2025-07-16T11:48:06.128695Z",
     "start_time": "2025-07-16T11:48:06.080511Z"
    }
   },
   "cell_type": "code",
   "source": [
    "# load annotated spectra\n",
    "msdata_matched = MSData.load(\n",
    "    matched_mgf,\n",
    "    in_mem=True,\n",
    "    # override the precursor column name in the MGF metadata\n",
    "    prec_mz_col=\"PRECURSOR_MZ\"\n",
    ")"
   ],
   "id": "ad2ca77a0491abaf",
   "outputs": [
    {
     "name": "stdout",
     "output_type": "stream",
     "text": [
      "Loading dataset Piper_sirius_matched_annotated into memory (224 spectra)...\n"
     ]
    }
   ],
   "execution_count": 7
  },
  {
   "metadata": {
    "ExecuteTime": {
     "end_time": "2025-07-16T11:48:06.179611Z",
     "start_time": "2025-07-16T11:48:06.176561Z"
    }
   },
   "cell_type": "code",
   "source": "len(msdata_matched)",
   "id": "779ce0269bc40f5f",
   "outputs": [
    {
     "data": {
      "text/plain": [
       "224"
      ]
     },
     "execution_count": 8,
     "metadata": {},
     "output_type": "execute_result"
    }
   ],
   "execution_count": 8
  },
  {
   "metadata": {
    "ExecuteTime": {
     "end_time": "2025-07-16T11:49:02.914604Z",
     "start_time": "2025-07-16T11:49:02.845296Z"
    }
   },
   "cell_type": "code",
   "source": [
    "print(f\"msdata_matched: {msdata_matched}\")\n",
    "print(\"number of matched spectra:\", len(msdata_matched))\n",
    "print(\"first matched spectrum metadata:\", \n",
    "      msdata_matched.at(42, plot_spec=True, return_spec=False))"
   ],
   "id": "85f36fda4d667b85",
   "outputs": [
    {
     "name": "stdout",
     "output_type": "stream",
     "text": [
      "msdata_matched: MSData(pth=/Users/macbook/CODE/DreaMS_MIMB/data/Piper_sirius_matched_annotated.hdf5, in_mem=True) with 224 spectra.\n",
      "number of matched spectra: 224\n"
     ]
    },
    {
     "data": {
      "text/plain": [
       "<Figure size 600x200 with 1 Axes>"
      ],
      "image/png": "[encoded data removed]"
     },
     "metadata": {},
     "output_type": "display_data"
    },
    {
     "data": {
      "text/plain": [
       "<rdkit.Chem.rdchem.Mol at 0x345e48430>"
      ],
      "image/png": "[encoded data removed]"
     },
     "metadata": {},
     "output_type": "display_data"
    },
    {
     "name": "stdout",
     "output_type": "stream",
     "text": [
      "first matched spectrum metadata: {'COMPOUND_NAME': 'Magnocurarine', 'FEATURE_ID': 186, 'FILE_NAME': 'nan', 'FORMULA': 'C19H24NO3', 'INCHI': 'InChI=1S/C19H23NO3/c1-20(2)9-8-14-11-19(23-3)18(22)12-16(14)17(20)10-13-4-6-15(21)7-5-13/h4-7,11-12,17H,8-10H2,1-3H3,(H-,21,22)/p+1/t17-/m1/s1', 'INCHIKEY': 'CLWOXNLVWMXBRD-QGZVFWFLSA-O', 'MS_LEVEL': 2, 'NUM_PEAKS': 77, 'RETENTION_TIME': 233.46, 'SCANS': 186, 'SPECTYPE': 'nan', 'adduct': 'nan', 'charge': '1+', 'precursor_mz': 314.17549, 'smiles': 'COc1cc2c(cc1O)[C@@H](Cc1ccc(O)cc1)[N+](C)(C)CC2'}\n"
     ]
    }
   ],
   "execution_count": 16
  },
  {
   "metadata": {},
   "cell_type": "markdown",
   "source": [
    "## 3) load all spectra and show annotated vs. unannotated examples\n",
    "we’ll load the full MGF, then automatically pick one spectrum with a smiles string and one without, to highlight the difference."
   ],
   "id": "a4bba602d6ceff37"
  },
  {
   "metadata": {
    "ExecuteTime": {
     "end_time": "2025-07-16T11:48:07.243966Z",
     "start_time": "2025-07-16T11:48:06.457313Z"
    }
   },
   "cell_type": "code",
   "source": [
    "# 3) load all spectra (annotated + unannotated) via MSData.load\n",
    "msdata_all = MSData.load(\n",
    "    all_mgf,\n",
    "    in_mem=False,\n",
    "    prec_mz_col=\"PRECURSOR_MZ\"\n",
    ")\n"
   ],
   "id": "63322d779503e60e",
   "outputs": [],
   "execution_count": 10
  },
  {
   "metadata": {
    "ExecuteTime": {
     "end_time": "2025-07-16T11:58:17.665408Z",
     "start_time": "2025-07-16T11:58:17.655246Z"
    }
   },
   "cell_type": "code",
   "source": [
    "print(f\"msdata_all: {msdata_all}\")\n",
    "print(\"total spectra in full set:\", len(msdata_all))"
   ],
   "id": "b13002ec7941e229",
   "outputs": [
    {
     "name": "stdout",
     "output_type": "stream",
     "text": [
      "msdata_all: MSData(pth=/Users/macbook/CODE/DreaMS_MIMB/data/Piper_sirius_all_annotated.hdf5, in_mem=False) with 6,732 spectra.\n",
      "total spectra in full set: 6732\n"
     ]
    }
   ],
   "execution_count": 17
  },
  {
   "metadata": {
    "ExecuteTime": {
     "end_time": "2025-07-16T12:16:16.883550Z",
     "start_time": "2025-07-16T12:16:16.869949Z"
    }
   },
   "cell_type": "code",
   "source": [
    "# get all smiles (strings or maybe empty)\n",
    "smiles = msdata_all.get_smiles()"
   ],
   "id": "299364684236dc35",
   "outputs": [],
   "execution_count": 20
  },
  {
   "metadata": {
    "ExecuteTime": {
     "end_time": "2025-07-16T12:20:55.526608Z",
     "start_time": "2025-07-16T12:20:55.521276Z"
    }
   },
   "cell_type": "code",
   "source": [
    "# build index lists, treating \"None\" (string) as missing\n",
    "idx_with_smiles = [\n",
    "    i for i, s in enumerate(smiles)\n",
    "    if isinstance(s, str) and s.strip() not in (\"\", \"None\")\n",
    "]\n",
    "idx_without_smiles = [\n",
    "    i for i, s in enumerate(smiles)\n",
    "    if not (isinstance(s, str) and s.strip() not in (\"\", \"None\"))\n",
    "]\n"
   ],
   "id": "fce4b35d89a5a17f",
   "outputs": [],
   "execution_count": 24
  },
  {
   "metadata": {
    "ExecuteTime": {
     "end_time": "2025-07-16T12:21:03.889376Z",
     "start_time": "2025-07-16T12:21:03.886658Z"
    }
   },
   "cell_type": "code",
   "source": [
    "# check that we found examples\n",
    "print(f\"examples with smiles: {len(idx_with_smiles)}, without smiles: {len(idx_without_smiles)}\")"
   ],
   "id": "4d07a3dbd2982ae0",
   "outputs": [
    {
     "name": "stdout",
     "output_type": "stream",
     "text": [
      "examples with smiles: 224, without smiles: 6508\n"
     ]
    }
   ],
   "execution_count": 25
  },
  {
   "metadata": {
    "ExecuteTime": {
     "end_time": "2025-07-16T12:21:13.177281Z",
     "start_time": "2025-07-16T12:21:13.175343Z"
    }
   },
   "cell_type": "code",
   "source": [
    "# pick first of each (ensure lists are non-empty)\n",
    "i_with = idx_with_smiles[0]\n",
    "i_without = idx_without_smiles[0]"
   ],
   "id": "d9ac9521ea036992",
   "outputs": [],
   "execution_count": 26
  },
  {
   "metadata": {
    "ExecuteTime": {
     "end_time": "2025-07-16T12:21:21.821478Z",
     "start_time": "2025-07-16T12:21:21.518624Z"
    }
   },
   "cell_type": "code",
   "source": [
    "# plot annotated example\n",
    "print(f\"\\nplotting example with smiles (index {i_with}):\")\n",
    "msdata_all.at(i_with, plot_spec=True, plot_mol=True, return_spec=False)"
   ],
   "id": "106bc4ff24908acf",
   "outputs": [
    {
     "name": "stdout",
     "output_type": "stream",
     "text": [
      "\n",
      "plotting example with smiles (index 770):\n"
     ]
    },
    {
     "data": {
      "text/plain": [
       "<Figure size 600x200 with 1 Axes>"
      ],
      "image/png": "[encoded data removed]"
     },
     "metadata": {},
     "output_type": "display_data"
    },
    {
     "data": {
      "text/plain": [
       "<rdkit.Chem.rdchem.Mol at 0x345e48200>"
      ],
      "image/png": "[encoded data removed]"
     },
     "metadata": {},
     "output_type": "display_data"
    },
    {
     "data": {
      "text/plain": [
       "{'COMPOUND_NAME': 'N-dimethylhigenamine',\n",
       " 'FEATURE_ID': 123,\n",
       " 'FILE_NAME': 'nan',\n",
       " 'FORMULA': 'C18NO3',\n",
       " 'INCHI': 'InChI=1S/C18NO3/c1-19(2)8-7-13-10-17(21)18(22)11-15(13)16(19)9-12-3-5-14(20)6-4-12/q+1',\n",
       " 'INCHIKEY': 'MUGSOQSWHGYIMF-UHFFFAOYSA-N',\n",
       " 'MS_LEVEL': 1,\n",
       " 'NUM_PEAKS': 164,\n",
       " 'RETENTION_TIME': 186.5,\n",
       " 'SCANS': 123,\n",
       " 'SPECTYPE': 'nan',\n",
       " 'adduct': 'nan',\n",
       " 'charge': '1+',\n",
       " 'precursor_mz': 300.15989,\n",
       " 'smiles': '[C][N+]1([C])[C][C]c2[c]c([O])c([O])[c]c2[C]1[C]c1[c][c]c([O])[c][c]1'}"
      ]
     },
     "execution_count": 27,
     "metadata": {},
     "output_type": "execute_result"
    }
   ],
   "execution_count": 27
  },
  {
   "metadata": {
    "ExecuteTime": {
     "end_time": "2025-07-16T12:21:32.581723Z",
     "start_time": "2025-07-16T12:21:32.493773Z"
    }
   },
   "cell_type": "code",
   "source": [
    "# plot unannotated example\n",
    "print(f\"\\nplotting example without smiles (index {i_without}):\")\n",
    "msdata_all.at(i_without, plot_spec=True, plot_mol=True, return_spec=False)"
   ],
   "id": "2bf896b6a854cf5b",
   "outputs": [
    {
     "name": "stdout",
     "output_type": "stream",
     "text": [
      "\n",
      "plotting example without smiles (index 0):\n"
     ]
    },
    {
     "data": {
      "text/plain": [
       "<Figure size 600x200 with 1 Axes>"
      ],
      "image/png": "[encoded data removed]"
     },
     "metadata": {},
     "output_type": "display_data"
    },
    {
     "name": "stderr",
     "output_type": "stream",
     "text": [
      "[14:21:32] SMILES Parse Error: syntax error while parsing: None\n",
      "[14:21:32] SMILES Parse Error: Failed parsing SMILES 'None' for input: 'None'\n"
     ]
    },
    {
     "data": {
      "text/plain": [
       "None"
      ]
     },
     "metadata": {},
     "output_type": "display_data"
    },
    {
     "data": {
      "text/plain": [
       "{'COMPOUND_NAME': 'None',\n",
       " 'FEATURE_ID': 1,\n",
       " 'FILE_NAME': 'nan',\n",
       " 'FORMULA': 'None',\n",
       " 'INCHI': 'None',\n",
       " 'INCHIKEY': 'None',\n",
       " 'MS_LEVEL': 1,\n",
       " 'NUM_PEAKS': 353,\n",
       " 'RETENTION_TIME': 51.84,\n",
       " 'SCANS': 1,\n",
       " 'SPECTYPE': 'nan',\n",
       " 'adduct': 'nan',\n",
       " 'charge': '1+',\n",
       " 'precursor_mz': 235.95248,\n",
       " 'smiles': 'None'}"
      ]
     },
     "execution_count": 28,
     "metadata": {},
     "output_type": "execute_result"
    }
   ],
   "execution_count": 28
  },
  {
   "metadata": {},
   "cell_type": "markdown",
   "source": [
    "Common Gotchas\n",
    "\t•\tOut-of-order execution: If you run cell 7 before cell 3 (where variables are defined), you’ll get NameError.\n",
    "\t•\tKernel restarts: After restarting, all variables are gone—rerun from the top.\n",
    "\t•\tSaving: Jupyter autosaves, but it’s good to hit Ctrl + S (or File → Save and Checkpoint) before closing.\n",
    "\n",
    "\n"
   ],
   "id": "9a1e0ec03048a935"
  },
  {
   "metadata": {},
   "cell_type": "code",
   "outputs": [],
   "execution_count": null,
   "source": "",
   "id": "b853301ed14e20"
  },
  {
   "metadata": {},
   "cell_type": "code",
   "outputs": [],
   "execution_count": null,
   "source": "",
   "id": "1008b8e05cd90580"
  },
  {
   "metadata": {},
   "cell_type": "code",
   "outputs": [],
   "execution_count": null,
   "source": "",
   "id": "93402130195c0884"
  },
  {
   "metadata": {},
   "cell_type": "code",
   "outputs": [],
   "execution_count": null,
   "source": "",
   "id": "6df36bf64de75461"
  }
 ],
 "metadata": {
  "kernelspec": {
   "display_name": "Python 3",
   "language": "python",
   "name": "python3"
  },
  "language_info": {
   "codemirror_mode": {
    "name": "ipython",
    "version": 2
   },
   "file_extension": ".py",
   "mimetype": "text/x-python",
   "name": "python",
   "nbconvert_exporter": "python",
   "pygments_lexer": "ipython2",
   "version": "2.7.6"
  }
 },
 "nbformat": 4,
 "nbformat_minor": 5
}
