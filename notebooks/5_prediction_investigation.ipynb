{
 "cells": [
  {
   "metadata": {
    "ExecuteTime": {
     "end_time": "2025-07-08T15:55:08.944999Z",
     "start_time": "2025-07-08T15:55:08.941369Z"
    }
   },
   "cell_type": "code",
   "source": [
    "import sys\n",
    "from pathlib import Path"
   ],
   "id": "ef92e0d5637a0629",
   "outputs": [],
   "execution_count": 1
  },
  {
   "metadata": {
    "ExecuteTime": {
     "end_time": "2025-07-08T15:55:09.777365Z",
     "start_time": "2025-07-08T15:55:09.773864Z"
    }
   },
   "cell_type": "code",
   "source": [
    "sys.path.append(str(Path().resolve().parent))\n",
    "from paths import PROJECT_ROOT"
   ],
   "id": "eac8d99ed415697c",
   "outputs": [],
   "execution_count": 2
  },
  {
   "cell_type": "code",
   "id": "initial_id",
   "metadata": {
    "collapsed": true,
    "ExecuteTime": {
     "end_time": "2025-07-08T16:06:12.966889Z",
     "start_time": "2025-07-08T16:06:12.964946Z"
    }
   },
   "source": [
    "import torch\n",
    "import pandas as pd\n",
    "import numpy as np\n",
    "from dreams.utils.data import MSData\n",
    "from benchmark.models.lit_binary_classifier import LitBinaryClassifier"
   ],
   "outputs": [],
   "execution_count": 11
  },
  {
   "metadata": {
    "ExecuteTime": {
     "end_time": "2025-07-08T16:05:22.980311Z",
     "start_time": "2025-07-08T16:05:22.975358Z"
    }
   },
   "cell_type": "code",
   "source": [
    "# 1) Paths\n",
    "CKPT       = PROJECT_ROOT / \"notebooks\" / \"dreams_chlorine_finetuned.ckpt\"\n",
    "HDF5_PTH   = PROJECT_ROOT / \"data\" / \"rawfiles\" / \"202312_20_P09-Leaf-r1_1uL_high_quality_dedup.hdf5\""
   ],
   "id": "19fb99a7e3a6c3ae",
   "outputs": [],
   "execution_count": 8
  },
  {
   "metadata": {
    "ExecuteTime": {
     "end_time": "2025-07-08T16:24:25.326515Z",
     "start_time": "2025-07-08T16:24:22.070902Z"
    }
   },
   "cell_type": "code",
   "source": [
    "# 2) Load model (and move to GPU if available)\n",
    "device = torch.device(\"cuda\" if torch.cuda.is_available() else \"cpu\")\n",
    "model = LitBinaryClassifier.load_from_checkpoint(str(CKPT), map_location=\"cpu\").to(device)\n",
    "model.eval()\n"
   ],
   "id": "bf9c417634be8ef9",
   "outputs": [
    {
     "data": {
      "text/plain": [
       "LitBinaryClassifier(\n",
       "  (model): DreamsClassifier(\n",
       "    (spec_encoder): DreaMS(\n",
       "      (fourier_enc): FourierFeatures()\n",
       "      (ff_fourier): FeedForward(\n",
       "        (ff): Sequential(\n",
       "          (0): Linear(in_features=11994, out_features=512, bias=True)\n",
       "          (1): Dropout(p=0.1, inplace=False)\n",
       "          (2): ReLU()\n",
       "          (3): Linear(in_features=512, out_features=512, bias=True)\n",
       "          (4): Dropout(p=0.1, inplace=False)\n",
       "          (5): ReLU()\n",
       "          (6): Linear(in_features=512, out_features=512, bias=True)\n",
       "          (7): Dropout(p=0.1, inplace=False)\n",
       "          (8): ReLU()\n",
       "          (9): Linear(in_features=512, out_features=512, bias=True)\n",
       "          (10): Dropout(p=0.1, inplace=False)\n",
       "          (11): ReLU()\n",
       "          (12): Linear(in_features=512, out_features=980, bias=True)\n",
       "          (13): ReLU()\n",
       "        )\n",
       "      )\n",
       "      (ff_peak): FeedForward(\n",
       "        (ff): Sequential(\n",
       "          (0): Linear(in_features=2, out_features=44, bias=True)\n",
       "          (1): ReLU()\n",
       "        )\n",
       "      )\n",
       "      (transformer_encoder): TransformerEncoder(\n",
       "        (atts): ModuleList(\n",
       "          (0-6): 7 x MultiheadAttention()\n",
       "        )\n",
       "        (ffs): ModuleList(\n",
       "          (0-6): 7 x FeedForward(\n",
       "            (in_proj): Linear(in_features=1024, out_features=4096, bias=False)\n",
       "            (out_proj): Linear(in_features=4096, out_features=1024, bias=False)\n",
       "          )\n",
       "        )\n",
       "        (scales): ModuleList(\n",
       "          (0-14): 15 x LayerNorm((1024,), eps=1e-05, elementwise_affine=True)\n",
       "        )\n",
       "      )\n",
       "    )\n",
       "    (dropout): Dropout(p=0.1, inplace=False)\n",
       "    (lin_out): Linear(in_features=1024, out_features=1, bias=True)\n",
       "  )\n",
       "  (train_bal_acc): BinaryAccuracy()\n",
       "  (val_bal_acc): BinaryAccuracy()\n",
       "  (val_auc): BinaryAUROC()\n",
       "  (val_pr): BinaryAveragePrecision()\n",
       "  (val_f1): BinaryF1Score()\n",
       ")"
      ]
     },
     "execution_count": 20,
     "metadata": {},
     "output_type": "execute_result"
    }
   ],
   "execution_count": 20
  },
  {
   "metadata": {
    "ExecuteTime": {
     "end_time": "2025-07-08T16:24:41.007891Z",
     "start_time": "2025-07-08T16:24:40.996890Z"
    }
   },
   "cell_type": "code",
   "source": [
    "# 3) Load MSData\n",
    "msdata = MSData.from_hdf5(str(HDF5_PTH), in_mem=False)"
   ],
   "id": "8d7cc60d8324c9d9",
   "outputs": [],
   "execution_count": 21
  },
  {
   "metadata": {
    "ExecuteTime": {
     "end_time": "2025-07-08T16:14:12.598280Z",
     "start_time": "2025-07-08T16:14:12.589477Z"
    }
   },
   "cell_type": "code",
   "source": [
    "# 4) Pull out everything\n",
    "spectra_list  = msdata.get_values(\"spectrum\")      # list of (2, n_peaks)\n",
    "spectra_arr   = np.stack(spectra_list, axis=0)     # → (N, 2, n_peaks)\n",
    "# **permute** so the model sees (N, n_peaks, 2)\n",
    "spectra_arr   = spectra_arr.transpose(0, 2, 1)    # → (N, n_peaks, 2)\n",
    "\n",
    "prec_mzs      = msdata.get_values(\"precursor_mz\")\n",
    "file_names    = msdata.get_values(\"file_name\")\n",
    "scan_numbers  = msdata.get_values(\"scan_number\")\n",
    "ids           = [f\"{fn}:{sn}\" for fn, sn in zip(file_names, scan_numbers)]"
   ],
   "id": "541b522329f788e2",
   "outputs": [],
   "execution_count": 16
  },
  {
   "metadata": {
    "ExecuteTime": {
     "end_time": "2025-07-08T16:26:24.582314Z",
     "start_time": "2025-07-08T16:26:24.579095Z"
    }
   },
   "cell_type": "code",
   "source": "from torch.utils.data import TensorDataset, DataLoader",
   "id": "22bf825e0adb5291",
   "outputs": [],
   "execution_count": 24
  },
  {
   "metadata": {
    "ExecuteTime": {
     "end_time": "2025-07-08T16:26:24.933867Z",
     "start_time": "2025-07-08T16:26:24.930908Z"
    }
   },
   "cell_type": "code",
   "source": [
    "# 5) To torch\n",
    "spec_tensor = torch.from_numpy(spectra_arr).float()\n",
    "dataset      = TensorDataset(spec_tensor)  # no labels needed here\n",
    "loader       = DataLoader(dataset, batch_size=64, shuffle=False)"
   ],
   "id": "e881666fdc50cc54",
   "outputs": [],
   "execution_count": 25
  },
  {
   "metadata": {
    "ExecuteTime": {
     "end_time": "2025-07-08T16:27:12.623154Z",
     "start_time": "2025-07-08T16:26:25.285728Z"
    }
   },
   "cell_type": "code",
   "source": [
    "# 6) Inference in batches\n",
    "all_probs = []\n",
    "with torch.no_grad():\n",
    "    for (batch_spec,) in loader:\n",
    "        batch_spec = batch_spec.to(device)\n",
    "        logits     = model(batch_spec)\n",
    "        probs      = torch.sigmoid(logits).cpu()\n",
    "        all_probs.append(probs)\n"
   ],
   "id": "619d837cac35e499",
   "outputs": [],
   "execution_count": 26
  },
  {
   "metadata": {
    "ExecuteTime": {
     "end_time": "2025-07-08T16:28:42.037129Z",
     "start_time": "2025-07-08T16:28:42.034125Z"
    }
   },
   "cell_type": "code",
   "source": "all_probs = torch.cat(all_probs).numpy()",
   "id": "5660f0387c6c9e07",
   "outputs": [],
   "execution_count": 27
  },
  {
   "metadata": {
    "ExecuteTime": {
     "end_time": "2025-07-08T16:28:52.930750Z",
     "start_time": "2025-07-08T16:28:52.884898Z"
    }
   },
   "cell_type": "code",
   "source": [
    "# 7) Assemble DataFrame & pick top‐k\n",
    "df = pd.DataFrame({\n",
    "    \"id\":                   ids,\n",
    "    \"precursor_mz\":         prec_mzs,\n",
    "    \"chlorine_confidence\":  all_probs\n",
    "})\n",
    "top10 = (\n",
    "    df[df[\"chlorine_confidence\"] > 0.5]\n",
    "      .sort_values(\"chlorine_confidence\", ascending=False)\n",
    "      .head(10)\n",
    "      .reset_index(drop=True)\n",
    ")"
   ],
   "id": "d15faa9305f58a04",
   "outputs": [],
   "execution_count": 28
  },
  {
   "metadata": {},
   "cell_type": "code",
   "outputs": [],
   "execution_count": null,
   "source": "",
   "id": "4fa9ac8d899b44aa"
  },
  {
   "metadata": {
    "ExecuteTime": {
     "end_time": "2025-07-08T16:29:03.116230Z",
     "start_time": "2025-07-08T16:29:03.112743Z"
    }
   },
   "cell_type": "code",
   "source": "print(top10)",
   "id": "e2e6c39ff78d9eac",
   "outputs": [
    {
     "name": "stdout",
     "output_type": "stream",
     "text": [
      "                                    id  precursor_mz  chlorine_confidence\n",
      "0  202312_20_P09-Leaf-r1_1uL.mzML:2920    718.323425             0.600898\n",
      "1  202312_20_P09-Leaf-r1_1uL.mzML:2806    723.350830             0.600882\n",
      "2  202312_20_P09-Leaf-r1_1uL.mzML:2491    344.222412             0.600880\n",
      "3  202312_20_P09-Leaf-r1_1uL.mzML:2807    362.179077             0.600870\n",
      "4  202312_20_P09-Leaf-r1_1uL.mzML:1534    344.186005             0.600864\n",
      "5  202312_20_P09-Leaf-r1_1uL.mzML:2066    764.408752             0.600862\n",
      "6  202312_20_P09-Leaf-r1_1uL.mzML:2516    344.222961             0.600859\n",
      "7  202312_20_P09-Leaf-r1_1uL.mzML:3660    221.080948             0.600859\n",
      "8  202312_20_P09-Leaf-r1_1uL.mzML:2182    415.210632             0.600856\n",
      "9  202312_20_P09-Leaf-r1_1uL.mzML:1412    317.184143             0.600853\n"
     ]
    }
   ],
   "execution_count": 29
  },
  {
   "metadata": {},
   "cell_type": "code",
   "outputs": [],
   "execution_count": null,
   "source": "",
   "id": "f9d6c8372c06f054"
  }
 ],
 "metadata": {
  "kernelspec": {
   "display_name": "Python 3",
   "language": "python",
   "name": "python3"
  },
  "language_info": {
   "codemirror_mode": {
    "name": "ipython",
    "version": 2
   },
   "file_extension": ".py",
   "mimetype": "text/x-python",
   "name": "python",
   "nbconvert_exporter": "python",
   "pygments_lexer": "ipython2",
   "version": "2.7.6"
  }
 },
 "nbformat": 4,
 "nbformat_minor": 5
}
